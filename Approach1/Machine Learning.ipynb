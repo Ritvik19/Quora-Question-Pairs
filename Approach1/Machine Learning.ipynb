{
 "cells": [
  {
   "cell_type": "code",
   "execution_count": 1,
   "metadata": {
    "ExecuteTime": {
     "end_time": "2020-03-02T17:02:54.245935Z",
     "start_time": "2020-03-02T17:02:52.911506Z"
    }
   },
   "outputs": [],
   "source": [
    "import numpy as np\n",
    "import pandas as pd"
   ]
  },
  {
   "cell_type": "code",
   "execution_count": 2,
   "metadata": {
    "ExecuteTime": {
     "end_time": "2020-03-02T17:02:55.744953Z",
     "start_time": "2020-03-02T17:02:54.248928Z"
    }
   },
   "outputs": [],
   "source": [
    "train = pd.read_csv('../[Data]-Quora-Question-Pairs/train_feats.csv')"
   ]
  },
  {
   "cell_type": "code",
   "execution_count": 3,
   "metadata": {
    "ExecuteTime": {
     "end_time": "2020-03-02T17:02:55.787847Z",
     "start_time": "2020-03-02T17:02:55.747927Z"
    }
   },
   "outputs": [
    {
     "data": {
      "text/html": [
       "<div>\n",
       "<style scoped>\n",
       "    .dataframe tbody tr th:only-of-type {\n",
       "        vertical-align: middle;\n",
       "    }\n",
       "\n",
       "    .dataframe tbody tr th {\n",
       "        vertical-align: top;\n",
       "    }\n",
       "\n",
       "    .dataframe thead th {\n",
       "        text-align: right;\n",
       "    }\n",
       "</style>\n",
       "<table border=\"1\" class=\"dataframe\">\n",
       "  <thead>\n",
       "    <tr style=\"text-align: right;\">\n",
       "      <th></th>\n",
       "      <th>question1</th>\n",
       "      <th>question2</th>\n",
       "      <th>is_duplicate</th>\n",
       "      <th>Jaccard</th>\n",
       "      <th>Fuzz Ratio</th>\n",
       "      <th>Fuzz WRatio</th>\n",
       "      <th>Fuzz QRatio</th>\n",
       "      <th>Fuzz Partial Ratio</th>\n",
       "      <th>Fuzz Token Sort Ratio</th>\n",
       "      <th>Fuzz Token Set Ratio</th>\n",
       "      <th>CosineTFIDF</th>\n",
       "      <th>CosineBin</th>\n",
       "    </tr>\n",
       "  </thead>\n",
       "  <tbody>\n",
       "    <tr>\n",
       "      <td>0</td>\n",
       "      <td>step step guide invest share market india</td>\n",
       "      <td>step step guide invest share market</td>\n",
       "      <td>0</td>\n",
       "      <td>83.333333</td>\n",
       "      <td>92</td>\n",
       "      <td>95</td>\n",
       "      <td>92</td>\n",
       "      <td>100</td>\n",
       "      <td>92</td>\n",
       "      <td>100</td>\n",
       "      <td>0.946475</td>\n",
       "      <td>0.912871</td>\n",
       "    </tr>\n",
       "    <tr>\n",
       "      <td>1</td>\n",
       "      <td>story kohinoor koh noor diamond</td>\n",
       "      <td>happen indian government stole kohinoor koh no...</td>\n",
       "      <td>0</td>\n",
       "      <td>44.444444</td>\n",
       "      <td>67</td>\n",
       "      <td>86</td>\n",
       "      <td>67</td>\n",
       "      <td>94</td>\n",
       "      <td>67</td>\n",
       "      <td>89</td>\n",
       "      <td>0.658507</td>\n",
       "      <td>0.602464</td>\n",
       "    </tr>\n",
       "    <tr>\n",
       "      <td>2</td>\n",
       "      <td>increase speed internet connection using vpn</td>\n",
       "      <td>internet speed increased hacking dns</td>\n",
       "      <td>0</td>\n",
       "      <td>22.222222</td>\n",
       "      <td>55</td>\n",
       "      <td>62</td>\n",
       "      <td>55</td>\n",
       "      <td>46</td>\n",
       "      <td>65</td>\n",
       "      <td>65</td>\n",
       "      <td>0.119545</td>\n",
       "      <td>0.227921</td>\n",
       "    </tr>\n",
       "    <tr>\n",
       "      <td>3</td>\n",
       "      <td>mentally lonely solve</td>\n",
       "      <td>remainder math math divided</td>\n",
       "      <td>0</td>\n",
       "      <td>0.000000</td>\n",
       "      <td>25</td>\n",
       "      <td>27</td>\n",
       "      <td>25</td>\n",
       "      <td>29</td>\n",
       "      <td>25</td>\n",
       "      <td>28</td>\n",
       "      <td>0.000000</td>\n",
       "      <td>0.000000</td>\n",
       "    </tr>\n",
       "    <tr>\n",
       "      <td>4</td>\n",
       "      <td>dissolve water quikly sugar salt methane carbo...</td>\n",
       "      <td>fish survive salt water</td>\n",
       "      <td>0</td>\n",
       "      <td>20.000000</td>\n",
       "      <td>29</td>\n",
       "      <td>86</td>\n",
       "      <td>29</td>\n",
       "      <td>57</td>\n",
       "      <td>47</td>\n",
       "      <td>61</td>\n",
       "      <td>0.103536</td>\n",
       "      <td>0.210819</td>\n",
       "    </tr>\n",
       "  </tbody>\n",
       "</table>\n",
       "</div>"
      ],
      "text/plain": [
       "                                           question1  \\\n",
       "0          step step guide invest share market india   \n",
       "1                    story kohinoor koh noor diamond   \n",
       "2       increase speed internet connection using vpn   \n",
       "3                              mentally lonely solve   \n",
       "4  dissolve water quikly sugar salt methane carbo...   \n",
       "\n",
       "                                           question2  is_duplicate    Jaccard  \\\n",
       "0                step step guide invest share market             0  83.333333   \n",
       "1  happen indian government stole kohinoor koh no...             0  44.444444   \n",
       "2               internet speed increased hacking dns             0  22.222222   \n",
       "3                        remainder math math divided             0   0.000000   \n",
       "4                            fish survive salt water             0  20.000000   \n",
       "\n",
       "   Fuzz Ratio  Fuzz WRatio  Fuzz QRatio  Fuzz Partial Ratio  \\\n",
       "0          92           95           92                 100   \n",
       "1          67           86           67                  94   \n",
       "2          55           62           55                  46   \n",
       "3          25           27           25                  29   \n",
       "4          29           86           29                  57   \n",
       "\n",
       "   Fuzz Token Sort Ratio  Fuzz Token Set Ratio  CosineTFIDF  CosineBin  \n",
       "0                     92                   100     0.946475   0.912871  \n",
       "1                     67                    89     0.658507   0.602464  \n",
       "2                     65                    65     0.119545   0.227921  \n",
       "3                     25                    28     0.000000   0.000000  \n",
       "4                     47                    61     0.103536   0.210819  "
      ]
     },
     "execution_count": 3,
     "metadata": {},
     "output_type": "execute_result"
    }
   ],
   "source": [
    "train.head()"
   ]
  },
  {
   "cell_type": "code",
   "execution_count": 4,
   "metadata": {
    "ExecuteTime": {
     "end_time": "2020-03-02T17:02:56.665664Z",
     "start_time": "2020-03-02T17:02:55.791804Z"
    }
   },
   "outputs": [],
   "source": [
    "from sklearn.model_selection import train_test_split\n",
    "from sklearn.metrics import confusion_matrix, classification_report"
   ]
  },
  {
   "cell_type": "code",
   "execution_count": 5,
   "metadata": {
    "ExecuteTime": {
     "end_time": "2020-03-02T17:02:56.795315Z",
     "start_time": "2020-03-02T17:02:56.667657Z"
    }
   },
   "outputs": [],
   "source": [
    "X_train, X_test, y_train, y_test = train_test_split(train.drop(['question1', 'question2', 'is_duplicate'], axis=1),\n",
    "                                                    train['is_duplicate'], test_size=0.3)"
   ]
  },
  {
   "cell_type": "code",
   "execution_count": 6,
   "metadata": {
    "ExecuteTime": {
     "end_time": "2020-03-02T17:02:56.950961Z",
     "start_time": "2020-03-02T17:02:56.798308Z"
    }
   },
   "outputs": [],
   "source": [
    "from sklearn.linear_model import SGDClassifier, LogisticRegression"
   ]
  },
  {
   "cell_type": "markdown",
   "metadata": {},
   "source": [
    "# SGD Classifier \n",
    "with loss=log"
   ]
  },
  {
   "cell_type": "code",
   "execution_count": 7,
   "metadata": {
    "ExecuteTime": {
     "end_time": "2020-03-02T17:02:57.917592Z",
     "start_time": "2020-03-02T17:02:56.952895Z"
    }
   },
   "outputs": [
    {
     "name": "stderr",
     "output_type": "stream",
     "text": [
      "D:\\Users\\Ritvik\\Anaconda3\\envs\\datascience\\lib\\site-packages\\sklearn\\linear_model\\stochastic_gradient.py:166: FutureWarning: max_iter and tol parameters have been added in SGDClassifier in 0.19. If both are left unset, they default to max_iter=5 and tol=None. If tol is not None, max_iter defaults to max_iter=1000. From 0.21, default max_iter will be 1000, and default tol will be 1e-3.\n",
      "  FutureWarning)\n"
     ]
    },
    {
     "name": "stdout",
     "output_type": "stream",
     "text": [
      "[[73607 40140]\n",
      " [ 2749  4791]]\n",
      "              precision    recall  f1-score   support\n",
      "\n",
      "           0       0.96      0.65      0.77    113747\n",
      "           1       0.11      0.64      0.18      7540\n",
      "\n",
      "   micro avg       0.65      0.65      0.65    121287\n",
      "   macro avg       0.54      0.64      0.48    121287\n",
      "weighted avg       0.91      0.65      0.74    121287\n",
      "\n"
     ]
    }
   ],
   "source": [
    "model = SGDClassifier(loss='log')\n",
    "model.fit(X_train, y_train)\n",
    "y_pred = model.predict(X_test)\n",
    "print(confusion_matrix(y_pred, y_test))\n",
    "print(classification_report(y_pred, y_test))"
   ]
  },
  {
   "cell_type": "markdown",
   "metadata": {},
   "source": [
    "# SGD Classifier \n",
    "with loss=hinge"
   ]
  },
  {
   "cell_type": "code",
   "execution_count": 8,
   "metadata": {
    "ExecuteTime": {
     "end_time": "2020-03-02T17:02:58.650632Z",
     "start_time": "2020-03-02T17:02:57.922580Z"
    }
   },
   "outputs": [
    {
     "name": "stderr",
     "output_type": "stream",
     "text": [
      "D:\\Users\\Ritvik\\Anaconda3\\envs\\datascience\\lib\\site-packages\\sklearn\\linear_model\\stochastic_gradient.py:166: FutureWarning: max_iter and tol parameters have been added in SGDClassifier in 0.19. If both are left unset, they default to max_iter=5 and tol=None. If tol is not None, max_iter defaults to max_iter=1000. From 0.21, default max_iter will be 1000, and default tol will be 1e-3.\n",
      "  FutureWarning)\n"
     ]
    },
    {
     "name": "stdout",
     "output_type": "stream",
     "text": [
      "[[44022  8531]\n",
      " [32334 36400]]\n",
      "              precision    recall  f1-score   support\n",
      "\n",
      "           0       0.58      0.84      0.68     52553\n",
      "           1       0.81      0.53      0.64     68734\n",
      "\n",
      "   micro avg       0.66      0.66      0.66    121287\n",
      "   macro avg       0.69      0.68      0.66    121287\n",
      "weighted avg       0.71      0.66      0.66    121287\n",
      "\n"
     ]
    }
   ],
   "source": [
    "model = SGDClassifier(loss='hinge')\n",
    "model.fit(X_train, y_train)\n",
    "y_pred = model.predict(X_test)\n",
    "print(confusion_matrix(y_pred, y_test))\n",
    "print(classification_report(y_pred, y_test))"
   ]
  },
  {
   "cell_type": "markdown",
   "metadata": {},
   "source": [
    "# Logistic Regression"
   ]
  },
  {
   "cell_type": "code",
   "execution_count": 9,
   "metadata": {
    "ExecuteTime": {
     "end_time": "2020-03-02T17:03:09.555461Z",
     "start_time": "2020-03-02T17:02:58.655622Z"
    }
   },
   "outputs": [
    {
     "name": "stderr",
     "output_type": "stream",
     "text": [
      "D:\\Users\\Ritvik\\Anaconda3\\envs\\datascience\\lib\\site-packages\\sklearn\\linear_model\\logistic.py:433: FutureWarning: Default solver will be changed to 'lbfgs' in 0.22. Specify a solver to silence this warning.\n",
      "  FutureWarning)\n"
     ]
    },
    {
     "name": "stdout",
     "output_type": "stream",
     "text": [
      "[[59264 21216]\n",
      " [17092 23715]]\n",
      "              precision    recall  f1-score   support\n",
      "\n",
      "           0       0.78      0.74      0.76     80480\n",
      "           1       0.53      0.58      0.55     40807\n",
      "\n",
      "   micro avg       0.68      0.68      0.68    121287\n",
      "   macro avg       0.65      0.66      0.65    121287\n",
      "weighted avg       0.69      0.68      0.69    121287\n",
      "\n"
     ]
    }
   ],
   "source": [
    "model = LogisticRegression()\n",
    "model.fit(X_train, y_train)\n",
    "y_pred = model.predict(X_test)\n",
    "print(confusion_matrix(y_pred, y_test))\n",
    "print(classification_report(y_pred, y_test))"
   ]
  },
  {
   "cell_type": "code",
   "execution_count": null,
   "metadata": {},
   "outputs": [],
   "source": []
  },
  {
   "cell_type": "code",
   "execution_count": null,
   "metadata": {},
   "outputs": [],
   "source": []
  }
 ],
 "metadata": {
  "kernelspec": {
   "display_name": "Python 3",
   "language": "python",
   "name": "python3"
  },
  "language_info": {
   "codemirror_mode": {
    "name": "ipython",
    "version": 3
   },
   "file_extension": ".py",
   "mimetype": "text/x-python",
   "name": "python",
   "nbconvert_exporter": "python",
   "pygments_lexer": "ipython3",
   "version": "3.7.3"
  },
  "toc": {
   "base_numbering": 1,
   "nav_menu": {},
   "number_sections": true,
   "sideBar": true,
   "skip_h1_title": false,
   "title_cell": "Table of Contents",
   "title_sidebar": "Contents",
   "toc_cell": false,
   "toc_position": {},
   "toc_section_display": true,
   "toc_window_display": false
  },
  "varInspector": {
   "cols": {
    "lenName": 16,
    "lenType": 16,
    "lenVar": 40
   },
   "kernels_config": {
    "python": {
     "delete_cmd_postfix": "",
     "delete_cmd_prefix": "del ",
     "library": "var_list.py",
     "varRefreshCmd": "print(var_dic_list())"
    },
    "r": {
     "delete_cmd_postfix": ") ",
     "delete_cmd_prefix": "rm(",
     "library": "var_list.r",
     "varRefreshCmd": "cat(var_dic_list()) "
    }
   },
   "types_to_exclude": [
    "module",
    "function",
    "builtin_function_or_method",
    "instance",
    "_Feature"
   ],
   "window_display": false
  }
 },
 "nbformat": 4,
 "nbformat_minor": 2
}
