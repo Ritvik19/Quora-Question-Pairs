{
 "cells": [
  {
   "cell_type": "code",
   "execution_count": 1,
   "metadata": {
    "ExecuteTime": {
     "end_time": "2020-04-22T07:52:27.367578Z",
     "start_time": "2020-04-22T07:52:10.469069Z"
    }
   },
   "outputs": [
    {
     "name": "stderr",
     "output_type": "stream",
     "text": [
      "D:\\Users\\Ritvik\\Anaconda3\\envs\\datascience\\lib\\site-packages\\tqdm\\std.py:648: FutureWarning: The Panel class is removed from pandas. Accessing it from the top-level namespace will also be removed in the next version\n",
      "  from pandas import Panel\n"
     ]
    }
   ],
   "source": [
    "import numpy as np\n",
    "import pandas as pd\n",
    "import matplotlib.pyplot as plt\n",
    "import seaborn as sns\n",
    "\n",
    "from tqdm.auto import tqdm\n",
    "from IPython.display import clear_output\n",
    "\n",
    "tqdm.pandas()\n",
    "pd.options.display.max_colwidth = -1\n",
    "pd.options.display.max_columns = 15\n",
    "pd.options.display.max_rows = None"
   ]
  },
  {
   "cell_type": "code",
   "execution_count": 2,
   "metadata": {
    "ExecuteTime": {
     "end_time": "2020-04-22T07:52:29.148944Z",
     "start_time": "2020-04-22T07:52:27.376550Z"
    }
   },
   "outputs": [],
   "source": [
    "train = pd.read_csv('train.csv')"
   ]
  },
  {
   "cell_type": "code",
   "execution_count": 3,
   "metadata": {
    "ExecuteTime": {
     "end_time": "2020-04-22T07:52:29.368469Z",
     "start_time": "2020-04-22T07:52:29.150914Z"
    }
   },
   "outputs": [
    {
     "data": {
      "text/html": [
       "<div>\n",
       "<style scoped>\n",
       "    .dataframe tbody tr th:only-of-type {\n",
       "        vertical-align: middle;\n",
       "    }\n",
       "\n",
       "    .dataframe tbody tr th {\n",
       "        vertical-align: top;\n",
       "    }\n",
       "\n",
       "    .dataframe thead th {\n",
       "        text-align: right;\n",
       "    }\n",
       "</style>\n",
       "<table border=\"1\" class=\"dataframe\">\n",
       "  <thead>\n",
       "    <tr style=\"text-align: right;\">\n",
       "      <th></th>\n",
       "      <th>id</th>\n",
       "      <th>qid1</th>\n",
       "      <th>qid2</th>\n",
       "      <th>question1</th>\n",
       "      <th>question2</th>\n",
       "      <th>is_duplicate</th>\n",
       "    </tr>\n",
       "  </thead>\n",
       "  <tbody>\n",
       "    <tr>\n",
       "      <td>0</td>\n",
       "      <td>0</td>\n",
       "      <td>1</td>\n",
       "      <td>2</td>\n",
       "      <td>What is the step by step guide to invest in share market in india?</td>\n",
       "      <td>What is the step by step guide to invest in share market?</td>\n",
       "      <td>0</td>\n",
       "    </tr>\n",
       "    <tr>\n",
       "      <td>1</td>\n",
       "      <td>1</td>\n",
       "      <td>3</td>\n",
       "      <td>4</td>\n",
       "      <td>What is the story of Kohinoor (Koh-i-Noor) Diamond?</td>\n",
       "      <td>What would happen if the Indian government stole the Kohinoor (Koh-i-Noor) diamond back?</td>\n",
       "      <td>0</td>\n",
       "    </tr>\n",
       "    <tr>\n",
       "      <td>2</td>\n",
       "      <td>2</td>\n",
       "      <td>5</td>\n",
       "      <td>6</td>\n",
       "      <td>How can I increase the speed of my internet connection while using a VPN?</td>\n",
       "      <td>How can Internet speed be increased by hacking through DNS?</td>\n",
       "      <td>0</td>\n",
       "    </tr>\n",
       "    <tr>\n",
       "      <td>3</td>\n",
       "      <td>3</td>\n",
       "      <td>7</td>\n",
       "      <td>8</td>\n",
       "      <td>Why am I mentally very lonely? How can I solve it?</td>\n",
       "      <td>Find the remainder when [math]23^{24}[/math] is divided by 24,23?</td>\n",
       "      <td>0</td>\n",
       "    </tr>\n",
       "    <tr>\n",
       "      <td>4</td>\n",
       "      <td>4</td>\n",
       "      <td>9</td>\n",
       "      <td>10</td>\n",
       "      <td>Which one dissolve in water quikly sugar, salt, methane and carbon di oxide?</td>\n",
       "      <td>Which fish would survive in salt water?</td>\n",
       "      <td>0</td>\n",
       "    </tr>\n",
       "  </tbody>\n",
       "</table>\n",
       "</div>"
      ],
      "text/plain": [
       "   id  qid1  qid2  \\\n",
       "0  0   1     2      \n",
       "1  1   3     4      \n",
       "2  2   5     6      \n",
       "3  3   7     8      \n",
       "4  4   9     10     \n",
       "\n",
       "                                                                      question1  \\\n",
       "0  What is the step by step guide to invest in share market in india?             \n",
       "1  What is the story of Kohinoor (Koh-i-Noor) Diamond?                            \n",
       "2  How can I increase the speed of my internet connection while using a VPN?      \n",
       "3  Why am I mentally very lonely? How can I solve it?                             \n",
       "4  Which one dissolve in water quikly sugar, salt, methane and carbon di oxide?   \n",
       "\n",
       "                                                                                  question2  \\\n",
       "0  What is the step by step guide to invest in share market?                                  \n",
       "1  What would happen if the Indian government stole the Kohinoor (Koh-i-Noor) diamond back?   \n",
       "2  How can Internet speed be increased by hacking through DNS?                                \n",
       "3  Find the remainder when [math]23^{24}[/math] is divided by 24,23?                          \n",
       "4  Which fish would survive in salt water?                                                    \n",
       "\n",
       "   is_duplicate  \n",
       "0  0             \n",
       "1  0             \n",
       "2  0             \n",
       "3  0             \n",
       "4  0             "
      ]
     },
     "execution_count": 3,
     "metadata": {},
     "output_type": "execute_result"
    }
   ],
   "source": [
    "train.head()"
   ]
  },
  {
   "cell_type": "code",
   "execution_count": 4,
   "metadata": {
    "ExecuteTime": {
     "end_time": "2020-04-22T07:52:29.427322Z",
     "start_time": "2020-04-22T07:52:29.376448Z"
    }
   },
   "outputs": [
    {
     "name": "stdout",
     "output_type": "stream",
     "text": [
      "Dataset shape (404290, 6)\n"
     ]
    }
   ],
   "source": [
    "print(\"Dataset shape\", train.shape)"
   ]
  },
  {
   "cell_type": "code",
   "execution_count": 5,
   "metadata": {
    "ExecuteTime": {
     "end_time": "2020-04-22T07:52:29.756598Z",
     "start_time": "2020-04-22T07:52:29.431300Z"
    }
   },
   "outputs": [
    {
     "name": "stdout",
     "output_type": "stream",
     "text": [
      "<class 'pandas.core.frame.DataFrame'>\n",
      "RangeIndex: 404290 entries, 0 to 404289\n",
      "Data columns (total 6 columns):\n",
      "id              404290 non-null int64\n",
      "qid1            404290 non-null int64\n",
      "qid2            404290 non-null int64\n",
      "question1       404289 non-null object\n",
      "question2       404288 non-null object\n",
      "is_duplicate    404290 non-null int64\n",
      "dtypes: int64(4), object(2)\n",
      "memory usage: 18.5+ MB\n"
     ]
    }
   ],
   "source": [
    "train.info()"
   ]
  },
  {
   "cell_type": "code",
   "execution_count": 6,
   "metadata": {
    "ExecuteTime": {
     "end_time": "2020-04-22T07:52:30.928274Z",
     "start_time": "2020-04-22T07:52:29.760587Z"
    }
   },
   "outputs": [
    {
     "name": "stdout",
     "output_type": "stream",
     "text": [
      "Target Class Distribution\n"
     ]
    },
    {
     "data": {
      "text/plain": [
       "<matplotlib.legend.Legend at 0x1f1544cc208>"
      ]
     },
     "execution_count": 6,
     "metadata": {},
     "output_type": "execute_result"
    },
    {
     "data": {
      "image/png": "[encoded data removed]",
      "text/plain": [
       "<Figure size 432x288 with 1 Axes>"
      ]
     },
     "metadata": {},
     "output_type": "display_data"
    }
   ],
   "source": [
    "print('Target Class Distribution')\n",
    "class_distribution = train['is_duplicate'].value_counts(normalize=True).mul(100)\n",
    "class_distribution.plot.pie(labels=class_distribution)\n",
    "plt.legend(class_distribution.index)"
   ]
  },
  {
   "cell_type": "code",
   "execution_count": 7,
   "metadata": {
    "ExecuteTime": {
     "end_time": "2020-04-22T07:52:31.115867Z",
     "start_time": "2020-04-22T07:52:30.930238Z"
    }
   },
   "outputs": [
    {
     "name": "stdout",
     "output_type": "stream",
     "text": [
      "            id    qid1    qid2                         question1  \\\n",
      "105780  105780  174363  174364  How can I develop android app?     \n",
      "201841  201841  303951  174364  How can I create an Android app?   \n",
      "363362  363362  493340  493341  NaN                                \n",
      "\n",
      "                                                                                                                          question2  \\\n",
      "105780  NaN                                                                                                                           \n",
      "201841  NaN                                                                                                                           \n",
      "363362  My Chinese name is Haichao Yu. What English name is most suitable for me considering the pronounciation of my Chinese name?   \n",
      "\n",
      "        is_duplicate  \n",
      "105780  0             \n",
      "201841  0             \n",
      "363362  0             \n"
     ]
    }
   ],
   "source": [
    "nan_rows = train[train.isnull().any(1)]\n",
    "print (nan_rows)\n",
    "train.dropna(inplace=True)"
   ]
  },
  {
   "cell_type": "code",
   "execution_count": 8,
   "metadata": {
    "ExecuteTime": {
     "end_time": "2020-04-22T07:52:31.713918Z",
     "start_time": "2020-04-22T07:52:31.118460Z"
    }
   },
   "outputs": [
    {
     "name": "stdout",
     "output_type": "stream",
     "text": [
      "Total number of  Unique Questions are: 537929\n",
      "Number of unique questions that appear more than one time: 111778 (20.78%)\n",
      "Max number of times a single question is repeated: 157\n"
     ]
    }
   ],
   "source": [
    "qids = pd.Series(train['qid1'].tolist() + train['qid2'].tolist())\n",
    "unique_qs = len(np.unique(qids))\n",
    "qs_morethan_onetime = np.sum(qids.value_counts() > 1)\n",
    "print (f'Total number of  Unique Questions are: {unique_qs}')\n",
    "\n",
    "print (f'Number of unique questions that appear more than one time: {qs_morethan_onetime} ({qs_morethan_onetime/unique_qs*100:.2f}%)')\n",
    "\n",
    "print (f'Max number of times a single question is repeated: {max(qids.value_counts())}') "
   ]
  },
  {
   "cell_type": "code",
   "execution_count": 9,
   "metadata": {
    "ExecuteTime": {
     "end_time": "2020-04-22T07:52:32.136443Z",
     "start_time": "2020-04-22T07:52:31.715912Z"
    }
   },
   "outputs": [
    {
     "data": {
      "image/png": "[encoded data removed]",
      "text/plain": [
       "<Figure size 720x432 with 1 Axes>"
      ]
     },
     "metadata": {
      "needs_background": "light"
     },
     "output_type": "display_data"
    }
   ],
   "source": [
    "x = [\"unique_questions\" , \"Repeated Questions\"]\n",
    "y =  [unique_qs , qs_morethan_onetime]\n",
    "\n",
    "plt.figure(figsize=(10, 6))\n",
    "plt.title (\"Plot representing unique and repeated questions  \")\n",
    "sns.barplot(x,y)\n",
    "plt.show()"
   ]
  },
  {
   "cell_type": "code",
   "execution_count": 10,
   "metadata": {
    "ExecuteTime": {
     "end_time": "2020-04-22T07:52:33.966342Z",
     "start_time": "2020-04-22T07:52:32.139435Z"
    }
   },
   "outputs": [
    {
     "name": "stdout",
     "output_type": "stream",
     "text": [
      "Maximum number of times a single question is repeated: 157\n",
      "\n"
     ]
    },
    {
     "data": {
      "image/png": "[encoded data removed]",
      "text/plain": [
       "<Figure size 1440x720 with 1 Axes>"
      ]
     },
     "metadata": {
      "needs_background": "light"
     },
     "output_type": "display_data"
    }
   ],
   "source": [
    "plt.figure(figsize=(20, 10))\n",
    "plt.hist(qids.value_counts(), bins=160)\n",
    "plt.yscale('log', nonposy='clip')\n",
    "plt.title('Log-Histogram of question appearance counts')\n",
    "plt.xlabel('Number of occurences of question')\n",
    "plt.ylabel('Number of questions')\n",
    "print ('Maximum number of times a single question is repeated: {}\\n'.format(max(qids.value_counts()))) "
   ]
  },
  {
   "cell_type": "code",
   "execution_count": 11,
   "metadata": {
    "ExecuteTime": {
     "end_time": "2020-04-22T07:52:35.207887Z",
     "start_time": "2020-04-22T07:52:33.969335Z"
    }
   },
   "outputs": [
    {
     "name": "stdout",
     "output_type": "stream",
     "text": [
      "Top 10 most frequently asked questions\n",
      "157 What are the best ways to lose weight?\n",
      "120 How can you look at someone's private Instagram account without following them?\n",
      "111 How can I lose weight quickly?\n",
      "88 What's the easiest way to make money online?\n",
      "79 Can you see who views your Instagram?\n",
      "77 What are some things new employees should know going into their first day at AT&T?\n",
      "68 What do you think of the decision by the Indian Government to demonetize 500 and 1000 rupee notes?\n",
      "66 Which is the best digital marketing course?\n",
      "63 How can you increase your height?\n",
      "61 How do l see who viewed my videos on Instagram?\n"
     ]
    }
   ],
   "source": [
    "print('Top 10 most frequently asked questions')\n",
    "\n",
    "for i in range(1, 11):\n",
    "    x = qids.value_counts().head(i).tail(1)\n",
    "    try:\n",
    "        print(x.values[0], \n",
    "              train[train['qid1'] == x.index[0]]['question1'].head(1).values[0])\n",
    "    except:\n",
    "        print(x.values[0],\n",
    "              train[train['qid2'] == x.index[0]]['question2'].head(1).values[0])"
   ]
  },
  {
   "cell_type": "code",
   "execution_count": 12,
   "metadata": {
    "ExecuteTime": {
     "end_time": "2020-04-22T07:52:35.413941Z",
     "start_time": "2020-04-22T07:52:35.210878Z"
    }
   },
   "outputs": [],
   "source": [
    "train_qs = pd.DataFrame(train['question1'].tolist() + train['question2'].tolist(), columns=['question']).astype(str)"
   ]
  },
  {
   "cell_type": "code",
   "execution_count": 13,
   "metadata": {
    "ExecuteTime": {
     "end_time": "2020-04-22T07:52:38.393694Z",
     "start_time": "2020-04-22T07:52:35.417935Z"
    }
   },
   "outputs": [
    {
     "data": {
      "application/vnd.jupyter.widget-view+json": {
       "model_id": "7e1d964c129d4be7860b62201b5d59e1",
       "version_major": 2,
       "version_minor": 0
      },
      "text/plain": [
       "HBox(children=(IntProgress(value=0, max=808574), HTML(value='')))"
      ]
     },
     "metadata": {},
     "output_type": "display_data"
    },
    {
     "name": "stdout",
     "output_type": "stream",
     "text": [
      "\n"
     ]
    },
    {
     "name": "stderr",
     "output_type": "stream",
     "text": [
      "D:\\Users\\Ritvik\\Anaconda3\\envs\\datascience\\lib\\site-packages\\matplotlib\\axes\\_axes.py:6510: MatplotlibDeprecationWarning: \n",
      "The 'normed' kwarg was deprecated in Matplotlib 2.1 and will be removed in 3.1. Use 'density' instead.\n",
      "  alternative=\"'density'\", removal=\"3.1\")\n"
     ]
    },
    {
     "name": "stdout",
     "output_type": "stream",
     "text": [
      "mean-train 59.82 (31.96)\n",
      "max-train 1169.00\n"
     ]
    },
    {
     "data": {
      "image/png": "[encoded data removed]",
      "text/plain": [
       "<Figure size 1080x720 with 1 Axes>"
      ]
     },
     "metadata": {
      "needs_background": "light"
     },
     "output_type": "display_data"
    }
   ],
   "source": [
    "train_qs['chars'] = train_qs['question'].progress_apply(len)\n",
    "\n",
    "plt.figure(figsize=(15, 10))\n",
    "plt.hist(train_qs['chars'], bins=200, range=[0, 200], normed=True)\n",
    "plt.title('Normalised histogram of character count in questions', fontsize=15)\n",
    "plt.xlabel('Number of characters', fontsize=15)\n",
    "plt.ylabel('Probability', fontsize=15)\n",
    "\n",
    "print(f\"mean-train {train_qs['chars'].mean():.2f} ({train_qs['chars'].std():.2f})\\nmax-train {train_qs['chars'].max():.2f}\")"
   ]
  },
  {
   "cell_type": "code",
   "execution_count": 14,
   "metadata": {
    "ExecuteTime": {
     "end_time": "2020-04-22T07:52:41.882326Z",
     "start_time": "2020-04-22T07:52:38.397685Z"
    }
   },
   "outputs": [
    {
     "data": {
      "application/vnd.jupyter.widget-view+json": {
       "model_id": "34d8775ea91c4850b3d248fcd48f8cef",
       "version_major": 2,
       "version_minor": 0
      },
      "text/plain": [
       "HBox(children=(IntProgress(value=0, max=808574), HTML(value='')))"
      ]
     },
     "metadata": {},
     "output_type": "display_data"
    },
    {
     "name": "stdout",
     "output_type": "stream",
     "text": [
      "\n",
      "mean-train 11.06 (5.88)\n",
      "max-train 237.00\n"
     ]
    },
    {
     "data": {
      "image/png": "[encoded data removed]",
      "text/plain": [
       "<Figure size 1080x720 with 1 Axes>"
      ]
     },
     "metadata": {
      "needs_background": "light"
     },
     "output_type": "display_data"
    }
   ],
   "source": [
    "train_qs['words'] = train_qs['question'].progress_apply(lambda x: len(x.split()))\n",
    "\n",
    "plt.figure(figsize=(15, 10))\n",
    "plt.hist(train_qs['words'], bins=200, range=[0, 200], normed=True)\n",
    "plt.title('Normalised histogram of word count in questions', fontsize=15)\n",
    "plt.xlabel('Number of words', fontsize=15)\n",
    "plt.ylabel('Probability', fontsize=15)\n",
    "\n",
    "print(f\"mean-train {train_qs['words'].mean():.2f} ({train_qs['words'].std():.2f})\\nmax-train {train_qs['words'].max():.2f}\")"
   ]
  },
  {
   "cell_type": "code",
   "execution_count": 15,
   "metadata": {
    "ExecuteTime": {
     "end_time": "2020-04-22T07:52:42.088374Z",
     "start_time": "2020-04-22T07:52:41.885287Z"
    }
   },
   "outputs": [],
   "source": [
    "train_qs = train_qs.sort_values('words')"
   ]
  },
  {
   "cell_type": "markdown",
   "metadata": {},
   "source": [
    "**Longest and Shortest Questions**"
   ]
  },
  {
   "cell_type": "code",
   "execution_count": 16,
   "metadata": {
    "ExecuteTime": {
     "end_time": "2020-04-22T07:52:42.101342Z",
     "start_time": "2020-04-22T07:52:42.090368Z"
    }
   },
   "outputs": [
    {
     "name": "stdout",
     "output_type": "stream",
     "text": [
      "{'Hh', 'I', 'no', 'My', '.', '?', 'parisflatlist', 'spam', 'H', 'Delete', 'What?', 'Deleted.', 'i', 'Ok', 'sss', 'delete', 'Na', 'null ', 'Null ', 'How', 'Life:', '111', 'Aaas', 'HH', 'Is?', 'lol', 'Hh ', 'Marriage', '[removed]', 'Can?', \"I'm \", 'Why', 'Q?', 'o', '…………..', 'civil', 'deleted', 'Why?', 'Spam', 'Does?', 'grammar', 'hi', '…..', '????', 'Nana', 'Edit', '‘', 'Cloning?', 'What', 'Error', 'A', 'Which'}\n"
     ]
    }
   ],
   "source": [
    "print(set(train_qs[train_qs['words'] == 1]['question'].values))"
   ]
  },
  {
   "cell_type": "code",
   "execution_count": 17,
   "metadata": {
    "ExecuteTime": {
     "end_time": "2020-04-22T07:52:42.860290Z",
     "start_time": "2020-04-22T07:52:42.106328Z"
    }
   },
   "outputs": [
    {
     "data": {
      "text/html": [
       "<div>\n",
       "<style scoped>\n",
       "    .dataframe tbody tr th:only-of-type {\n",
       "        vertical-align: middle;\n",
       "    }\n",
       "\n",
       "    .dataframe tbody tr th {\n",
       "        vertical-align: top;\n",
       "    }\n",
       "\n",
       "    .dataframe thead th {\n",
       "        text-align: right;\n",
       "    }\n",
       "</style>\n",
       "<table border=\"1\" class=\"dataframe\">\n",
       "  <thead>\n",
       "    <tr style=\"text-align: right;\">\n",
       "      <th></th>\n",
       "      <th>question</th>\n",
       "      <th>chars</th>\n",
       "      <th>words</th>\n",
       "    </tr>\n",
       "  </thead>\n",
       "  <tbody>\n",
       "    <tr>\n",
       "      <td>628001</td>\n",
       "      <td>This question is stirred up by the recent Romney drama overseas. Firstly, other than the obvious Palestinian and British opinions, how does the world see our presidential elections of this year differently than we do in the states? We blame President Obama for our problems and many see Romney as a way out. Is this a fog, do international perspectives recognize the problem as bigger than a \"leader\" so to speak? Rather than seeing the leader as a solution, do they see things more intelligently? And also, is it common practice around the world to blame the elected official for problems? For example, the EU is having a hard time at the moment - I haven't heard Any reports about citizens pointing fingers at their leaders.</td>\n",
       "      <td>726</td>\n",
       "      <td>126</td>\n",
       "    </tr>\n",
       "    <tr>\n",
       "      <td>808353</td>\n",
       "      <td>Whole fight card for UFC on Fuel TV 9, 6th April in Stockholm, Sweden? I've been looking around for the card for this upcoming event, but I can't find more than three fights. More isn't listed at UFC's site so I presume that the card isn't finished yet? But are there any rumors or any other things that indicate which fighters may participate?  I had the best seats in the house money can buy last year and planning to buy the same again tomorrow when the pre sale starts (in exactly 13h from now). But I don't want to pay $375 USD if the only good fight is the main event (Alexander Gustafsson FTW!)... All information/rumours/indications is appreciated ASAP so I can decide how much money I'm willing to pay for the tickets?</td>\n",
       "      <td>727</td>\n",
       "      <td>133</td>\n",
       "    </tr>\n",
       "    <tr>\n",
       "      <td>595124</td>\n",
       "      <td>Regarding Google Plus Profile  Privacy Settings:  Here's the scenario: An individual finds my Google Plus page. They go to my profile. They take a screen shot of it. The screen shot includes a portion which reads, \"Other Names\" below which is a name, below which are the words, \"Visible Only To You\" below which are \"Google Contact Details\" below which appear again, Visible Only To You.\" The screen shot was then printed and presented to a third party as evidence of my so-called \"other name.\" I logged in and saw the name, this time with the privacy settings set to Public but this profile defaults to \"only you\" so it had been changed. These changes to my profile were not made by me. Does the screenshot that was taken then printed mean the party taking it was actually logged in as me. Or is there another explanation?</td>\n",
       "      <td>823</td>\n",
       "      <td>147</td>\n",
       "    </tr>\n",
       "    <tr>\n",
       "      <td>557728</td>\n",
       "      <td>I have been married almost 15 years. We have two children, 11 and 8. My childhood was horrible, seven years of sexual, physical, and mental/emotional abuse followed by instability and low self esteem issues as a teen. My husband met me after I began dealing with my childhood and knew all about my issues. He knew what would end our marriage, yet he did it and lied about it multiple times. I was pregnant and did not leave. We tried to make it work. We had another child. We have been through MANY \"situations\" in our marriage and as parents. For the past 6-8 years we have just been living as parents. Not lovers. In the past I tried everything to make our marriage work. I finally decided to be done with it. Now he says he loves me and wants to make it work. But he is manipulative and can be so mean. He uses my children to cause me pain and stress. He knows that they are the only reason I stay. We are in counciling, but I really have no \"love\" feelings for him. I told him I want a divorce, but he won't give me one. He has said he will make my life miserable until the 18 months of separation are up and divorce is granted. Any advice? I'm ready to run away...</td>\n",
       "      <td>1169</td>\n",
       "      <td>228</td>\n",
       "    </tr>\n",
       "    <tr>\n",
       "      <td>781929</td>\n",
       "      <td>Heartbreak? Heartbreak? She's my girlfriend for two months, I chose her over my girlfriend for 2 years. I like her so much to the point that I can't let her go even if she wants to end our relationship because of the other people around us most especially her family. I do the things for her that I'm not used to for a girl and I am willing to sacrifice everything just to have a little time with her. A little and limited time that I'm asking from her but she don't wanna give it to me. She's scared that someone might see us, that she's still having an affair with me. I love her and I want to be with her at least once a week even if just for a limited time. I'm not sure if I'm doing the right thing, all of my friends told me to stop it and just let it go 2 months is just 2 months not a deep relationship. But they don't feel what I feel, in this span of time I learned a lot, I learned how to love, to be loved, to sacrifice a good life, and to sacrifice a better clear future. My mind tells me to stop, but my heart tells me to hold, don't give up, stay with her and give her the unconditional love. Should I follow my mind or follow my heart?</td>\n",
       "      <td>1151</td>\n",
       "      <td>237</td>\n",
       "    </tr>\n",
       "  </tbody>\n",
       "</table>\n",
       "</div>"
      ],
      "text/plain": [
       "                                                                                                                                                                                                                                                                                                                                                                                                                                                                                                                                                                                                                                                                                                                                                                                                                                                                                                                                                                                                                                                                                                                                                                                                                 question  \\\n",
       "628001  This question is stirred up by the recent Romney drama overseas. Firstly, other than the obvious Palestinian and British opinions, how does the world see our presidential elections of this year differently than we do in the states? We blame President Obama for our problems and many see Romney as a way out. Is this a fog, do international perspectives recognize the problem as bigger than a \"leader\" so to speak? Rather than seeing the leader as a solution, do they see things more intelligently? And also, is it common practice around the world to blame the elected official for problems? For example, the EU is having a hard time at the moment - I haven't heard Any reports about citizens pointing fingers at their leaders.                                                                                                                                                                                                                                                                                                                                                                                                                                                              \n",
       "808353  Whole fight card for UFC on Fuel TV 9, 6th April in Stockholm, Sweden? I've been looking around for the card for this upcoming event, but I can't find more than three fights. More isn't listed at UFC's site so I presume that the card isn't finished yet? But are there any rumors or any other things that indicate which fighters may participate?  I had the best seats in the house money can buy last year and planning to buy the same again tomorrow when the pre sale starts (in exactly 13h from now). But I don't want to pay $375 USD if the only good fight is the main event (Alexander Gustafsson FTW!)... All information/rumours/indications is appreciated ASAP so I can decide how much money I'm willing to pay for the tickets?                                                                                                                                                                                                                                                                                                                                                                                                                                                             \n",
       "595124  Regarding Google Plus Profile  Privacy Settings:  Here's the scenario: An individual finds my Google Plus page. They go to my profile. They take a screen shot of it. The screen shot includes a portion which reads, \"Other Names\" below which is a name, below which are the words, \"Visible Only To You\" below which are \"Google Contact Details\" below which appear again, Visible Only To You.\" The screen shot was then printed and presented to a third party as evidence of my so-called \"other name.\" I logged in and saw the name, this time with the privacy settings set to Public but this profile defaults to \"only you\" so it had been changed. These changes to my profile were not made by me. Does the screenshot that was taken then printed mean the party taking it was actually logged in as me. Or is there another explanation?                                                                                                                                                                                                                                                                                                                                                             \n",
       "557728  I have been married almost 15 years. We have two children, 11 and 8. My childhood was horrible, seven years of sexual, physical, and mental/emotional abuse followed by instability and low self esteem issues as a teen. My husband met me after I began dealing with my childhood and knew all about my issues. He knew what would end our marriage, yet he did it and lied about it multiple times. I was pregnant and did not leave. We tried to make it work. We had another child. We have been through MANY \"situations\" in our marriage and as parents. For the past 6-8 years we have just been living as parents. Not lovers. In the past I tried everything to make our marriage work. I finally decided to be done with it. Now he says he loves me and wants to make it work. But he is manipulative and can be so mean. He uses my children to cause me pain and stress. He knows that they are the only reason I stay. We are in counciling, but I really have no \"love\" feelings for him. I told him I want a divorce, but he won't give me one. He has said he will make my life miserable until the 18 months of separation are up and divorce is granted. Any advice? I'm ready to run away...   \n",
       "781929  Heartbreak? Heartbreak? She's my girlfriend for two months, I chose her over my girlfriend for 2 years. I like her so much to the point that I can't let her go even if she wants to end our relationship because of the other people around us most especially her family. I do the things for her that I'm not used to for a girl and I am willing to sacrifice everything just to have a little time with her. A little and limited time that I'm asking from her but she don't wanna give it to me. She's scared that someone might see us, that she's still having an affair with me. I love her and I want to be with her at least once a week even if just for a limited time. I'm not sure if I'm doing the right thing, all of my friends told me to stop it and just let it go 2 months is just 2 months not a deep relationship. But they don't feel what I feel, in this span of time I learned a lot, I learned how to love, to be loved, to sacrifice a good life, and to sacrifice a better clear future. My mind tells me to stop, but my heart tells me to hold, don't give up, stay with her and give her the unconditional love. Should I follow my mind or follow my heart?                     \n",
       "\n",
       "        chars  words  \n",
       "628001  726    126    \n",
       "808353  727    133    \n",
       "595124  823    147    \n",
       "557728  1169   228    \n",
       "781929  1151   237    "
      ]
     },
     "execution_count": 17,
     "metadata": {},
     "output_type": "execute_result"
    }
   ],
   "source": [
    "train_qs.drop_duplicates().tail()"
   ]
  },
  {
   "cell_type": "code",
   "execution_count": 18,
   "metadata": {
    "ExecuteTime": {
     "end_time": "2020-04-22T07:53:06.287887Z",
     "start_time": "2020-04-22T07:52:42.863282Z"
    }
   },
   "outputs": [
    {
     "data": {
      "application/vnd.jupyter.widget-view+json": {
       "model_id": "9e75d8392587468785b4c9c74b7c96af",
       "version_major": 2,
       "version_minor": 0
      },
      "text/plain": [
       "HBox(children=(IntProgress(value=0, max=808574), HTML(value='')))"
      ]
     },
     "metadata": {},
     "output_type": "display_data"
    },
    {
     "name": "stdout",
     "output_type": "stream",
     "text": [
      "\n",
      "Questions with question marks: 99.87 %\n"
     ]
    },
    {
     "data": {
      "application/vnd.jupyter.widget-view+json": {
       "model_id": "ace07e6ae7324ad085036441499ff6fa",
       "version_major": 2,
       "version_minor": 0
      },
      "text/plain": [
       "HBox(children=(IntProgress(value=0, max=808574), HTML(value='')))"
      ]
     },
     "metadata": {},
     "output_type": "display_data"
    },
    {
     "name": "stdout",
     "output_type": "stream",
     "text": [
      "\n",
      "Questions with [math] tags: 0.12 %\n"
     ]
    },
    {
     "data": {
      "application/vnd.jupyter.widget-view+json": {
       "model_id": "70f52fefc2234956b84c92622d4b9977",
       "version_major": 2,
       "version_minor": 0
      },
      "text/plain": [
       "HBox(children=(IntProgress(value=0, max=808574), HTML(value='')))"
      ]
     },
     "metadata": {},
     "output_type": "display_data"
    },
    {
     "name": "stdout",
     "output_type": "stream",
     "text": [
      "\n",
      "Questions with full stops: 6.31 %\n"
     ]
    },
    {
     "data": {
      "application/vnd.jupyter.widget-view+json": {
       "model_id": "5f06671cb7c54a6499a63c9d59b6027b",
       "version_major": 2,
       "version_minor": 0
      },
      "text/plain": [
       "HBox(children=(IntProgress(value=0, max=808574), HTML(value='')))"
      ]
     },
     "metadata": {},
     "output_type": "display_data"
    },
    {
     "name": "stdout",
     "output_type": "stream",
     "text": [
      "\n",
      "Questions with capitalised first letters: 99.81 %\n"
     ]
    },
    {
     "data": {
      "application/vnd.jupyter.widget-view+json": {
       "model_id": "6a417eb9ee0c4bafa2a7beaa0c673b87",
       "version_major": 2,
       "version_minor": 0
      },
      "text/plain": [
       "HBox(children=(IntProgress(value=0, max=808574), HTML(value='')))"
      ]
     },
     "metadata": {},
     "output_type": "display_data"
    },
    {
     "name": "stdout",
     "output_type": "stream",
     "text": [
      "\n",
      "Questions with capital letters: 99.95 %\n"
     ]
    },
    {
     "data": {
      "application/vnd.jupyter.widget-view+json": {
       "model_id": "84f561898d8a42668450c523f1232de0",
       "version_major": 2,
       "version_minor": 0
      },
      "text/plain": [
       "HBox(children=(IntProgress(value=0, max=808574), HTML(value='')))"
      ]
     },
     "metadata": {},
     "output_type": "display_data"
    },
    {
     "name": "stdout",
     "output_type": "stream",
     "text": [
      "\n",
      "Questions with numbers: 11.83 %\n"
     ]
    }
   ],
   "source": [
    "print(\"Questions with question marks:\", \n",
    "      round(np.mean(train_qs['question'].progress_apply(lambda x: '?' in x))*100, 2),\n",
    "      \"%\")\n",
    "print(\"Questions with [math] tags:\", \n",
    "      round(np.mean(train_qs['question'].progress_apply(lambda x: '[math]' in x))*100, 2),\n",
    "      \"%\")\n",
    "print(\"Questions with full stops:\", \n",
    "      round(np.mean(train_qs['question'].progress_apply(lambda x: '.' in x))*100, 2),\n",
    "      \"%\")\n",
    "print(\"Questions with capitalised first letters:\", \n",
    "      round(np.mean(train_qs['question'].progress_apply(lambda x: x[0].isupper()))*100, 2),\n",
    "      \"%\")\n",
    "print(\"Questions with capital letters:\",\n",
    "      round(np.mean(train_qs['question'].progress_apply(lambda x: max([y.isupper() for y in x])))*100,2),\n",
    "      \"%\")\n",
    "print(\"Questions with numbers:\", \n",
    "      round(np.mean(train_qs['question'].progress_apply(lambda x: max([y.isdigit() for y in x])))*100, 2),\n",
    "      \"%\")"
   ]
  },
  {
   "cell_type": "code",
   "execution_count": 19,
   "metadata": {
    "ExecuteTime": {
     "end_time": "2020-04-22T07:53:06.316810Z",
     "start_time": "2020-04-22T07:53:06.290880Z"
    }
   },
   "outputs": [],
   "source": [
    "del train_qs"
   ]
  },
  {
   "cell_type": "code",
   "execution_count": 20,
   "metadata": {
    "ExecuteTime": {
     "end_time": "2020-04-22T07:53:09.208960Z",
     "start_time": "2020-04-22T07:53:06.322794Z"
    }
   },
   "outputs": [
    {
     "data": {
      "application/vnd.jupyter.widget-view+json": {
       "model_id": "48fa483d319f40ba8f63e34f463f8c46",
       "version_major": 2,
       "version_minor": 0
      },
      "text/plain": [
       "HBox(children=(IntProgress(value=0, max=404287), HTML(value='')))"
      ]
     },
     "metadata": {},
     "output_type": "display_data"
    },
    {
     "name": "stdout",
     "output_type": "stream",
     "text": [
      "\n"
     ]
    },
    {
     "data": {
      "application/vnd.jupyter.widget-view+json": {
       "model_id": "5583fc9ba0834aa9aa7cd074279f4b72",
       "version_major": 2,
       "version_minor": 0
      },
      "text/plain": [
       "HBox(children=(IntProgress(value=0, max=404287), HTML(value='')))"
      ]
     },
     "metadata": {},
     "output_type": "display_data"
    },
    {
     "name": "stdout",
     "output_type": "stream",
     "text": [
      "\n"
     ]
    }
   ],
   "source": [
    "train['lenq1'] = train['question1'].progress_apply(lambda x: len(x.split()))\n",
    "train['lenq2'] = train['question2'].progress_apply(lambda x: len(x.split()))"
   ]
  },
  {
   "cell_type": "code",
   "execution_count": 21,
   "metadata": {
    "ExecuteTime": {
     "end_time": "2020-04-22T07:53:09.462392Z",
     "start_time": "2020-04-22T07:53:09.211949Z"
    }
   },
   "outputs": [
    {
     "data": {
      "text/html": [
       "<div>\n",
       "<style scoped>\n",
       "    .dataframe tbody tr th:only-of-type {\n",
       "        vertical-align: middle;\n",
       "    }\n",
       "\n",
       "    .dataframe tbody tr th {\n",
       "        vertical-align: top;\n",
       "    }\n",
       "\n",
       "    .dataframe thead th {\n",
       "        text-align: right;\n",
       "    }\n",
       "</style>\n",
       "<table border=\"1\" class=\"dataframe\">\n",
       "  <thead>\n",
       "    <tr style=\"text-align: right;\">\n",
       "      <th></th>\n",
       "      <th>id</th>\n",
       "      <th>qid1</th>\n",
       "      <th>qid2</th>\n",
       "      <th>question1</th>\n",
       "      <th>question2</th>\n",
       "      <th>is_duplicate</th>\n",
       "      <th>lenq1</th>\n",
       "      <th>lenq2</th>\n",
       "    </tr>\n",
       "  </thead>\n",
       "  <tbody>\n",
       "    <tr>\n",
       "      <td>3306</td>\n",
       "      <td>3306</td>\n",
       "      <td>6553</td>\n",
       "      <td>6554</td>\n",
       "      <td>.</td>\n",
       "      <td>Why is Cornell's endowment the lowest in the Ivy League?</td>\n",
       "      <td>0</td>\n",
       "      <td>1</td>\n",
       "      <td>10</td>\n",
       "    </tr>\n",
       "    <tr>\n",
       "      <td>13016</td>\n",
       "      <td>13016</td>\n",
       "      <td>25026</td>\n",
       "      <td>25027</td>\n",
       "      <td>?</td>\n",
       "      <td>Why should one not work at Google?</td>\n",
       "      <td>0</td>\n",
       "      <td>1</td>\n",
       "      <td>7</td>\n",
       "    </tr>\n",
       "    <tr>\n",
       "      <td>17682</td>\n",
       "      <td>17682</td>\n",
       "      <td>33561</td>\n",
       "      <td>33562</td>\n",
       "      <td>deleted</td>\n",
       "      <td>Which website will be suitable for downloading eBooks and lectures?</td>\n",
       "      <td>0</td>\n",
       "      <td>1</td>\n",
       "      <td>10</td>\n",
       "    </tr>\n",
       "    <tr>\n",
       "      <td>20072</td>\n",
       "      <td>20072</td>\n",
       "      <td>37898</td>\n",
       "      <td>37899</td>\n",
       "      <td>How could I solve this?</td>\n",
       "      <td>…………..</td>\n",
       "      <td>0</td>\n",
       "      <td>5</td>\n",
       "      <td>1</td>\n",
       "    </tr>\n",
       "    <tr>\n",
       "      <td>20794</td>\n",
       "      <td>20794</td>\n",
       "      <td>39204</td>\n",
       "      <td>39205</td>\n",
       "      <td>?</td>\n",
       "      <td>What is the Gmail tech support help phone number?</td>\n",
       "      <td>0</td>\n",
       "      <td>1</td>\n",
       "      <td>9</td>\n",
       "    </tr>\n",
       "    <tr>\n",
       "      <td>23305</td>\n",
       "      <td>23305</td>\n",
       "      <td>33561</td>\n",
       "      <td>43661</td>\n",
       "      <td>deleted</td>\n",
       "      <td>Which are some best websites for downloading newly published books/eBooks?</td>\n",
       "      <td>0</td>\n",
       "      <td>1</td>\n",
       "      <td>10</td>\n",
       "    </tr>\n",
       "    <tr>\n",
       "      <td>23884</td>\n",
       "      <td>23884</td>\n",
       "      <td>44699</td>\n",
       "      <td>44700</td>\n",
       "      <td>HH</td>\n",
       "      <td>What is hh?</td>\n",
       "      <td>0</td>\n",
       "      <td>1</td>\n",
       "      <td>3</td>\n",
       "    </tr>\n",
       "    <tr>\n",
       "      <td>25228</td>\n",
       "      <td>25228</td>\n",
       "      <td>47035</td>\n",
       "      <td>47036</td>\n",
       "      <td>What?</td>\n",
       "      <td>What should Indians do if Donald Trump becomes President?</td>\n",
       "      <td>0</td>\n",
       "      <td>1</td>\n",
       "      <td>9</td>\n",
       "    </tr>\n",
       "    <tr>\n",
       "      <td>25315</td>\n",
       "      <td>25315</td>\n",
       "      <td>47198</td>\n",
       "      <td>29712</td>\n",
       "      <td>deleted</td>\n",
       "      <td>What kind of questions on Quora aren't OK? What is Quora's policy on question deletion?</td>\n",
       "      <td>0</td>\n",
       "      <td>1</td>\n",
       "      <td>15</td>\n",
       "    </tr>\n",
       "    <tr>\n",
       "      <td>39769</td>\n",
       "      <td>39769</td>\n",
       "      <td>33561</td>\n",
       "      <td>72063</td>\n",
       "      <td>deleted</td>\n",
       "      <td>What is a website where I can download eBooks legally?</td>\n",
       "      <td>0</td>\n",
       "      <td>1</td>\n",
       "      <td>10</td>\n",
       "    </tr>\n",
       "    <tr>\n",
       "      <td>44619</td>\n",
       "      <td>44619</td>\n",
       "      <td>80055</td>\n",
       "      <td>80056</td>\n",
       "      <td>Na</td>\n",
       "      <td>How do I activate Reliance Jio 4G?</td>\n",
       "      <td>0</td>\n",
       "      <td>1</td>\n",
       "      <td>7</td>\n",
       "    </tr>\n",
       "    <tr>\n",
       "      <td>46596</td>\n",
       "      <td>46596</td>\n",
       "      <td>83328</td>\n",
       "      <td>83329</td>\n",
       "      <td>How To Edit DNA?</td>\n",
       "      <td>What?</td>\n",
       "      <td>0</td>\n",
       "      <td>4</td>\n",
       "      <td>1</td>\n",
       "    </tr>\n",
       "    <tr>\n",
       "      <td>47056</td>\n",
       "      <td>47056</td>\n",
       "      <td>84067</td>\n",
       "      <td>84068</td>\n",
       "      <td>Is there anywhere in the world offering pain management for peripheral neuropathy as opioids haved been banned in US?</td>\n",
       "      <td>?</td>\n",
       "      <td>0</td>\n",
       "      <td>19</td>\n",
       "      <td>1</td>\n",
       "    </tr>\n",
       "    <tr>\n",
       "      <td>51909</td>\n",
       "      <td>51909</td>\n",
       "      <td>92003</td>\n",
       "      <td>83329</td>\n",
       "      <td>What should yellow taxis do to face competition from Ola and Uber?</td>\n",
       "      <td>What?</td>\n",
       "      <td>0</td>\n",
       "      <td>12</td>\n",
       "      <td>1</td>\n",
       "    </tr>\n",
       "    <tr>\n",
       "      <td>54029</td>\n",
       "      <td>54029</td>\n",
       "      <td>95429</td>\n",
       "      <td>95430</td>\n",
       "      <td>I'm</td>\n",
       "      <td>I am a 39 year old single woman. Should I have a baby alone?</td>\n",
       "      <td>0</td>\n",
       "      <td>1</td>\n",
       "      <td>14</td>\n",
       "    </tr>\n",
       "    <tr>\n",
       "      <td>57484</td>\n",
       "      <td>57484</td>\n",
       "      <td>101005</td>\n",
       "      <td>101006</td>\n",
       "      <td>grammar</td>\n",
       "      <td>What is grammar?</td>\n",
       "      <td>0</td>\n",
       "      <td>1</td>\n",
       "      <td>3</td>\n",
       "    </tr>\n",
       "    <tr>\n",
       "      <td>63712</td>\n",
       "      <td>63712</td>\n",
       "      <td>83329</td>\n",
       "      <td>110823</td>\n",
       "      <td>What?</td>\n",
       "      <td>What is the average processing time for a spouse sponsorship in Canada after appeal?</td>\n",
       "      <td>0</td>\n",
       "      <td>1</td>\n",
       "      <td>14</td>\n",
       "    </tr>\n",
       "    <tr>\n",
       "      <td>74304</td>\n",
       "      <td>74304</td>\n",
       "      <td>127360</td>\n",
       "      <td>127361</td>\n",
       "      <td>Is there any chances for hailstones tomorrow?</td>\n",
       "      <td>parisflatlist</td>\n",
       "      <td>0</td>\n",
       "      <td>7</td>\n",
       "      <td>1</td>\n",
       "    </tr>\n",
       "    <tr>\n",
       "      <td>86457</td>\n",
       "      <td>86457</td>\n",
       "      <td>145814</td>\n",
       "      <td>81121</td>\n",
       "      <td>Is?</td>\n",
       "      <td>Does mother/son incest happen in India?</td>\n",
       "      <td>0</td>\n",
       "      <td>1</td>\n",
       "      <td>6</td>\n",
       "    </tr>\n",
       "    <tr>\n",
       "      <td>87861</td>\n",
       "      <td>87861</td>\n",
       "      <td>147899</td>\n",
       "      <td>147900</td>\n",
       "      <td>Deleted.</td>\n",
       "      <td>How do I send notification from server to Android without using GCM?</td>\n",
       "      <td>0</td>\n",
       "      <td>1</td>\n",
       "      <td>12</td>\n",
       "    </tr>\n",
       "    <tr>\n",
       "      <td>96725</td>\n",
       "      <td>96725</td>\n",
       "      <td>161071</td>\n",
       "      <td>161072</td>\n",
       "      <td>?</td>\n",
       "      <td>Who are Moses, Noah and Exodus?</td>\n",
       "      <td>0</td>\n",
       "      <td>1</td>\n",
       "      <td>6</td>\n",
       "    </tr>\n",
       "    <tr>\n",
       "      <td>104101</td>\n",
       "      <td>104101</td>\n",
       "      <td>171925</td>\n",
       "      <td>171926</td>\n",
       "      <td>?</td>\n",
       "      <td>Problem of solving a problem is not a problem, but when a problem solves a problem without any problem then the problem is not at all a problem, why?</td>\n",
       "      <td>0</td>\n",
       "      <td>1</td>\n",
       "      <td>29</td>\n",
       "    </tr>\n",
       "    <tr>\n",
       "      <td>106577</td>\n",
       "      <td>106577</td>\n",
       "      <td>47035</td>\n",
       "      <td>175527</td>\n",
       "      <td>What?</td>\n",
       "      <td>What should a young person do after his office works?</td>\n",
       "      <td>0</td>\n",
       "      <td>1</td>\n",
       "      <td>10</td>\n",
       "    </tr>\n",
       "    <tr>\n",
       "      <td>108978</td>\n",
       "      <td>108978</td>\n",
       "      <td>178936</td>\n",
       "      <td>178937</td>\n",
       "      <td>i</td>\n",
       "      <td>What questions to ask any drdummer?</td>\n",
       "      <td>0</td>\n",
       "      <td>1</td>\n",
       "      <td>6</td>\n",
       "    </tr>\n",
       "    <tr>\n",
       "      <td>109009</td>\n",
       "      <td>109009</td>\n",
       "      <td>178981</td>\n",
       "      <td>178982</td>\n",
       "      <td>How do I make a box that I can put my phone in it when I don't want the microphone to listen to my conversations?</td>\n",
       "      <td>Hh</td>\n",
       "      <td>0</td>\n",
       "      <td>25</td>\n",
       "      <td>1</td>\n",
       "    </tr>\n",
       "    <tr>\n",
       "      <td>109311</td>\n",
       "      <td>109311</td>\n",
       "      <td>179423</td>\n",
       "      <td>179424</td>\n",
       "      <td>What</td>\n",
       "      <td>What are the options for getting fee concessions in BITS for economically weaker sections with income below 2lpa?</td>\n",
       "      <td>0</td>\n",
       "      <td>1</td>\n",
       "      <td>18</td>\n",
       "    </tr>\n",
       "    <tr>\n",
       "      <td>115347</td>\n",
       "      <td>115347</td>\n",
       "      <td>188110</td>\n",
       "      <td>52215</td>\n",
       "      <td>o</td>\n",
       "      <td>Where can I watch free streaming movies online?</td>\n",
       "      <td>0</td>\n",
       "      <td>1</td>\n",
       "      <td>8</td>\n",
       "    </tr>\n",
       "    <tr>\n",
       "      <td>130637</td>\n",
       "      <td>130637</td>\n",
       "      <td>209606</td>\n",
       "      <td>209607</td>\n",
       "      <td>Does the Quran surah 23: 5-6 prove that Allah allows the female captives to be raped?</td>\n",
       "      <td>Does?</td>\n",
       "      <td>0</td>\n",
       "      <td>16</td>\n",
       "      <td>1</td>\n",
       "    </tr>\n",
       "    <tr>\n",
       "      <td>134403</td>\n",
       "      <td>134403</td>\n",
       "      <td>214814</td>\n",
       "      <td>214815</td>\n",
       "      <td>?</td>\n",
       "      <td>What is your take on the undercover report that hints that Indian gov plans to capture kshatriya caste people and sends them to Indo-Pak border?</td>\n",
       "      <td>0</td>\n",
       "      <td>1</td>\n",
       "      <td>25</td>\n",
       "    </tr>\n",
       "    <tr>\n",
       "      <td>139219</td>\n",
       "      <td>139219</td>\n",
       "      <td>33561</td>\n",
       "      <td>40405</td>\n",
       "      <td>deleted</td>\n",
       "      <td>Where can I get online PDF or EPUB versions of books?</td>\n",
       "      <td>0</td>\n",
       "      <td>1</td>\n",
       "      <td>11</td>\n",
       "    </tr>\n",
       "    <tr>\n",
       "      <td>141281</td>\n",
       "      <td>141281</td>\n",
       "      <td>147899</td>\n",
       "      <td>224327</td>\n",
       "      <td>Deleted.</td>\n",
       "      <td>null</td>\n",
       "      <td>0</td>\n",
       "      <td>1</td>\n",
       "      <td>1</td>\n",
       "    </tr>\n",
       "    <tr>\n",
       "      <td>144506</td>\n",
       "      <td>144506</td>\n",
       "      <td>228687</td>\n",
       "      <td>228688</td>\n",
       "      <td>How beautiful do you think you are?</td>\n",
       "      <td>Delete</td>\n",
       "      <td>0</td>\n",
       "      <td>7</td>\n",
       "      <td>1</td>\n",
       "    </tr>\n",
       "    <tr>\n",
       "      <td>145000</td>\n",
       "      <td>145000</td>\n",
       "      <td>229359</td>\n",
       "      <td>229360</td>\n",
       "      <td>Me and my girlfriend wish to go out and do 'stuff' and we have just public places to go to, where can we do it without anyone knowing?</td>\n",
       "      <td>Deleted.</td>\n",
       "      <td>0</td>\n",
       "      <td>28</td>\n",
       "      <td>1</td>\n",
       "    </tr>\n",
       "    <tr>\n",
       "      <td>151922</td>\n",
       "      <td>151922</td>\n",
       "      <td>188110</td>\n",
       "      <td>238787</td>\n",
       "      <td>o</td>\n",
       "      <td>What is this - “This website/URL has been blocked as per instructions from Department of Telecommunications and/or Courts of India.”</td>\n",
       "      <td>0</td>\n",
       "      <td>1</td>\n",
       "      <td>20</td>\n",
       "    </tr>\n",
       "    <tr>\n",
       "      <td>158778</td>\n",
       "      <td>158778</td>\n",
       "      <td>247989</td>\n",
       "      <td>48850</td>\n",
       "      <td>A</td>\n",
       "      <td>Do men forgive their wives when they cheat on them?</td>\n",
       "      <td>0</td>\n",
       "      <td>1</td>\n",
       "      <td>10</td>\n",
       "    </tr>\n",
       "    <tr>\n",
       "      <td>164553</td>\n",
       "      <td>164553</td>\n",
       "      <td>255663</td>\n",
       "      <td>255664</td>\n",
       "      <td>Nana</td>\n",
       "      <td>If my ex-girfriend of 2 years tries to come back to me after just 1 week since we broke up, stating that she understood our issues and that she can solve them, should I trust her?</td>\n",
       "      <td>0</td>\n",
       "      <td>1</td>\n",
       "      <td>36</td>\n",
       "    </tr>\n",
       "    <tr>\n",
       "      <td>169290</td>\n",
       "      <td>169290</td>\n",
       "      <td>262028</td>\n",
       "      <td>262029</td>\n",
       "      <td>111</td>\n",
       "      <td>I'm looking for the book Intelligent Investor by Benjamin Graham.  Do you think I can find it at my local library?</td>\n",
       "      <td>0</td>\n",
       "      <td>1</td>\n",
       "      <td>21</td>\n",
       "    </tr>\n",
       "    <tr>\n",
       "      <td>175282</td>\n",
       "      <td>175282</td>\n",
       "      <td>269923</td>\n",
       "      <td>44699</td>\n",
       "      <td>Hh</td>\n",
       "      <td>HH</td>\n",
       "      <td>1</td>\n",
       "      <td>1</td>\n",
       "      <td>1</td>\n",
       "    </tr>\n",
       "    <tr>\n",
       "      <td>175584</td>\n",
       "      <td>175584</td>\n",
       "      <td>95429</td>\n",
       "      <td>110024</td>\n",
       "      <td>I'm</td>\n",
       "      <td>I am 25 yrs old and I am still virgin. How can I change this fact?</td>\n",
       "      <td>0</td>\n",
       "      <td>1</td>\n",
       "      <td>16</td>\n",
       "    </tr>\n",
       "    <tr>\n",
       "      <td>180461</td>\n",
       "      <td>180461</td>\n",
       "      <td>276676</td>\n",
       "      <td>153211</td>\n",
       "      <td>spam</td>\n",
       "      <td>Why was spam is called spam?</td>\n",
       "      <td>0</td>\n",
       "      <td>1</td>\n",
       "      <td>6</td>\n",
       "    </tr>\n",
       "    <tr>\n",
       "      <td>181695</td>\n",
       "      <td>181695</td>\n",
       "      <td>278281</td>\n",
       "      <td>278282</td>\n",
       "      <td>Why does the page reload every time I try to comment?</td>\n",
       "      <td>Why</td>\n",
       "      <td>0</td>\n",
       "      <td>11</td>\n",
       "      <td>1</td>\n",
       "    </tr>\n",
       "    <tr>\n",
       "      <td>182943</td>\n",
       "      <td>182943</td>\n",
       "      <td>279869</td>\n",
       "      <td>279870</td>\n",
       "      <td>[removed]</td>\n",
       "      <td>Is playing video games immature?</td>\n",
       "      <td>0</td>\n",
       "      <td>1</td>\n",
       "      <td>5</td>\n",
       "    </tr>\n",
       "    <tr>\n",
       "      <td>189396</td>\n",
       "      <td>189396</td>\n",
       "      <td>288142</td>\n",
       "      <td>288143</td>\n",
       "      <td>Which</td>\n",
       "      <td>Which Fake GPS with Joystick app will work for Pokémon go in Redmi note 3(Lollipop)?</td>\n",
       "      <td>0</td>\n",
       "      <td>1</td>\n",
       "      <td>15</td>\n",
       "    </tr>\n",
       "    <tr>\n",
       "      <td>189659</td>\n",
       "      <td>189659</td>\n",
       "      <td>161071</td>\n",
       "      <td>288480</td>\n",
       "      <td>?</td>\n",
       "      <td>Who is Noah?</td>\n",
       "      <td>0</td>\n",
       "      <td>1</td>\n",
       "      <td>3</td>\n",
       "    </tr>\n",
       "    <tr>\n",
       "      <td>190570</td>\n",
       "      <td>190570</td>\n",
       "      <td>289688</td>\n",
       "      <td>289689</td>\n",
       "      <td>‘</td>\n",
       "      <td>Time is money.Can some one explain, how it works?</td>\n",
       "      <td>0</td>\n",
       "      <td>1</td>\n",
       "      <td>9</td>\n",
       "    </tr>\n",
       "    <tr>\n",
       "      <td>193246</td>\n",
       "      <td>193246</td>\n",
       "      <td>237200</td>\n",
       "      <td>279869</td>\n",
       "      <td>What was it like to be in the game industry during the moral panic against video games caused by mainstream media coverage of games like Night Trap, Doom, and Mortal Kombat?</td>\n",
       "      <td>[removed]</td>\n",
       "      <td>0</td>\n",
       "      <td>31</td>\n",
       "      <td>1</td>\n",
       "    </tr>\n",
       "    <tr>\n",
       "      <td>193815</td>\n",
       "      <td>193815</td>\n",
       "      <td>33561</td>\n",
       "      <td>80253</td>\n",
       "      <td>deleted</td>\n",
       "      <td>What is the best site to download books?</td>\n",
       "      <td>0</td>\n",
       "      <td>1</td>\n",
       "      <td>8</td>\n",
       "    </tr>\n",
       "    <tr>\n",
       "      <td>198913</td>\n",
       "      <td>198913</td>\n",
       "      <td>300250</td>\n",
       "      <td>188110</td>\n",
       "      <td>What is this?</td>\n",
       "      <td>o</td>\n",
       "      <td>0</td>\n",
       "      <td>3</td>\n",
       "      <td>1</td>\n",
       "    </tr>\n",
       "    <tr>\n",
       "      <td>199110</td>\n",
       "      <td>199110</td>\n",
       "      <td>300509</td>\n",
       "      <td>300510</td>\n",
       "      <td>I</td>\n",
       "      <td>What is the connection between Donald trump and Norman Vincent peale?</td>\n",
       "      <td>0</td>\n",
       "      <td>1</td>\n",
       "      <td>11</td>\n",
       "    </tr>\n",
       "    <tr>\n",
       "      <td>205947</td>\n",
       "      <td>205947</td>\n",
       "      <td>147899</td>\n",
       "      <td>309237</td>\n",
       "      <td>Deleted.</td>\n",
       "      <td>Null</td>\n",
       "      <td>0</td>\n",
       "      <td>1</td>\n",
       "      <td>1</td>\n",
       "    </tr>\n",
       "    <tr>\n",
       "      <td>208199</td>\n",
       "      <td>208199</td>\n",
       "      <td>312128</td>\n",
       "      <td>312129</td>\n",
       "      <td>Happiness! We offer a seat or help others because the act makes us feel good .Everything  is done for our own happiness .Why are we so selfish?</td>\n",
       "      <td>Edit</td>\n",
       "      <td>0</td>\n",
       "      <td>27</td>\n",
       "      <td>1</td>\n",
       "    </tr>\n",
       "    <tr>\n",
       "      <td>208485</td>\n",
       "      <td>208485</td>\n",
       "      <td>312495</td>\n",
       "      <td>312496</td>\n",
       "      <td>?</td>\n",
       "      <td>Given that PACER makes money from usage, why does the legal profession tolerate its absurd awfulness?</td>\n",
       "      <td>0</td>\n",
       "      <td>1</td>\n",
       "      <td>16</td>\n",
       "    </tr>\n",
       "    <tr>\n",
       "      <td>208798</td>\n",
       "      <td>208798</td>\n",
       "      <td>312898</td>\n",
       "      <td>312899</td>\n",
       "      <td>Can?</td>\n",
       "      <td>Can I insure a vehicle and receive a license plate without possessing a driver's license?</td>\n",
       "      <td>0</td>\n",
       "      <td>1</td>\n",
       "      <td>15</td>\n",
       "    </tr>\n",
       "    <tr>\n",
       "      <td>213220</td>\n",
       "      <td>213220</td>\n",
       "      <td>25026</td>\n",
       "      <td>64784</td>\n",
       "      <td>?</td>\n",
       "      <td>What is it like to work at Google?</td>\n",
       "      <td>0</td>\n",
       "      <td>1</td>\n",
       "      <td>8</td>\n",
       "    </tr>\n",
       "    <tr>\n",
       "      <td>216861</td>\n",
       "      <td>216861</td>\n",
       "      <td>323090</td>\n",
       "      <td>17986</td>\n",
       "      <td>Aaas</td>\n",
       "      <td>My dad always yells at me and causes me anxiety. How do I fix this?</td>\n",
       "      <td>0</td>\n",
       "      <td>1</td>\n",
       "      <td>15</td>\n",
       "    </tr>\n",
       "    <tr>\n",
       "      <td>226925</td>\n",
       "      <td>226925</td>\n",
       "      <td>335645</td>\n",
       "      <td>335646</td>\n",
       "      <td>Which in the best bike desert storm or Himalayan. I m gona buy in next 3 months?</td>\n",
       "      <td>????</td>\n",
       "      <td>0</td>\n",
       "      <td>17</td>\n",
       "      <td>1</td>\n",
       "    </tr>\n",
       "    <tr>\n",
       "      <td>231151</td>\n",
       "      <td>231151</td>\n",
       "      <td>340885</td>\n",
       "      <td>340886</td>\n",
       "      <td>Marriage</td>\n",
       "      <td>\"Marriage is an institution.\" What does this mean?</td>\n",
       "      <td>0</td>\n",
       "      <td>1</td>\n",
       "      <td>8</td>\n",
       "    </tr>\n",
       "    <tr>\n",
       "      <td>231313</td>\n",
       "      <td>231313</td>\n",
       "      <td>179756</td>\n",
       "      <td>341088</td>\n",
       "      <td>From where to download episode2 season 3 of The Flash?</td>\n",
       "      <td>deleted</td>\n",
       "      <td>0</td>\n",
       "      <td>10</td>\n",
       "      <td>1</td>\n",
       "    </tr>\n",
       "    <tr>\n",
       "      <td>231879</td>\n",
       "      <td>231879</td>\n",
       "      <td>33561</td>\n",
       "      <td>341779</td>\n",
       "      <td>deleted</td>\n",
       "      <td>What are the best websites to download ebooks from?</td>\n",
       "      <td>0</td>\n",
       "      <td>1</td>\n",
       "      <td>9</td>\n",
       "    </tr>\n",
       "    <tr>\n",
       "      <td>236655</td>\n",
       "      <td>236655</td>\n",
       "      <td>153211</td>\n",
       "      <td>347631</td>\n",
       "      <td>Why was spam is called spam?</td>\n",
       "      <td>Spam</td>\n",
       "      <td>0</td>\n",
       "      <td>6</td>\n",
       "      <td>1</td>\n",
       "    </tr>\n",
       "    <tr>\n",
       "      <td>245880</td>\n",
       "      <td>245880</td>\n",
       "      <td>358814</td>\n",
       "      <td>358815</td>\n",
       "      <td>sss</td>\n",
       "      <td>What is sss?</td>\n",
       "      <td>0</td>\n",
       "      <td>1</td>\n",
       "      <td>3</td>\n",
       "    </tr>\n",
       "    <tr>\n",
       "      <td>248125</td>\n",
       "      <td>248125</td>\n",
       "      <td>341088</td>\n",
       "      <td>341919</td>\n",
       "      <td>deleted</td>\n",
       "      <td>How can I download flash season 2 episodes?</td>\n",
       "      <td>0</td>\n",
       "      <td>1</td>\n",
       "      <td>8</td>\n",
       "    </tr>\n",
       "    <tr>\n",
       "      <td>254161</td>\n",
       "      <td>254161</td>\n",
       "      <td>214814</td>\n",
       "      <td>368834</td>\n",
       "      <td>?</td>\n",
       "      <td>How do I convince my non-Indian friends that not all Indians are cow worshippers and not all of them text every woman they find on Facebook?</td>\n",
       "      <td>0</td>\n",
       "      <td>1</td>\n",
       "      <td>26</td>\n",
       "    </tr>\n",
       "    <tr>\n",
       "      <td>257077</td>\n",
       "      <td>257077</td>\n",
       "      <td>372328</td>\n",
       "      <td>139258</td>\n",
       "      <td>hi</td>\n",
       "      <td>What should I do to get my ex-girlfriend back if she does not even want to talk to me?</td>\n",
       "      <td>0</td>\n",
       "      <td>1</td>\n",
       "      <td>19</td>\n",
       "    </tr>\n",
       "    <tr>\n",
       "      <td>260779</td>\n",
       "      <td>260779</td>\n",
       "      <td>376791</td>\n",
       "      <td>376792</td>\n",
       "      <td>Why?</td>\n",
       "      <td>Why can't mules reproduce?</td>\n",
       "      <td>0</td>\n",
       "      <td>1</td>\n",
       "      <td>4</td>\n",
       "    </tr>\n",
       "    <tr>\n",
       "      <td>263134</td>\n",
       "      <td>263134</td>\n",
       "      <td>379636</td>\n",
       "      <td>29712</td>\n",
       "      <td>delete</td>\n",
       "      <td>What kind of questions on Quora aren't OK? What is Quora's policy on question deletion?</td>\n",
       "      <td>0</td>\n",
       "      <td>1</td>\n",
       "      <td>15</td>\n",
       "    </tr>\n",
       "    <tr>\n",
       "      <td>270146</td>\n",
       "      <td>270146</td>\n",
       "      <td>387976</td>\n",
       "      <td>387977</td>\n",
       "      <td>Ok</td>\n",
       "      <td>What would you do if you were wealthy?</td>\n",
       "      <td>0</td>\n",
       "      <td>1</td>\n",
       "      <td>8</td>\n",
       "    </tr>\n",
       "    <tr>\n",
       "      <td>273065</td>\n",
       "      <td>273065</td>\n",
       "      <td>391451</td>\n",
       "      <td>380455</td>\n",
       "      <td>?</td>\n",
       "      <td>How can I describe Quora, in all its glory, to friends?</td>\n",
       "      <td>0</td>\n",
       "      <td>1</td>\n",
       "      <td>11</td>\n",
       "    </tr>\n",
       "    <tr>\n",
       "      <td>289307</td>\n",
       "      <td>289307</td>\n",
       "      <td>178981</td>\n",
       "      <td>269923</td>\n",
       "      <td>How do I make a box that I can put my phone in it when I don't want the microphone to listen to my conversations?</td>\n",
       "      <td>Hh</td>\n",
       "      <td>0</td>\n",
       "      <td>25</td>\n",
       "      <td>1</td>\n",
       "    </tr>\n",
       "    <tr>\n",
       "      <td>297461</td>\n",
       "      <td>297461</td>\n",
       "      <td>419830</td>\n",
       "      <td>419831</td>\n",
       "      <td>civil</td>\n",
       "      <td>What is best DSLR? Canon or Nikon?</td>\n",
       "      <td>0</td>\n",
       "      <td>1</td>\n",
       "      <td>7</td>\n",
       "    </tr>\n",
       "    <tr>\n",
       "      <td>301583</td>\n",
       "      <td>301583</td>\n",
       "      <td>424494</td>\n",
       "      <td>424495</td>\n",
       "      <td>…..</td>\n",
       "      <td>What do I do with this guy?</td>\n",
       "      <td>0</td>\n",
       "      <td>1</td>\n",
       "      <td>7</td>\n",
       "    </tr>\n",
       "    <tr>\n",
       "      <td>306878</td>\n",
       "      <td>306878</td>\n",
       "      <td>391795</td>\n",
       "      <td>83329</td>\n",
       "      <td>Is the electric field in the cavity of a hollow charged conductor zero?</td>\n",
       "      <td>What?</td>\n",
       "      <td>0</td>\n",
       "      <td>13</td>\n",
       "      <td>1</td>\n",
       "    </tr>\n",
       "    <tr>\n",
       "      <td>312498</td>\n",
       "      <td>312498</td>\n",
       "      <td>83329</td>\n",
       "      <td>436949</td>\n",
       "      <td>What?</td>\n",
       "      <td>What is life like at MAMC? How are the hostel facilities and the seniors?</td>\n",
       "      <td>0</td>\n",
       "      <td>1</td>\n",
       "      <td>14</td>\n",
       "    </tr>\n",
       "    <tr>\n",
       "      <td>322261</td>\n",
       "      <td>322261</td>\n",
       "      <td>448056</td>\n",
       "      <td>147899</td>\n",
       "      <td>Am I cursed with bad luck?</td>\n",
       "      <td>Deleted.</td>\n",
       "      <td>0</td>\n",
       "      <td>6</td>\n",
       "      <td>1</td>\n",
       "    </tr>\n",
       "    <tr>\n",
       "      <td>322705</td>\n",
       "      <td>322705</td>\n",
       "      <td>448565</td>\n",
       "      <td>366254</td>\n",
       "      <td>Cloning?</td>\n",
       "      <td>To clone or not to clone?</td>\n",
       "      <td>0</td>\n",
       "      <td>1</td>\n",
       "      <td>6</td>\n",
       "    </tr>\n",
       "    <tr>\n",
       "      <td>324777</td>\n",
       "      <td>324777</td>\n",
       "      <td>450926</td>\n",
       "      <td>45314</td>\n",
       "      <td>Why?</td>\n",
       "      <td>Why are answers and reviews on Quora collapsed?</td>\n",
       "      <td>0</td>\n",
       "      <td>1</td>\n",
       "      <td>8</td>\n",
       "    </tr>\n",
       "    <tr>\n",
       "      <td>325200</td>\n",
       "      <td>325200</td>\n",
       "      <td>451410</td>\n",
       "      <td>270139</td>\n",
       "      <td>Error</td>\n",
       "      <td>Will there be an error in measuring the error?</td>\n",
       "      <td>0</td>\n",
       "      <td>1</td>\n",
       "      <td>9</td>\n",
       "    </tr>\n",
       "    <tr>\n",
       "      <td>325530</td>\n",
       "      <td>325530</td>\n",
       "      <td>451788</td>\n",
       "      <td>451789</td>\n",
       "      <td>My</td>\n",
       "      <td>My boyfriend told me he was not as attracted to me like he has been with past girlfriends. I don't know even what to say to this, or how to feel but hurt. What should I do?</td>\n",
       "      <td>0</td>\n",
       "      <td>1</td>\n",
       "      <td>37</td>\n",
       "    </tr>\n",
       "    <tr>\n",
       "      <td>326297</td>\n",
       "      <td>326297</td>\n",
       "      <td>452592</td>\n",
       "      <td>9811</td>\n",
       "      <td>How</td>\n",
       "      <td>What are some of the best ways to learn programming?</td>\n",
       "      <td>0</td>\n",
       "      <td>1</td>\n",
       "      <td>10</td>\n",
       "    </tr>\n",
       "    <tr>\n",
       "      <td>327206</td>\n",
       "      <td>327206</td>\n",
       "      <td>453611</td>\n",
       "      <td>453612</td>\n",
       "      <td>Life:</td>\n",
       "      <td>What is life of life?</td>\n",
       "      <td>0</td>\n",
       "      <td>1</td>\n",
       "      <td>5</td>\n",
       "    </tr>\n",
       "    <tr>\n",
       "      <td>328601</td>\n",
       "      <td>328601</td>\n",
       "      <td>451788</td>\n",
       "      <td>455166</td>\n",
       "      <td>My</td>\n",
       "      <td>My father has many new technologies with him (many fields) who can he approach to get it implemented (to get it financed)?</td>\n",
       "      <td>0</td>\n",
       "      <td>1</td>\n",
       "      <td>22</td>\n",
       "    </tr>\n",
       "    <tr>\n",
       "      <td>328745</td>\n",
       "      <td>328745</td>\n",
       "      <td>125092</td>\n",
       "      <td>455319</td>\n",
       "      <td>lol ?</td>\n",
       "      <td>lol</td>\n",
       "      <td>1</td>\n",
       "      <td>2</td>\n",
       "      <td>1</td>\n",
       "    </tr>\n",
       "    <tr>\n",
       "      <td>348571</td>\n",
       "      <td>348571</td>\n",
       "      <td>147899</td>\n",
       "      <td>477143</td>\n",
       "      <td>Deleted.</td>\n",
       "      <td>Should I be happy for her? Or does this make her a bad friend?</td>\n",
       "      <td>0</td>\n",
       "      <td>1</td>\n",
       "      <td>14</td>\n",
       "    </tr>\n",
       "    <tr>\n",
       "      <td>351788</td>\n",
       "      <td>351788</td>\n",
       "      <td>480660</td>\n",
       "      <td>480661</td>\n",
       "      <td>Q?</td>\n",
       "      <td>I have some secrets..what if I smoke marijuana with my boyfriend and he asks me about the past, will I control my answers and not telling the truth?</td>\n",
       "      <td>0</td>\n",
       "      <td>1</td>\n",
       "      <td>28</td>\n",
       "    </tr>\n",
       "    <tr>\n",
       "      <td>356434</td>\n",
       "      <td>356434</td>\n",
       "      <td>147899</td>\n",
       "      <td>485756</td>\n",
       "      <td>Deleted.</td>\n",
       "      <td>Do gay men find red headed men more attractive than women find red headed men?</td>\n",
       "      <td>0</td>\n",
       "      <td>1</td>\n",
       "      <td>15</td>\n",
       "    </tr>\n",
       "    <tr>\n",
       "      <td>357127</td>\n",
       "      <td>357127</td>\n",
       "      <td>486520</td>\n",
       "      <td>146954</td>\n",
       "      <td>H</td>\n",
       "      <td>Should I forgive the cheater?</td>\n",
       "      <td>0</td>\n",
       "      <td>1</td>\n",
       "      <td>5</td>\n",
       "    </tr>\n",
       "    <tr>\n",
       "      <td>361480</td>\n",
       "      <td>361480</td>\n",
       "      <td>491330</td>\n",
       "      <td>347631</td>\n",
       "      <td>As a 13 year old, how do I get out of my unlivable house?</td>\n",
       "      <td>Spam</td>\n",
       "      <td>0</td>\n",
       "      <td>14</td>\n",
       "      <td>1</td>\n",
       "    </tr>\n",
       "    <tr>\n",
       "      <td>365317</td>\n",
       "      <td>365317</td>\n",
       "      <td>33561</td>\n",
       "      <td>365465</td>\n",
       "      <td>deleted</td>\n",
       "      <td>From which site I can download GTA 4 game?</td>\n",
       "      <td>0</td>\n",
       "      <td>1</td>\n",
       "      <td>9</td>\n",
       "    </tr>\n",
       "    <tr>\n",
       "      <td>381124</td>\n",
       "      <td>381124</td>\n",
       "      <td>512812</td>\n",
       "      <td>512813</td>\n",
       "      <td>no</td>\n",
       "      <td>I have a BS and MPH and hate my job. I found that I love working with website design but is it worth going back to school?</td>\n",
       "      <td>0</td>\n",
       "      <td>1</td>\n",
       "      <td>27</td>\n",
       "    </tr>\n",
       "    <tr>\n",
       "      <td>384293</td>\n",
       "      <td>384293</td>\n",
       "      <td>516316</td>\n",
       "      <td>37899</td>\n",
       "      <td>How do I solve this?</td>\n",
       "      <td>…………..</td>\n",
       "      <td>0</td>\n",
       "      <td>5</td>\n",
       "      <td>1</td>\n",
       "    </tr>\n",
       "    <tr>\n",
       "      <td>402423</td>\n",
       "      <td>402423</td>\n",
       "      <td>535899</td>\n",
       "      <td>119568</td>\n",
       "      <td>?</td>\n",
       "      <td>What is cisco router technical support phone number?</td>\n",
       "      <td>0</td>\n",
       "      <td>1</td>\n",
       "      <td>8</td>\n",
       "    </tr>\n",
       "  </tbody>\n",
       "</table>\n",
       "</div>"
      ],
      "text/plain": [
       "            id    qid1    qid2  \\\n",
       "3306    3306    6553    6554     \n",
       "13016   13016   25026   25027    \n",
       "17682   17682   33561   33562    \n",
       "20072   20072   37898   37899    \n",
       "20794   20794   39204   39205    \n",
       "23305   23305   33561   43661    \n",
       "23884   23884   44699   44700    \n",
       "25228   25228   47035   47036    \n",
       "25315   25315   47198   29712    \n",
       "39769   39769   33561   72063    \n",
       "44619   44619   80055   80056    \n",
       "46596   46596   83328   83329    \n",
       "47056   47056   84067   84068    \n",
       "51909   51909   92003   83329    \n",
       "54029   54029   95429   95430    \n",
       "57484   57484   101005  101006   \n",
       "63712   63712   83329   110823   \n",
       "74304   74304   127360  127361   \n",
       "86457   86457   145814  81121    \n",
       "87861   87861   147899  147900   \n",
       "96725   96725   161071  161072   \n",
       "104101  104101  171925  171926   \n",
       "106577  106577  47035   175527   \n",
       "108978  108978  178936  178937   \n",
       "109009  109009  178981  178982   \n",
       "109311  109311  179423  179424   \n",
       "115347  115347  188110  52215    \n",
       "130637  130637  209606  209607   \n",
       "134403  134403  214814  214815   \n",
       "139219  139219  33561   40405    \n",
       "141281  141281  147899  224327   \n",
       "144506  144506  228687  228688   \n",
       "145000  145000  229359  229360   \n",
       "151922  151922  188110  238787   \n",
       "158778  158778  247989  48850    \n",
       "164553  164553  255663  255664   \n",
       "169290  169290  262028  262029   \n",
       "175282  175282  269923  44699    \n",
       "175584  175584  95429   110024   \n",
       "180461  180461  276676  153211   \n",
       "181695  181695  278281  278282   \n",
       "182943  182943  279869  279870   \n",
       "189396  189396  288142  288143   \n",
       "189659  189659  161071  288480   \n",
       "190570  190570  289688  289689   \n",
       "193246  193246  237200  279869   \n",
       "193815  193815  33561   80253    \n",
       "198913  198913  300250  188110   \n",
       "199110  199110  300509  300510   \n",
       "205947  205947  147899  309237   \n",
       "208199  208199  312128  312129   \n",
       "208485  208485  312495  312496   \n",
       "208798  208798  312898  312899   \n",
       "213220  213220  25026   64784    \n",
       "216861  216861  323090  17986    \n",
       "226925  226925  335645  335646   \n",
       "231151  231151  340885  340886   \n",
       "231313  231313  179756  341088   \n",
       "231879  231879  33561   341779   \n",
       "236655  236655  153211  347631   \n",
       "245880  245880  358814  358815   \n",
       "248125  248125  341088  341919   \n",
       "254161  254161  214814  368834   \n",
       "257077  257077  372328  139258   \n",
       "260779  260779  376791  376792   \n",
       "263134  263134  379636  29712    \n",
       "270146  270146  387976  387977   \n",
       "273065  273065  391451  380455   \n",
       "289307  289307  178981  269923   \n",
       "297461  297461  419830  419831   \n",
       "301583  301583  424494  424495   \n",
       "306878  306878  391795  83329    \n",
       "312498  312498  83329   436949   \n",
       "322261  322261  448056  147899   \n",
       "322705  322705  448565  366254   \n",
       "324777  324777  450926  45314    \n",
       "325200  325200  451410  270139   \n",
       "325530  325530  451788  451789   \n",
       "326297  326297  452592  9811     \n",
       "327206  327206  453611  453612   \n",
       "328601  328601  451788  455166   \n",
       "328745  328745  125092  455319   \n",
       "348571  348571  147899  477143   \n",
       "351788  351788  480660  480661   \n",
       "356434  356434  147899  485756   \n",
       "357127  357127  486520  146954   \n",
       "361480  361480  491330  347631   \n",
       "365317  365317  33561   365465   \n",
       "381124  381124  512812  512813   \n",
       "384293  384293  516316  37899    \n",
       "402423  402423  535899  119568   \n",
       "\n",
       "                                                                                                                                                                            question1  \\\n",
       "3306    .                                                                                                                                                                               \n",
       "13016   ?                                                                                                                                                                               \n",
       "17682   deleted                                                                                                                                                                         \n",
       "20072   How could I solve this?                                                                                                                                                         \n",
       "20794   ?                                                                                                                                                                               \n",
       "23305   deleted                                                                                                                                                                         \n",
       "23884   HH                                                                                                                                                                              \n",
       "25228   What?                                                                                                                                                                           \n",
       "25315   deleted                                                                                                                                                                         \n",
       "39769   deleted                                                                                                                                                                         \n",
       "44619   Na                                                                                                                                                                              \n",
       "46596   How To Edit DNA?                                                                                                                                                                \n",
       "47056   Is there anywhere in the world offering pain management for peripheral neuropathy as opioids haved been banned in US?                                                           \n",
       "51909   What should yellow taxis do to face competition from Ola and Uber?                                                                                                              \n",
       "54029   I'm                                                                                                                                                                             \n",
       "57484   grammar                                                                                                                                                                         \n",
       "63712   What?                                                                                                                                                                           \n",
       "74304   Is there any chances for hailstones tomorrow?                                                                                                                                   \n",
       "86457   Is?                                                                                                                                                                             \n",
       "87861   Deleted.                                                                                                                                                                        \n",
       "96725   ?                                                                                                                                                                               \n",
       "104101  ?                                                                                                                                                                               \n",
       "106577  What?                                                                                                                                                                           \n",
       "108978  i                                                                                                                                                                               \n",
       "109009  How do I make a box that I can put my phone in it when I don't want the microphone to listen to my conversations?                                                               \n",
       "109311  What                                                                                                                                                                            \n",
       "115347  o                                                                                                                                                                               \n",
       "130637  Does the Quran surah 23: 5-6 prove that Allah allows the female captives to be raped?                                                                                           \n",
       "134403  ?                                                                                                                                                                               \n",
       "139219  deleted                                                                                                                                                                         \n",
       "141281  Deleted.                                                                                                                                                                        \n",
       "144506  How beautiful do you think you are?                                                                                                                                             \n",
       "145000  Me and my girlfriend wish to go out and do 'stuff' and we have just public places to go to, where can we do it without anyone knowing?                                          \n",
       "151922  o                                                                                                                                                                               \n",
       "158778  A                                                                                                                                                                               \n",
       "164553  Nana                                                                                                                                                                            \n",
       "169290  111                                                                                                                                                                             \n",
       "175282  Hh                                                                                                                                                                              \n",
       "175584  I'm                                                                                                                                                                             \n",
       "180461  spam                                                                                                                                                                            \n",
       "181695  Why does the page reload every time I try to comment?                                                                                                                           \n",
       "182943  [removed]                                                                                                                                                                       \n",
       "189396  Which                                                                                                                                                                           \n",
       "189659  ?                                                                                                                                                                               \n",
       "190570  ‘                                                                                                                                                                               \n",
       "193246  What was it like to be in the game industry during the moral panic against video games caused by mainstream media coverage of games like Night Trap, Doom, and Mortal Kombat?   \n",
       "193815  deleted                                                                                                                                                                         \n",
       "198913  What is this?                                                                                                                                                                   \n",
       "199110  I                                                                                                                                                                               \n",
       "205947  Deleted.                                                                                                                                                                        \n",
       "208199  Happiness! We offer a seat or help others because the act makes us feel good .Everything  is done for our own happiness .Why are we so selfish?                                 \n",
       "208485  ?                                                                                                                                                                               \n",
       "208798  Can?                                                                                                                                                                            \n",
       "213220  ?                                                                                                                                                                               \n",
       "216861  Aaas                                                                                                                                                                            \n",
       "226925  Which in the best bike desert storm or Himalayan. I m gona buy in next 3 months?                                                                                                \n",
       "231151  Marriage                                                                                                                                                                        \n",
       "231313  From where to download episode2 season 3 of The Flash?                                                                                                                          \n",
       "231879  deleted                                                                                                                                                                         \n",
       "236655  Why was spam is called spam?                                                                                                                                                    \n",
       "245880  sss                                                                                                                                                                             \n",
       "248125  deleted                                                                                                                                                                         \n",
       "254161  ?                                                                                                                                                                               \n",
       "257077  hi                                                                                                                                                                              \n",
       "260779  Why?                                                                                                                                                                            \n",
       "263134  delete                                                                                                                                                                          \n",
       "270146  Ok                                                                                                                                                                              \n",
       "273065  ?                                                                                                                                                                               \n",
       "289307  How do I make a box that I can put my phone in it when I don't want the microphone to listen to my conversations?                                                               \n",
       "297461  civil                                                                                                                                                                           \n",
       "301583  …..                                                                                                                                                                             \n",
       "306878  Is the electric field in the cavity of a hollow charged conductor zero?                                                                                                         \n",
       "312498  What?                                                                                                                                                                           \n",
       "322261  Am I cursed with bad luck?                                                                                                                                                      \n",
       "322705  Cloning?                                                                                                                                                                        \n",
       "324777  Why?                                                                                                                                                                            \n",
       "325200  Error                                                                                                                                                                           \n",
       "325530  My                                                                                                                                                                              \n",
       "326297  How                                                                                                                                                                             \n",
       "327206  Life:                                                                                                                                                                           \n",
       "328601  My                                                                                                                                                                              \n",
       "328745  lol ?                                                                                                                                                                           \n",
       "348571  Deleted.                                                                                                                                                                        \n",
       "351788  Q?                                                                                                                                                                              \n",
       "356434  Deleted.                                                                                                                                                                        \n",
       "357127  H                                                                                                                                                                               \n",
       "361480  As a 13 year old, how do I get out of my unlivable house?                                                                                                                       \n",
       "365317  deleted                                                                                                                                                                         \n",
       "381124  no                                                                                                                                                                              \n",
       "384293  How do I solve this?                                                                                                                                                            \n",
       "402423  ?                                                                                                                                                                               \n",
       "\n",
       "                                                                                                                                                                                  question2  \\\n",
       "3306    Why is Cornell's endowment the lowest in the Ivy League?                                                                                                                              \n",
       "13016   Why should one not work at Google?                                                                                                                                                    \n",
       "17682   Which website will be suitable for downloading eBooks and lectures?                                                                                                                   \n",
       "20072   …………..                                                                                                                                                                                \n",
       "20794   What is the Gmail tech support help phone number?                                                                                                                                     \n",
       "23305   Which are some best websites for downloading newly published books/eBooks?                                                                                                            \n",
       "23884   What is hh?                                                                                                                                                                           \n",
       "25228   What should Indians do if Donald Trump becomes President?                                                                                                                             \n",
       "25315   What kind of questions on Quora aren't OK? What is Quora's policy on question deletion?                                                                                               \n",
       "39769   What is a website where I can download eBooks legally?                                                                                                                                \n",
       "44619   How do I activate Reliance Jio 4G?                                                                                                                                                    \n",
       "46596   What?                                                                                                                                                                                 \n",
       "47056   ?                                                                                                                                                                                     \n",
       "51909   What?                                                                                                                                                                                 \n",
       "54029   I am a 39 year old single woman. Should I have a baby alone?                                                                                                                          \n",
       "57484   What is grammar?                                                                                                                                                                      \n",
       "63712   What is the average processing time for a spouse sponsorship in Canada after appeal?                                                                                                  \n",
       "74304   parisflatlist                                                                                                                                                                         \n",
       "86457   Does mother/son incest happen in India?                                                                                                                                               \n",
       "87861   How do I send notification from server to Android without using GCM?                                                                                                                  \n",
       "96725   Who are Moses, Noah and Exodus?                                                                                                                                                       \n",
       "104101  Problem of solving a problem is not a problem, but when a problem solves a problem without any problem then the problem is not at all a problem, why?                                 \n",
       "106577  What should a young person do after his office works?                                                                                                                                 \n",
       "108978  What questions to ask any drdummer?                                                                                                                                                   \n",
       "109009  Hh                                                                                                                                                                                    \n",
       "109311  What are the options for getting fee concessions in BITS for economically weaker sections with income below 2lpa?                                                                     \n",
       "115347  Where can I watch free streaming movies online?                                                                                                                                       \n",
       "130637  Does?                                                                                                                                                                                 \n",
       "134403  What is your take on the undercover report that hints that Indian gov plans to capture kshatriya caste people and sends them to Indo-Pak border?                                      \n",
       "139219  Where can I get online PDF or EPUB versions of books?                                                                                                                                 \n",
       "141281  null                                                                                                                                                                                  \n",
       "144506  Delete                                                                                                                                                                                \n",
       "145000  Deleted.                                                                                                                                                                              \n",
       "151922  What is this - “This website/URL has been blocked as per instructions from Department of Telecommunications and/or Courts of India.”                                                  \n",
       "158778  Do men forgive their wives when they cheat on them?                                                                                                                                   \n",
       "164553  If my ex-girfriend of 2 years tries to come back to me after just 1 week since we broke up, stating that she understood our issues and that she can solve them, should I trust her?   \n",
       "169290  I'm looking for the book Intelligent Investor by Benjamin Graham.  Do you think I can find it at my local library?                                                                    \n",
       "175282  HH                                                                                                                                                                                    \n",
       "175584  I am 25 yrs old and I am still virgin. How can I change this fact?                                                                                                                    \n",
       "180461  Why was spam is called spam?                                                                                                                                                          \n",
       "181695  Why                                                                                                                                                                                   \n",
       "182943  Is playing video games immature?                                                                                                                                                      \n",
       "189396  Which Fake GPS with Joystick app will work for Pokémon go in Redmi note 3(Lollipop)?                                                                                                  \n",
       "189659  Who is Noah?                                                                                                                                                                          \n",
       "190570  Time is money.Can some one explain, how it works?                                                                                                                                     \n",
       "193246  [removed]                                                                                                                                                                             \n",
       "193815  What is the best site to download books?                                                                                                                                              \n",
       "198913  o                                                                                                                                                                                     \n",
       "199110  What is the connection between Donald trump and Norman Vincent peale?                                                                                                                 \n",
       "205947  Null                                                                                                                                                                                  \n",
       "208199  Edit                                                                                                                                                                                  \n",
       "208485  Given that PACER makes money from usage, why does the legal profession tolerate its absurd awfulness?                                                                                 \n",
       "208798  Can I insure a vehicle and receive a license plate without possessing a driver's license?                                                                                             \n",
       "213220  What is it like to work at Google?                                                                                                                                                    \n",
       "216861  My dad always yells at me and causes me anxiety. How do I fix this?                                                                                                                   \n",
       "226925  ????                                                                                                                                                                                  \n",
       "231151  \"Marriage is an institution.\" What does this mean?                                                                                                                                    \n",
       "231313  deleted                                                                                                                                                                               \n",
       "231879  What are the best websites to download ebooks from?                                                                                                                                   \n",
       "236655  Spam                                                                                                                                                                                  \n",
       "245880  What is sss?                                                                                                                                                                          \n",
       "248125  How can I download flash season 2 episodes?                                                                                                                                           \n",
       "254161  How do I convince my non-Indian friends that not all Indians are cow worshippers and not all of them text every woman they find on Facebook?                                          \n",
       "257077  What should I do to get my ex-girlfriend back if she does not even want to talk to me?                                                                                                \n",
       "260779  Why can't mules reproduce?                                                                                                                                                            \n",
       "263134  What kind of questions on Quora aren't OK? What is Quora's policy on question deletion?                                                                                               \n",
       "270146  What would you do if you were wealthy?                                                                                                                                                \n",
       "273065  How can I describe Quora, in all its glory, to friends?                                                                                                                               \n",
       "289307  Hh                                                                                                                                                                                    \n",
       "297461  What is best DSLR? Canon or Nikon?                                                                                                                                                    \n",
       "301583  What do I do with this guy?                                                                                                                                                           \n",
       "306878  What?                                                                                                                                                                                 \n",
       "312498  What is life like at MAMC? How are the hostel facilities and the seniors?                                                                                                             \n",
       "322261  Deleted.                                                                                                                                                                              \n",
       "322705  To clone or not to clone?                                                                                                                                                             \n",
       "324777  Why are answers and reviews on Quora collapsed?                                                                                                                                       \n",
       "325200  Will there be an error in measuring the error?                                                                                                                                        \n",
       "325530  My boyfriend told me he was not as attracted to me like he has been with past girlfriends. I don't know even what to say to this, or how to feel but hurt. What should I do?          \n",
       "326297  What are some of the best ways to learn programming?                                                                                                                                  \n",
       "327206  What is life of life?                                                                                                                                                                 \n",
       "328601  My father has many new technologies with him (many fields) who can he approach to get it implemented (to get it financed)?                                                            \n",
       "328745  lol                                                                                                                                                                                   \n",
       "348571  Should I be happy for her? Or does this make her a bad friend?                                                                                                                        \n",
       "351788  I have some secrets..what if I smoke marijuana with my boyfriend and he asks me about the past, will I control my answers and not telling the truth?                                  \n",
       "356434  Do gay men find red headed men more attractive than women find red headed men?                                                                                                        \n",
       "357127  Should I forgive the cheater?                                                                                                                                                         \n",
       "361480  Spam                                                                                                                                                                                  \n",
       "365317  From which site I can download GTA 4 game?                                                                                                                                            \n",
       "381124  I have a BS and MPH and hate my job. I found that I love working with website design but is it worth going back to school?                                                            \n",
       "384293  …………..                                                                                                                                                                                \n",
       "402423  What is cisco router technical support phone number?                                                                                                                                  \n",
       "\n",
       "        is_duplicate  lenq1  lenq2  \n",
       "3306    0             1      10     \n",
       "13016   0             1      7      \n",
       "17682   0             1      10     \n",
       "20072   0             5      1      \n",
       "20794   0             1      9      \n",
       "23305   0             1      10     \n",
       "23884   0             1      3      \n",
       "25228   0             1      9      \n",
       "25315   0             1      15     \n",
       "39769   0             1      10     \n",
       "44619   0             1      7      \n",
       "46596   0             4      1      \n",
       "47056   0             19     1      \n",
       "51909   0             12     1      \n",
       "54029   0             1      14     \n",
       "57484   0             1      3      \n",
       "63712   0             1      14     \n",
       "74304   0             7      1      \n",
       "86457   0             1      6      \n",
       "87861   0             1      12     \n",
       "96725   0             1      6      \n",
       "104101  0             1      29     \n",
       "106577  0             1      10     \n",
       "108978  0             1      6      \n",
       "109009  0             25     1      \n",
       "109311  0             1      18     \n",
       "115347  0             1      8      \n",
       "130637  0             16     1      \n",
       "134403  0             1      25     \n",
       "139219  0             1      11     \n",
       "141281  0             1      1      \n",
       "144506  0             7      1      \n",
       "145000  0             28     1      \n",
       "151922  0             1      20     \n",
       "158778  0             1      10     \n",
       "164553  0             1      36     \n",
       "169290  0             1      21     \n",
       "175282  1             1      1      \n",
       "175584  0             1      16     \n",
       "180461  0             1      6      \n",
       "181695  0             11     1      \n",
       "182943  0             1      5      \n",
       "189396  0             1      15     \n",
       "189659  0             1      3      \n",
       "190570  0             1      9      \n",
       "193246  0             31     1      \n",
       "193815  0             1      8      \n",
       "198913  0             3      1      \n",
       "199110  0             1      11     \n",
       "205947  0             1      1      \n",
       "208199  0             27     1      \n",
       "208485  0             1      16     \n",
       "208798  0             1      15     \n",
       "213220  0             1      8      \n",
       "216861  0             1      15     \n",
       "226925  0             17     1      \n",
       "231151  0             1      8      \n",
       "231313  0             10     1      \n",
       "231879  0             1      9      \n",
       "236655  0             6      1      \n",
       "245880  0             1      3      \n",
       "248125  0             1      8      \n",
       "254161  0             1      26     \n",
       "257077  0             1      19     \n",
       "260779  0             1      4      \n",
       "263134  0             1      15     \n",
       "270146  0             1      8      \n",
       "273065  0             1      11     \n",
       "289307  0             25     1      \n",
       "297461  0             1      7      \n",
       "301583  0             1      7      \n",
       "306878  0             13     1      \n",
       "312498  0             1      14     \n",
       "322261  0             6      1      \n",
       "322705  0             1      6      \n",
       "324777  0             1      8      \n",
       "325200  0             1      9      \n",
       "325530  0             1      37     \n",
       "326297  0             1      10     \n",
       "327206  0             1      5      \n",
       "328601  0             1      22     \n",
       "328745  1             2      1      \n",
       "348571  0             1      14     \n",
       "351788  0             1      28     \n",
       "356434  0             1      15     \n",
       "357127  0             1      5      \n",
       "361480  0             14     1      \n",
       "365317  0             1      9      \n",
       "381124  0             1      27     \n",
       "384293  0             5      1      \n",
       "402423  0             1      8      "
      ]
     },
     "execution_count": 21,
     "metadata": {},
     "output_type": "execute_result"
    }
   ],
   "source": [
    "train[(train['lenq1'] == 1) | (train['lenq2'] == 1)]"
   ]
  },
  {
   "cell_type": "markdown",
   "metadata": {},
   "source": [
    "*All these question pairs seem to be outliers*"
   ]
  },
  {
   "cell_type": "code",
   "execution_count": 22,
   "metadata": {
    "ExecuteTime": {
     "end_time": "2020-04-22T07:53:13.900128Z",
     "start_time": "2020-04-22T07:53:09.468350Z"
    }
   },
   "outputs": [],
   "source": [
    "train[(train['lenq1'] > 1) & (train['lenq2'] > 1)][['id', 'qid1', 'qid2',\n",
    "                                                      'question1', 'question2', 'is_duplicate']].to_csv('train_reduced.csv')"
   ]
  },
  {
   "cell_type": "code",
   "execution_count": 23,
   "metadata": {
    "ExecuteTime": {
     "end_time": "2020-04-22T07:53:25.015007Z",
     "start_time": "2020-04-22T07:53:13.907000Z"
    }
   },
   "outputs": [],
   "source": [
    "test = pd.read_csv('test.csv')"
   ]
  },
  {
   "cell_type": "code",
   "execution_count": 24,
   "metadata": {
    "ExecuteTime": {
     "end_time": "2020-04-22T07:53:25.055903Z",
     "start_time": "2020-04-22T07:53:25.022987Z"
    }
   },
   "outputs": [
    {
     "data": {
      "text/html": [
       "<div>\n",
       "<style scoped>\n",
       "    .dataframe tbody tr th:only-of-type {\n",
       "        vertical-align: middle;\n",
       "    }\n",
       "\n",
       "    .dataframe tbody tr th {\n",
       "        vertical-align: top;\n",
       "    }\n",
       "\n",
       "    .dataframe thead th {\n",
       "        text-align: right;\n",
       "    }\n",
       "</style>\n",
       "<table border=\"1\" class=\"dataframe\">\n",
       "  <thead>\n",
       "    <tr style=\"text-align: right;\">\n",
       "      <th></th>\n",
       "      <th>test_id</th>\n",
       "      <th>question1</th>\n",
       "      <th>question2</th>\n",
       "    </tr>\n",
       "  </thead>\n",
       "  <tbody>\n",
       "    <tr>\n",
       "      <td>0</td>\n",
       "      <td>0</td>\n",
       "      <td>How does the Surface Pro himself 4 compare with iPad Pro?</td>\n",
       "      <td>Why did Microsoft choose core m3 and not core i3 home Surface Pro 4?</td>\n",
       "    </tr>\n",
       "    <tr>\n",
       "      <td>1</td>\n",
       "      <td>1</td>\n",
       "      <td>Should I have a hair transplant at age 24? How much would it cost?</td>\n",
       "      <td>How much cost does hair transplant require?</td>\n",
       "    </tr>\n",
       "    <tr>\n",
       "      <td>2</td>\n",
       "      <td>2</td>\n",
       "      <td>What but is the best way to send money from China to the US?</td>\n",
       "      <td>What you send money to China?</td>\n",
       "    </tr>\n",
       "    <tr>\n",
       "      <td>3</td>\n",
       "      <td>3</td>\n",
       "      <td>Which food not emulsifiers?</td>\n",
       "      <td>What foods fibre?</td>\n",
       "    </tr>\n",
       "    <tr>\n",
       "      <td>4</td>\n",
       "      <td>4</td>\n",
       "      <td>How \"aberystwyth\" start reading?</td>\n",
       "      <td>How their can I start reading?</td>\n",
       "    </tr>\n",
       "  </tbody>\n",
       "</table>\n",
       "</div>"
      ],
      "text/plain": [
       "   test_id  \\\n",
       "0  0         \n",
       "1  1         \n",
       "2  2         \n",
       "3  3         \n",
       "4  4         \n",
       "\n",
       "                                                            question1  \\\n",
       "0  How does the Surface Pro himself 4 compare with iPad Pro?            \n",
       "1  Should I have a hair transplant at age 24? How much would it cost?   \n",
       "2  What but is the best way to send money from China to the US?         \n",
       "3  Which food not emulsifiers?                                          \n",
       "4  How \"aberystwyth\" start reading?                                     \n",
       "\n",
       "                                                              question2  \n",
       "0  Why did Microsoft choose core m3 and not core i3 home Surface Pro 4?  \n",
       "1  How much cost does hair transplant require?                           \n",
       "2  What you send money to China?                                         \n",
       "3  What foods fibre?                                                     \n",
       "4  How their can I start reading?                                        "
      ]
     },
     "execution_count": 24,
     "metadata": {},
     "output_type": "execute_result"
    }
   ],
   "source": [
    "test.head()"
   ]
  },
  {
   "cell_type": "code",
   "execution_count": 25,
   "metadata": {
    "ExecuteTime": {
     "end_time": "2020-04-22T07:53:25.174583Z",
     "start_time": "2020-04-22T07:53:25.060886Z"
    }
   },
   "outputs": [
    {
     "name": "stdout",
     "output_type": "stream",
     "text": [
      "Dataset shape (404287, 8)\n"
     ]
    }
   ],
   "source": [
    "print(\"Dataset shape\", train.shape)"
   ]
  },
  {
   "cell_type": "code",
   "execution_count": 26,
   "metadata": {
    "ExecuteTime": {
     "end_time": "2020-04-22T07:53:25.306920Z",
     "start_time": "2020-04-22T07:53:25.178570Z"
    }
   },
   "outputs": [
    {
     "name": "stdout",
     "output_type": "stream",
     "text": [
      "<class 'pandas.core.frame.DataFrame'>\n",
      "RangeIndex: 2345796 entries, 0 to 2345795\n",
      "Data columns (total 3 columns):\n",
      "test_id      int64\n",
      "question1    object\n",
      "question2    object\n",
      "dtypes: int64(1), object(2)\n",
      "memory usage: 53.7+ MB\n"
     ]
    }
   ],
   "source": [
    "test.info()"
   ]
  },
  {
   "cell_type": "code",
   "execution_count": 27,
   "metadata": {
    "ExecuteTime": {
     "end_time": "2020-04-22T07:53:41.395377Z",
     "start_time": "2020-04-22T07:53:25.308940Z"
    }
   },
   "outputs": [
    {
     "name": "stdout",
     "output_type": "stream",
     "text": [
      "Total number of  Unique Questions are: 4363832\n",
      "Number of unique questions that appear more than one time: 155662 (3.57%)\n",
      "Max number of times a single question is repeated: 2686\n"
     ]
    }
   ],
   "source": [
    "qids = pd.Series(test['question1'].tolist() + test['question2'].tolist())\n",
    "unique_qs = len(qids.drop_duplicates())\n",
    "qs_morethan_onetime = np.sum(qids.value_counts() > 1)\n",
    "print (f'Total number of  Unique Questions are: {unique_qs}')\n",
    "\n",
    "print (f'Number of unique questions that appear more than one time: {qs_morethan_onetime} ({qs_morethan_onetime/unique_qs*100:.2f}%)')\n",
    "\n",
    "print (f'Max number of times a single question is repeated: {max(qids.value_counts())}') "
   ]
  },
  {
   "cell_type": "code",
   "execution_count": 28,
   "metadata": {
    "ExecuteTime": {
     "end_time": "2020-04-22T07:53:54.047069Z",
     "start_time": "2020-04-22T07:53:41.398370Z"
    }
   },
   "outputs": [
    {
     "name": "stdout",
     "output_type": "stream",
     "text": [
      "Maximum number of times a single question is repeated: 2686\n",
      "\n"
     ]
    },
    {
     "data": {
      "image/png": "[encoded data removed]",
      "text/plain": [
       "<Figure size 1440x720 with 1 Axes>"
      ]
     },
     "metadata": {
      "needs_background": "light"
     },
     "output_type": "display_data"
    }
   ],
   "source": [
    "plt.figure(figsize=(20, 10))\n",
    "plt.hist(qids.value_counts(), bins=160)\n",
    "plt.yscale('log', nonposy='clip')\n",
    "plt.title('Log-Histogram of question appearance counts')\n",
    "plt.xlabel('Number of occurences of question')\n",
    "plt.ylabel('Number of questions')\n",
    "print ('Maximum number of times a single question is repeated: {}\\n'.format(max(qids.value_counts()))) "
   ]
  },
  {
   "cell_type": "code",
   "execution_count": 29,
   "metadata": {
    "ExecuteTime": {
     "end_time": "2020-04-22T07:53:59.239237Z",
     "start_time": "2020-04-22T07:53:54.049049Z"
    }
   },
   "outputs": [
    {
     "name": "stdout",
     "output_type": "stream",
     "text": [
      "Top 20 most frequently asked questions\n"
     ]
    },
    {
     "data": {
      "text/plain": [
       "What                             2686\n",
       "How                              1848\n",
       "What is                          1212\n",
       "What are                         803 \n",
       "How do                           773 \n",
       "What is the                      766 \n",
       "What is?                         680 \n",
       "Why                              653 \n",
       "Is                               543 \n",
       "How do I                         531 \n",
       "How can                          456 \n",
       "What are the                     422 \n",
       "Which                            371 \n",
       "How can I                        346 \n",
       "How can I improve my English?    266 \n",
       "What are some                    265 \n",
       "Can                              242 \n",
       "I                                220 \n",
       "Why do                           210 \n",
       "How do I improve my English?     197 \n",
       "dtype: int64"
      ]
     },
     "execution_count": 29,
     "metadata": {},
     "output_type": "execute_result"
    }
   ],
   "source": [
    "print('Top 20 most frequently asked questions')\n",
    "qids.value_counts().head(20)"
   ]
  },
  {
   "cell_type": "markdown",
   "metadata": {},
   "source": [
    "# Baseline Model\n",
    "\n",
    "As we have seen that we have a 36.91% positive class in this dataset. Since we are using the LogLoss metric, and LogLoss looks at the actual predicts as opposed to the order of predictions, we should be able to get a decent score by creating a submission predicting the mean value of the label."
   ]
  },
  {
   "cell_type": "code",
   "execution_count": 30,
   "metadata": {
    "ExecuteTime": {
     "end_time": "2020-04-22T07:54:01.452582Z",
     "start_time": "2020-04-22T07:53:59.243226Z"
    }
   },
   "outputs": [],
   "source": [
    "from sklearn.metrics import log_loss"
   ]
  },
  {
   "cell_type": "code",
   "execution_count": 31,
   "metadata": {
    "ExecuteTime": {
     "end_time": "2020-04-22T07:54:13.535261Z",
     "start_time": "2020-04-22T07:54:01.456493Z"
    }
   },
   "outputs": [
    {
     "name": "stdout",
     "output_type": "stream",
     "text": [
      "Predicted score: 0.658528851473067\n"
     ]
    }
   ],
   "source": [
    "p = train['is_duplicate'].mean()\n",
    "print('Predicted score:', log_loss(train['is_duplicate'], np.zeros_like(train['is_duplicate']) + p))\n",
    "\n",
    "sub = pd.DataFrame({'test_id': test['test_id'], 'is_duplicate': p})\n",
    "sub.to_csv('Baseline.csv')\n",
    "\n",
    "del p"
   ]
  },
  {
   "cell_type": "markdown",
   "metadata": {},
   "source": [
    "**0.55 on the leaderboard! Score!**"
   ]
  }
 ],
 "metadata": {
  "kernelspec": {
   "display_name": "Python 3",
   "language": "python",
   "name": "python3"
  },
  "language_info": {
   "codemirror_mode": {
    "name": "ipython",
    "version": 3
   },
   "file_extension": ".py",
   "mimetype": "text/x-python",
   "name": "python",
   "nbconvert_exporter": "python",
   "pygments_lexer": "ipython3",
   "version": "3.7.3"
  },
  "toc": {
   "base_numbering": 1,
   "nav_menu": {},
   "number_sections": true,
   "sideBar": true,
   "skip_h1_title": false,
   "title_cell": "Table of Contents",
   "title_sidebar": "Contents",
   "toc_cell": false,
   "toc_position": {},
   "toc_section_display": true,
   "toc_window_display": false
  },
  "varInspector": {
   "cols": {
    "lenName": 16,
    "lenType": 16,
    "lenVar": 40
   },
   "kernels_config": {
    "python": {
     "delete_cmd_postfix": "",
     "delete_cmd_prefix": "del ",
     "library": "var_list.py",
     "varRefreshCmd": "print(var_dic_list())"
    },
    "r": {
     "delete_cmd_postfix": ") ",
     "delete_cmd_prefix": "rm(",
     "library": "var_list.r",
     "varRefreshCmd": "cat(var_dic_list()) "
    }
   },
   "position": {
    "height": "346px",
    "left": "996px",
    "right": "20px",
    "top": "120px",
    "width": "350px"
   },
   "types_to_exclude": [
    "module",
    "function",
    "builtin_function_or_method",
    "instance",
    "_Feature"
   ],
   "window_display": false
  }
 },
 "nbformat": 4,
 "nbformat_minor": 2
}
