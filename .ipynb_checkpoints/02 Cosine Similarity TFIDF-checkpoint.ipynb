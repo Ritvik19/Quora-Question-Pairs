{
 "cells": [
  {
   "cell_type": "markdown",
   "metadata": {},
   "source": [
    "https://www.kaggle.com/c/quora-question-pairs"
   ]
  },
  {
   "cell_type": "markdown",
   "metadata": {},
   "source": [
    "# Libraries"
   ]
  },
  {
   "cell_type": "code",
   "execution_count": 1,
   "metadata": {
    "ExecuteTime": {
     "end_time": "2020-02-26T16:22:47.019824Z",
     "start_time": "2020-02-26T16:22:45.957183Z"
    },
    "cell_style": "split"
   },
   "outputs": [],
   "source": [
    "import numpy as np\n",
    "import pandas as pd"
   ]
  },
  {
   "cell_type": "code",
   "execution_count": 2,
   "metadata": {
    "ExecuteTime": {
     "end_time": "2020-02-26T16:22:47.028741Z",
     "start_time": "2020-02-26T16:22:47.022758Z"
    },
    "cell_style": "split"
   },
   "outputs": [],
   "source": [
    "pd.options.display.max_colwidth = -1\n",
    "pd.options.display.max_columns = 15"
   ]
  },
  {
   "cell_type": "code",
   "execution_count": 3,
   "metadata": {
    "ExecuteTime": {
     "end_time": "2020-02-26T16:22:47.189659Z",
     "start_time": "2020-02-26T16:22:47.032730Z"
    },
    "cell_style": "split"
   },
   "outputs": [],
   "source": [
    "from tqdm.auto import tqdm"
   ]
  },
  {
   "cell_type": "code",
   "execution_count": 4,
   "metadata": {
    "ExecuteTime": {
     "end_time": "2020-02-26T16:22:47.298718Z",
     "start_time": "2020-02-26T16:22:47.196639Z"
    },
    "cell_style": "split"
   },
   "outputs": [],
   "source": [
    "import pickle"
   ]
  },
  {
   "cell_type": "markdown",
   "metadata": {},
   "source": [
    "# Cosine Similarity"
   ]
  },
  {
   "cell_type": "code",
   "execution_count": 5,
   "metadata": {
    "ExecuteTime": {
     "end_time": "2020-02-26T16:22:48.263261Z",
     "start_time": "2020-02-26T16:22:47.300714Z"
    }
   },
   "outputs": [],
   "source": [
    "from sklearn.metrics.pairwise import cosine_similarity"
   ]
  },
  {
   "cell_type": "code",
   "execution_count": 6,
   "metadata": {
    "ExecuteTime": {
     "end_time": "2020-02-26T16:22:48.406955Z",
     "start_time": "2020-02-26T16:22:48.265253Z"
    }
   },
   "outputs": [],
   "source": [
    "tfidfVectorizer = pickle.load(open('../[Data]-Quora-Question-Pairs/tfidfVectorizer.pkl', 'rb'))"
   ]
  },
  {
   "cell_type": "code",
   "execution_count": 7,
   "metadata": {
    "ExecuteTime": {
     "end_time": "2020-02-26T16:22:57.936237Z",
     "start_time": "2020-02-26T16:22:48.408953Z"
    }
   },
   "outputs": [],
   "source": [
    "train_q1 = tfidfVectorizer.transform(pd.read_csv('../[Data]-Quora-Question-Pairs/train_feats.csv')['question1'].apply(str))\n",
    "train_q2 = tfidfVectorizer.transform(pd.read_csv('../[Data]-Quora-Question-Pairs/train_feats.csv')['question2'].apply(str))"
   ]
  },
  {
   "cell_type": "code",
   "execution_count": 8,
   "metadata": {
    "ExecuteTime": {
     "end_time": "2020-02-26T16:29:28.569307Z",
     "start_time": "2020-02-26T16:22:57.940229Z"
    }
   },
   "outputs": [
    {
     "data": {
      "application/vnd.jupyter.widget-view+json": {
       "model_id": "55ffb9af377348afb21e2c4637eda6c3",
       "version_major": 2,
       "version_minor": 0
      },
      "text/plain": [
       "HBox(children=(IntProgress(value=1, bar_style='info', max=1), HTML(value='')))"
      ]
     },
     "metadata": {},
     "output_type": "display_data"
    },
    {
     "name": "stdout",
     "output_type": "stream",
     "text": [
      "\n"
     ]
    }
   ],
   "source": [
    "cosine = []\n",
    "for q1, q2 in tqdm(zip(train_q1, train_q2)):\n",
    "    cosine.append(cosine_similarity(q1, q2)[0][0])"
   ]
  },
  {
   "cell_type": "code",
   "execution_count": 9,
   "metadata": {
    "ExecuteTime": {
     "end_time": "2020-02-26T16:29:30.086946Z",
     "start_time": "2020-02-26T16:29:28.573294Z"
    }
   },
   "outputs": [],
   "source": [
    "pd.DataFrame(\n",
    "    {'Cosine': cosine}\n",
    ").to_csv('../[Data]-Quora-Question-Pairs/train_cos.csv', index=False)"
   ]
  },
  {
   "cell_type": "code",
   "execution_count": 10,
   "metadata": {
    "ExecuteTime": {
     "end_time": "2020-02-26T16:29:30.098475Z",
     "start_time": "2020-02-26T16:29:30.089497Z"
    }
   },
   "outputs": [],
   "source": [
    "del train_q1, train_q2"
   ]
  },
  {
   "cell_type": "code",
   "execution_count": 11,
   "metadata": {
    "ExecuteTime": {
     "end_time": "2020-02-26T16:30:33.400075Z",
     "start_time": "2020-02-26T16:29:30.101467Z"
    }
   },
   "outputs": [],
   "source": [
    "test_q1 = tfidfVectorizer.transform(pd.read_csv('../[Data]-Quora-Question-Pairs/test_feats.csv')['question1'].apply(str))\n",
    "test_q2 = tfidfVectorizer.transform(pd.read_csv('../[Data]-Quora-Question-Pairs/test_feats.csv')['question2'].apply(str))"
   ]
  },
  {
   "cell_type": "code",
   "execution_count": 12,
   "metadata": {
    "ExecuteTime": {
     "end_time": "2020-02-26T17:12:41.421366Z",
     "start_time": "2020-02-26T16:30:33.402071Z"
    }
   },
   "outputs": [
    {
     "data": {
      "application/vnd.jupyter.widget-view+json": {
       "model_id": "9096158d95eb4055bad4bea0504ae9d3",
       "version_major": 2,
       "version_minor": 0
      },
      "text/plain": [
       "HBox(children=(IntProgress(value=1, bar_style='info', max=1), HTML(value='')))"
      ]
     },
     "metadata": {},
     "output_type": "display_data"
    },
    {
     "name": "stdout",
     "output_type": "stream",
     "text": [
      "\n"
     ]
    }
   ],
   "source": [
    "cosine = []\n",
    "for q1, q2 in tqdm(zip(test_q1, test_q2)):\n",
    "    cosine.append(cosine_similarity(q1, q2)[0][0])"
   ]
  },
  {
   "cell_type": "code",
   "execution_count": 13,
   "metadata": {
    "ExecuteTime": {
     "end_time": "2020-02-26T17:13:00.402716Z",
     "start_time": "2020-02-26T17:12:41.430344Z"
    }
   },
   "outputs": [],
   "source": [
    "pd.DataFrame(\n",
    "    {'Cosine': cosine}\n",
    ").to_csv('../[Data]-Quora-Question-Pairs/test_cos.csv', index=False)"
   ]
  },
  {
   "cell_type": "code",
   "execution_count": 14,
   "metadata": {
    "ExecuteTime": {
     "end_time": "2020-02-26T17:13:00.557299Z",
     "start_time": "2020-02-26T17:13:00.422660Z"
    }
   },
   "outputs": [],
   "source": [
    "del test_q1, test_q2"
   ]
  },
  {
   "cell_type": "code",
   "execution_count": 19,
   "metadata": {
    "ExecuteTime": {
     "end_time": "2020-02-26T17:39:43.345469Z",
     "start_time": "2020-02-26T17:39:33.347988Z"
    }
   },
   "outputs": [],
   "source": [
    "train = pd.read_csv('../[Data]-Quora-Question-Pairs/train_feats.csv')\n",
    "train_cos = pd.read_csv('../[Data]-Quora-Question-Pairs/train_cos.csv')\n",
    "pd.concat([train, train_cos], axis=1).to_csv('../[Data]-Quora-Question-Pairs/train_feats.csv', index=False)"
   ]
  },
  {
   "cell_type": "code",
   "execution_count": 20,
   "metadata": {
    "ExecuteTime": {
     "end_time": "2020-02-26T17:40:59.417315Z",
     "start_time": "2020-02-26T17:40:09.059176Z"
    }
   },
   "outputs": [],
   "source": [
    "test = pd.read_csv('../[Data]-Quora-Question-Pairs/test_feats.csv')\n",
    "test_cos = pd.read_csv('../[Data]-Quora-Question-Pairs/test_cos.csv')\n",
    "pd.concat([test, test_cos], axis=1).to_csv('../[Data]-Quora-Question-Pairs/test_feats.csv', index=False)"
   ]
  },
  {
   "cell_type": "code",
   "execution_count": null,
   "metadata": {},
   "outputs": [],
   "source": []
  }
 ],
 "metadata": {
  "kernelspec": {
   "display_name": "Python 3",
   "language": "python",
   "name": "python3"
  },
  "language_info": {
   "codemirror_mode": {
    "name": "ipython",
    "version": 3
   },
   "file_extension": ".py",
   "mimetype": "text/x-python",
   "name": "python",
   "nbconvert_exporter": "python",
   "pygments_lexer": "ipython3",
   "version": "3.7.3"
  },
  "toc": {
   "base_numbering": 1,
   "nav_menu": {},
   "number_sections": true,
   "sideBar": true,
   "skip_h1_title": false,
   "title_cell": "Table of Contents",
   "title_sidebar": "Contents",
   "toc_cell": false,
   "toc_position": {},
   "toc_section_display": true,
   "toc_window_display": false
  },
  "varInspector": {
   "cols": {
    "lenName": 16,
    "lenType": 16,
    "lenVar": 40
   },
   "kernels_config": {
    "python": {
     "delete_cmd_postfix": "",
     "delete_cmd_prefix": "del ",
     "library": "var_list.py",
     "varRefreshCmd": "print(var_dic_list())"
    },
    "r": {
     "delete_cmd_postfix": ") ",
     "delete_cmd_prefix": "rm(",
     "library": "var_list.r",
     "varRefreshCmd": "cat(var_dic_list()) "
    }
   },
   "position": {
    "height": "352px",
    "left": "775px",
    "right": "20px",
    "top": "17px",
    "width": "576px"
   },
   "types_to_exclude": [
    "module",
    "function",
    "builtin_function_or_method",
    "instance",
    "_Feature"
   ],
   "window_display": false
  }
 },
 "nbformat": 4,
 "nbformat_minor": 2
}
