{
 "cells": [
  {
   "cell_type": "markdown",
   "metadata": {},
   "source": [
    "https://www.kaggle.com/c/quora-question-pairs"
   ]
  },
  {
   "cell_type": "markdown",
   "metadata": {},
   "source": [
    "# Libraries"
   ]
  },
  {
   "cell_type": "code",
   "execution_count": 1,
   "metadata": {
    "ExecuteTime": {
     "end_time": "2020-03-02T03:04:33.228195Z",
     "start_time": "2020-03-02T03:04:13.482192Z"
    },
    "cell_style": "split"
   },
   "outputs": [],
   "source": [
    "import numpy as np\n",
    "import pandas as pd"
   ]
  },
  {
   "cell_type": "code",
   "execution_count": 2,
   "metadata": {
    "ExecuteTime": {
     "end_time": "2020-03-02T03:04:33.241131Z",
     "start_time": "2020-03-02T03:04:33.232156Z"
    },
    "cell_style": "split"
   },
   "outputs": [],
   "source": [
    "pd.options.display.max_colwidth = -1\n",
    "pd.options.display.max_columns = 15"
   ]
  },
  {
   "cell_type": "code",
   "execution_count": 3,
   "metadata": {
    "ExecuteTime": {
     "end_time": "2020-03-02T03:04:33.757463Z",
     "start_time": "2020-03-02T03:04:33.245122Z"
    },
    "cell_style": "split"
   },
   "outputs": [],
   "source": [
    "from tqdm.auto import tqdm"
   ]
  },
  {
   "cell_type": "code",
   "execution_count": 4,
   "metadata": {
    "ExecuteTime": {
     "end_time": "2020-03-02T03:04:33.766435Z",
     "start_time": "2020-03-02T03:04:33.761450Z"
    },
    "cell_style": "split"
   },
   "outputs": [],
   "source": [
    "import pickle"
   ]
  },
  {
   "cell_type": "markdown",
   "metadata": {},
   "source": [
    "# Cosine Similarity"
   ]
  },
  {
   "cell_type": "code",
   "execution_count": 5,
   "metadata": {
    "ExecuteTime": {
     "end_time": "2020-03-02T03:04:56.675765Z",
     "start_time": "2020-03-02T03:04:33.770425Z"
    }
   },
   "outputs": [],
   "source": [
    "from sklearn.metrics.pairwise import cosine_similarity"
   ]
  },
  {
   "cell_type": "code",
   "execution_count": 6,
   "metadata": {
    "ExecuteTime": {
     "end_time": "2020-03-02T03:05:12.579184Z",
     "start_time": "2020-03-02T03:04:56.681600Z"
    }
   },
   "outputs": [],
   "source": [
    "binVectorizer = pickle.load(open('../[Data]-Quora-Question-Pairs/binVectorizer.pkl', 'rb'))"
   ]
  },
  {
   "cell_type": "code",
   "execution_count": 7,
   "metadata": {
    "ExecuteTime": {
     "end_time": "2020-03-02T03:05:44.453959Z",
     "start_time": "2020-03-02T03:05:12.581182Z"
    }
   },
   "outputs": [],
   "source": [
    "train_q1 = binVectorizer.transform(pd.read_csv('../[Data]-Quora-Question-Pairs/train_feats.csv')['question1'].apply(str))\n",
    "train_q2 = binVectorizer.transform(pd.read_csv('../[Data]-Quora-Question-Pairs/train_feats.csv')['question2'].apply(str))"
   ]
  },
  {
   "cell_type": "code",
   "execution_count": 8,
   "metadata": {
    "ExecuteTime": {
     "end_time": "2020-03-02T03:51:46.537511Z",
     "start_time": "2020-03-02T03:05:44.458857Z"
    }
   },
   "outputs": [
    {
     "data": {
      "application/vnd.jupyter.widget-view+json": {
       "model_id": "c3b2e25917984945bc6eeb8bfaf5ba2b",
       "version_major": 2,
       "version_minor": 0
      },
      "text/plain": [
       "HBox(children=(IntProgress(value=1, bar_style='info', max=1), HTML(value='')))"
      ]
     },
     "metadata": {},
     "output_type": "display_data"
    },
    {
     "name": "stdout",
     "output_type": "stream",
     "text": [
      "\n"
     ]
    }
   ],
   "source": [
    "cosine = []\n",
    "for q1, q2 in tqdm(zip(train_q1, train_q2)):\n",
    "    cosine.append(cosine_similarity(q1, q2)[0][0])"
   ]
  },
  {
   "cell_type": "code",
   "execution_count": 9,
   "metadata": {
    "ExecuteTime": {
     "end_time": "2020-03-02T03:51:48.067198Z",
     "start_time": "2020-03-02T03:51:46.543495Z"
    }
   },
   "outputs": [],
   "source": [
    "pd.DataFrame(\n",
    "    {'CosineBin': cosine}\n",
    ").to_csv('../[Data]-Quora-Question-Pairs/train_cos.csv', index=False)"
   ]
  },
  {
   "cell_type": "code",
   "execution_count": 10,
   "metadata": {
    "ExecuteTime": {
     "end_time": "2020-03-02T03:51:48.077165Z",
     "start_time": "2020-03-02T03:51:48.069185Z"
    }
   },
   "outputs": [],
   "source": [
    "del train_q1, train_q2"
   ]
  },
  {
   "cell_type": "code",
   "execution_count": 11,
   "metadata": {
    "ExecuteTime": {
     "end_time": "2020-03-02T03:53:27.319724Z",
     "start_time": "2020-03-02T03:51:48.080157Z"
    }
   },
   "outputs": [],
   "source": [
    "test_q1 = binVectorizer.transform(pd.read_csv('../[Data]-Quora-Question-Pairs/test_feats.csv')['question1'].apply(str))\n",
    "test_q2 = binVectorizer.transform(pd.read_csv('../[Data]-Quora-Question-Pairs/test_feats.csv')['question2'].apply(str))"
   ]
  },
  {
   "cell_type": "code",
   "execution_count": 12,
   "metadata": {
    "ExecuteTime": {
     "end_time": "2020-03-02T08:21:53.887047Z",
     "start_time": "2020-03-02T03:53:27.321715Z"
    }
   },
   "outputs": [
    {
     "data": {
      "application/vnd.jupyter.widget-view+json": {
       "model_id": "5a174fbfe330450f86b973a10027c431",
       "version_major": 2,
       "version_minor": 0
      },
      "text/plain": [
       "HBox(children=(IntProgress(value=1, bar_style='info', max=1), HTML(value='')))"
      ]
     },
     "metadata": {},
     "output_type": "display_data"
    },
    {
     "name": "stdout",
     "output_type": "stream",
     "text": [
      "\n"
     ]
    }
   ],
   "source": [
    "cosine = []\n",
    "for q1, q2 in tqdm(zip(test_q1, test_q2)):\n",
    "    cosine.append(cosine_similarity(q1, q2)[0][0])"
   ]
  },
  {
   "cell_type": "code",
   "execution_count": 13,
   "metadata": {
    "ExecuteTime": {
     "end_time": "2020-03-02T08:22:01.023699Z",
     "start_time": "2020-03-02T08:21:53.890006Z"
    }
   },
   "outputs": [],
   "source": [
    "pd.DataFrame(\n",
    "    {'CosineBin': cosine}\n",
    ").to_csv('../[Data]-Quora-Question-Pairs/test_cos.csv', index=False)"
   ]
  },
  {
   "cell_type": "code",
   "execution_count": 14,
   "metadata": {
    "ExecuteTime": {
     "end_time": "2020-03-02T08:22:01.056588Z",
     "start_time": "2020-03-02T08:22:01.026659Z"
    }
   },
   "outputs": [],
   "source": [
    "del test_q1, test_q2"
   ]
  },
  {
   "cell_type": "code",
   "execution_count": 15,
   "metadata": {
    "ExecuteTime": {
     "end_time": "2020-03-02T08:22:10.183815Z",
     "start_time": "2020-03-02T08:22:01.061569Z"
    }
   },
   "outputs": [],
   "source": [
    "train = pd.read_csv('../[Data]-Quora-Question-Pairs/train_feats.csv')\n",
    "train_cos = pd.read_csv('../[Data]-Quora-Question-Pairs/train_cos.csv')\n",
    "pd.concat([train, train_cos], axis=1).to_csv('../[Data]-Quora-Question-Pairs/train_feats.csv', index=False)"
   ]
  },
  {
   "cell_type": "code",
   "execution_count": 16,
   "metadata": {
    "ExecuteTime": {
     "end_time": "2020-03-02T08:22:57.352668Z",
     "start_time": "2020-03-02T08:22:10.185781Z"
    }
   },
   "outputs": [],
   "source": [
    "test = pd.read_csv('../[Data]-Quora-Question-Pairs/test_feats.csv')\n",
    "test_cos = pd.read_csv('../[Data]-Quora-Question-Pairs/test_cos.csv')\n",
    "pd.concat([test, test_cos], axis=1).to_csv('../[Data]-Quora-Question-Pairs/test_feats.csv', index=False)"
   ]
  },
  {
   "cell_type": "code",
   "execution_count": 17,
   "metadata": {
    "ExecuteTime": {
     "end_time": "2020-03-02T08:23:04.152557Z",
     "start_time": "2020-03-02T08:22:57.354635Z"
    }
   },
   "outputs": [
    {
     "data": {
      "text/html": [
       "<div>\n",
       "<style scoped>\n",
       "    .dataframe tbody tr th:only-of-type {\n",
       "        vertical-align: middle;\n",
       "    }\n",
       "\n",
       "    .dataframe tbody tr th {\n",
       "        vertical-align: top;\n",
       "    }\n",
       "\n",
       "    .dataframe thead th {\n",
       "        text-align: right;\n",
       "    }\n",
       "</style>\n",
       "<table border=\"1\" class=\"dataframe\">\n",
       "  <thead>\n",
       "    <tr style=\"text-align: right;\">\n",
       "      <th></th>\n",
       "      <th>question1</th>\n",
       "      <th>question2</th>\n",
       "      <th>Jaccard</th>\n",
       "      <th>Fuzz Ratio</th>\n",
       "      <th>Fuzz WRatio</th>\n",
       "      <th>Fuzz QRatio</th>\n",
       "      <th>Fuzz Partial Ratio</th>\n",
       "      <th>Fuzz Token Sort Ratio</th>\n",
       "      <th>Fuzz Token Set Ratio</th>\n",
       "      <th>CosineTFIDF</th>\n",
       "      <th>CosineBin</th>\n",
       "    </tr>\n",
       "  </thead>\n",
       "  <tbody>\n",
       "    <tr>\n",
       "      <td>0</td>\n",
       "      <td>surface pro compare ipad pro</td>\n",
       "      <td>microsoft choose core core home surface pro</td>\n",
       "      <td>25.000000</td>\n",
       "      <td>31</td>\n",
       "      <td>86</td>\n",
       "      <td>31</td>\n",
       "      <td>56</td>\n",
       "      <td>56</td>\n",
       "      <td>63</td>\n",
       "      <td>0.277039</td>\n",
       "      <td>0.335410</td>\n",
       "    </tr>\n",
       "    <tr>\n",
       "      <td>1</td>\n",
       "      <td>hair transplant age cost</td>\n",
       "      <td>cost hair transplant require</td>\n",
       "      <td>60.000000</td>\n",
       "      <td>65</td>\n",
       "      <td>86</td>\n",
       "      <td>65</td>\n",
       "      <td>72</td>\n",
       "      <td>77</td>\n",
       "      <td>91</td>\n",
       "      <td>0.386489</td>\n",
       "      <td>0.571429</td>\n",
       "    </tr>\n",
       "    <tr>\n",
       "      <td>2</td>\n",
       "      <td>best way send money china</td>\n",
       "      <td>send money china</td>\n",
       "      <td>60.000000</td>\n",
       "      <td>78</td>\n",
       "      <td>90</td>\n",
       "      <td>78</td>\n",
       "      <td>100</td>\n",
       "      <td>78</td>\n",
       "      <td>100</td>\n",
       "      <td>0.836637</td>\n",
       "      <td>0.745356</td>\n",
       "    </tr>\n",
       "    <tr>\n",
       "      <td>3</td>\n",
       "      <td>food emulsifiers</td>\n",
       "      <td>foods fibre</td>\n",
       "      <td>0.000000</td>\n",
       "      <td>59</td>\n",
       "      <td>59</td>\n",
       "      <td>59</td>\n",
       "      <td>55</td>\n",
       "      <td>59</td>\n",
       "      <td>59</td>\n",
       "      <td>0.000000</td>\n",
       "      <td>0.000000</td>\n",
       "    </tr>\n",
       "    <tr>\n",
       "      <td>4</td>\n",
       "      <td>aberystwyth start reading</td>\n",
       "      <td>start reading</td>\n",
       "      <td>66.666667</td>\n",
       "      <td>68</td>\n",
       "      <td>90</td>\n",
       "      <td>68</td>\n",
       "      <td>100</td>\n",
       "      <td>68</td>\n",
       "      <td>100</td>\n",
       "      <td>0.728192</td>\n",
       "      <td>0.866025</td>\n",
       "    </tr>\n",
       "    <tr>\n",
       "      <td>...</td>\n",
       "      <td>...</td>\n",
       "      <td>...</td>\n",
       "      <td>...</td>\n",
       "      <td>...</td>\n",
       "      <td>...</td>\n",
       "      <td>...</td>\n",
       "      <td>...</td>\n",
       "      <td>...</td>\n",
       "      <td>...</td>\n",
       "      <td>...</td>\n",
       "      <td>...</td>\n",
       "    </tr>\n",
       "    <tr>\n",
       "      <td>2345791</td>\n",
       "      <td>peaks series leland kill laura palmer</td>\n",
       "      <td>study scene twin peaks</td>\n",
       "      <td>11.111111</td>\n",
       "      <td>17</td>\n",
       "      <td>86</td>\n",
       "      <td>17</td>\n",
       "      <td>23</td>\n",
       "      <td>31</td>\n",
       "      <td>41</td>\n",
       "      <td>0.123510</td>\n",
       "      <td>0.123091</td>\n",
       "    </tr>\n",
       "    <tr>\n",
       "      <td>2345792</td>\n",
       "      <td>transit mean fedex tracking</td>\n",
       "      <td>question fedex packages delivered</td>\n",
       "      <td>14.285714</td>\n",
       "      <td>47</td>\n",
       "      <td>47</td>\n",
       "      <td>47</td>\n",
       "      <td>52</td>\n",
       "      <td>37</td>\n",
       "      <td>43</td>\n",
       "      <td>0.134996</td>\n",
       "      <td>0.154303</td>\n",
       "    </tr>\n",
       "    <tr>\n",
       "      <td>2345793</td>\n",
       "      <td>famous romanian drinks alcoholic non alcoholic</td>\n",
       "      <td>non alcoholic restaurant huge success</td>\n",
       "      <td>25.000000</td>\n",
       "      <td>31</td>\n",
       "      <td>50</td>\n",
       "      <td>31</td>\n",
       "      <td>52</td>\n",
       "      <td>48</td>\n",
       "      <td>53</td>\n",
       "      <td>0.270295</td>\n",
       "      <td>0.316228</td>\n",
       "    </tr>\n",
       "    <tr>\n",
       "      <td>2345794</td>\n",
       "      <td>best worst things public transit proddatur andhra pradesh india improved</td>\n",
       "      <td>best worst things examination public transit visakhapatnam andhra pradesh india improved</td>\n",
       "      <td>75.000000</td>\n",
       "      <td>82</td>\n",
       "      <td>88</td>\n",
       "      <td>82</td>\n",
       "      <td>72</td>\n",
       "      <td>78</td>\n",
       "      <td>93</td>\n",
       "      <td>0.638380</td>\n",
       "      <td>0.789474</td>\n",
       "    </tr>\n",
       "    <tr>\n",
       "      <td>2345795</td>\n",
       "      <td>best medication equation erectile dysfunction</td>\n",
       "      <td>rid erectile dysfunction</td>\n",
       "      <td>33.333333</td>\n",
       "      <td>64</td>\n",
       "      <td>86</td>\n",
       "      <td>64</td>\n",
       "      <td>92</td>\n",
       "      <td>64</td>\n",
       "      <td>91</td>\n",
       "      <td>0.537254</td>\n",
       "      <td>0.507093</td>\n",
       "    </tr>\n",
       "  </tbody>\n",
       "</table>\n",
       "<p>2345796 rows × 11 columns</p>\n",
       "</div>"
      ],
      "text/plain": [
       "                                                                        question1  \\\n",
       "0        surface pro compare ipad pro                                               \n",
       "1        hair transplant age cost                                                   \n",
       "2        best way send money china                                                  \n",
       "3        food emulsifiers                                                           \n",
       "4        aberystwyth start reading                                                  \n",
       "...                            ...                                                  \n",
       "2345791  peaks series leland kill laura palmer                                      \n",
       "2345792  transit mean fedex tracking                                                \n",
       "2345793  famous romanian drinks alcoholic non alcoholic                             \n",
       "2345794  best worst things public transit proddatur andhra pradesh india improved   \n",
       "2345795  best medication equation erectile dysfunction                              \n",
       "\n",
       "                                                                                        question2  \\\n",
       "0        microsoft choose core core home surface pro                                                \n",
       "1        cost hair transplant require                                                               \n",
       "2        send money china                                                                           \n",
       "3        foods fibre                                                                                \n",
       "4        start reading                                                                              \n",
       "...                ...                                                                              \n",
       "2345791  study scene twin peaks                                                                     \n",
       "2345792  question fedex packages delivered                                                          \n",
       "2345793  non alcoholic restaurant huge success                                                      \n",
       "2345794  best worst things examination public transit visakhapatnam andhra pradesh india improved   \n",
       "2345795  rid erectile dysfunction                                                                   \n",
       "\n",
       "           Jaccard  Fuzz Ratio  Fuzz WRatio  Fuzz QRatio  Fuzz Partial Ratio  \\\n",
       "0        25.000000  31          86           31           56                   \n",
       "1        60.000000  65          86           65           72                   \n",
       "2        60.000000  78          90           78           100                  \n",
       "3        0.000000   59          59           59           55                   \n",
       "4        66.666667  68          90           68           100                  \n",
       "...            ...  ..          ..           ..           ...                  \n",
       "2345791  11.111111  17          86           17           23                   \n",
       "2345792  14.285714  47          47           47           52                   \n",
       "2345793  25.000000  31          50           31           52                   \n",
       "2345794  75.000000  82          88           82           72                   \n",
       "2345795  33.333333  64          86           64           92                   \n",
       "\n",
       "         Fuzz Token Sort Ratio  Fuzz Token Set Ratio  CosineTFIDF  CosineBin  \n",
       "0        56                     63                    0.277039     0.335410   \n",
       "1        77                     91                    0.386489     0.571429   \n",
       "2        78                     100                   0.836637     0.745356   \n",
       "3        59                     59                    0.000000     0.000000   \n",
       "4        68                     100                   0.728192     0.866025   \n",
       "...      ..                     ...                        ...          ...   \n",
       "2345791  31                     41                    0.123510     0.123091   \n",
       "2345792  37                     43                    0.134996     0.154303   \n",
       "2345793  48                     53                    0.270295     0.316228   \n",
       "2345794  78                     93                    0.638380     0.789474   \n",
       "2345795  64                     91                    0.537254     0.507093   \n",
       "\n",
       "[2345796 rows x 11 columns]"
      ]
     },
     "execution_count": 17,
     "metadata": {},
     "output_type": "execute_result"
    }
   ],
   "source": [
    "pd.read_csv('../[Data]-Quora-Question-Pairs/test_feats.csv')"
   ]
  }
 ],
 "metadata": {
  "kernelspec": {
   "display_name": "Python 3",
   "language": "python",
   "name": "python3"
  },
  "language_info": {
   "codemirror_mode": {
    "name": "ipython",
    "version": 3
   },
   "file_extension": ".py",
   "mimetype": "text/x-python",
   "name": "python",
   "nbconvert_exporter": "python",
   "pygments_lexer": "ipython3",
   "version": "3.7.3"
  },
  "toc": {
   "base_numbering": 1,
   "nav_menu": {},
   "number_sections": true,
   "sideBar": true,
   "skip_h1_title": false,
   "title_cell": "Table of Contents",
   "title_sidebar": "Contents",
   "toc_cell": false,
   "toc_position": {},
   "toc_section_display": true,
   "toc_window_display": false
  },
  "varInspector": {
   "cols": {
    "lenName": 16,
    "lenType": 16,
    "lenVar": 40
   },
   "kernels_config": {
    "python": {
     "delete_cmd_postfix": "",
     "delete_cmd_prefix": "del ",
     "library": "var_list.py",
     "varRefreshCmd": "print(var_dic_list())"
    },
    "r": {
     "delete_cmd_postfix": ") ",
     "delete_cmd_prefix": "rm(",
     "library": "var_list.r",
     "varRefreshCmd": "cat(var_dic_list()) "
    }
   },
   "position": {
    "height": "352px",
    "left": "775px",
    "right": "20px",
    "top": "17px",
    "width": "576px"
   },
   "types_to_exclude": [
    "module",
    "function",
    "builtin_function_or_method",
    "instance",
    "_Feature"
   ],
   "window_display": false
  }
 },
 "nbformat": 4,
 "nbformat_minor": 2
}
