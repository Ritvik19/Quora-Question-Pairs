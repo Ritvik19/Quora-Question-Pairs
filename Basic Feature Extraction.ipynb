{
 "cells": [
  {
   "cell_type": "markdown",
   "metadata": {},
   "source": [
    "https://www.kaggle.com/c/quora-question-pairs"
   ]
  },
  {
   "cell_type": "markdown",
   "metadata": {},
   "source": [
    "# Libraries"
   ]
  },
  {
   "cell_type": "code",
   "execution_count": 1,
   "metadata": {
    "ExecuteTime": {
     "end_time": "2019-07-02T13:02:07.511792Z",
     "start_time": "2019-07-02T13:02:04.259422Z"
    },
    "cell_style": "split"
   },
   "outputs": [],
   "source": [
    "import numpy as np\n",
    "import pandas as pd\n",
    "import matplotlib.pyplot as plt\n",
    "import seaborn as sns"
   ]
  },
  {
   "cell_type": "code",
   "execution_count": 2,
   "metadata": {
    "ExecuteTime": {
     "end_time": "2019-07-02T13:02:07.540608Z",
     "start_time": "2019-07-02T13:02:07.534725Z"
    },
    "cell_style": "split"
   },
   "outputs": [],
   "source": [
    "pd.options.display.max_colwidth = -1\n",
    "pd.options.display.max_columns = 15"
   ]
  },
  {
   "cell_type": "code",
   "execution_count": 3,
   "metadata": {
    "ExecuteTime": {
     "end_time": "2019-07-02T13:02:07.693466Z",
     "start_time": "2019-07-02T13:02:07.561789Z"
    },
    "cell_style": "split"
   },
   "outputs": [],
   "source": [
    "import pickle\n",
    "from tqdm import tqdm\n",
    "from IPython.display import clear_output"
   ]
  },
  {
   "cell_type": "markdown",
   "metadata": {},
   "source": [
    "# Data"
   ]
  },
  {
   "cell_type": "code",
   "execution_count": 4,
   "metadata": {
    "ExecuteTime": {
     "end_time": "2019-07-02T13:02:13.890046Z",
     "start_time": "2019-07-02T13:02:07.721249Z"
    }
   },
   "outputs": [],
   "source": [
    "train = pd.read_csv('../[Data]-Quora-Question-Pairs/train.csv')"
   ]
  },
  {
   "cell_type": "code",
   "execution_count": 5,
   "metadata": {
    "ExecuteTime": {
     "end_time": "2019-07-02T13:02:14.002065Z",
     "start_time": "2019-07-02T13:02:13.975193Z"
    }
   },
   "outputs": [
    {
     "data": {
      "text/html": [
       "<div>\n",
       "<style scoped>\n",
       "    .dataframe tbody tr th:only-of-type {\n",
       "        vertical-align: middle;\n",
       "    }\n",
       "\n",
       "    .dataframe tbody tr th {\n",
       "        vertical-align: top;\n",
       "    }\n",
       "\n",
       "    .dataframe thead th {\n",
       "        text-align: right;\n",
       "    }\n",
       "</style>\n",
       "<table border=\"1\" class=\"dataframe\">\n",
       "  <thead>\n",
       "    <tr style=\"text-align: right;\">\n",
       "      <th></th>\n",
       "      <th>id</th>\n",
       "      <th>qid1</th>\n",
       "      <th>qid2</th>\n",
       "      <th>question1</th>\n",
       "      <th>question2</th>\n",
       "      <th>is_duplicate</th>\n",
       "      <th>Jaccard</th>\n",
       "      <th>Fuzz Ratio</th>\n",
       "      <th>Fuzz Partial Ratio</th>\n",
       "      <th>Fuzz Token Sort Ratio</th>\n",
       "      <th>Fuzz Token Set Ratio</th>\n",
       "    </tr>\n",
       "  </thead>\n",
       "  <tbody>\n",
       "    <tr>\n",
       "      <th>0</th>\n",
       "      <td>0</td>\n",
       "      <td>1</td>\n",
       "      <td>2</td>\n",
       "      <td>What is the step by step guide to invest in share market in india?</td>\n",
       "      <td>What is the step by step guide to invest in share market?</td>\n",
       "      <td>0</td>\n",
       "      <td>83.333333</td>\n",
       "      <td>92</td>\n",
       "      <td>100</td>\n",
       "      <td>92</td>\n",
       "      <td>100</td>\n",
       "    </tr>\n",
       "    <tr>\n",
       "      <th>1</th>\n",
       "      <td>1</td>\n",
       "      <td>3</td>\n",
       "      <td>4</td>\n",
       "      <td>What is the story of Kohinoor (Koh-i-Noor) Diamond?</td>\n",
       "      <td>What would happen if the Indian government stole the Kohinoor (Koh-i-Noor) diamond back?</td>\n",
       "      <td>0</td>\n",
       "      <td>36.363636</td>\n",
       "      <td>59</td>\n",
       "      <td>94</td>\n",
       "      <td>59</td>\n",
       "      <td>89</td>\n",
       "    </tr>\n",
       "    <tr>\n",
       "      <th>2</th>\n",
       "      <td>2</td>\n",
       "      <td>5</td>\n",
       "      <td>6</td>\n",
       "      <td>How can I increase the speed of my internet connection while using a VPN?</td>\n",
       "      <td>How can Internet speed be increased by hacking through DNS?</td>\n",
       "      <td>0</td>\n",
       "      <td>22.222222</td>\n",
       "      <td>55</td>\n",
       "      <td>46</td>\n",
       "      <td>65</td>\n",
       "      <td>65</td>\n",
       "    </tr>\n",
       "    <tr>\n",
       "      <th>3</th>\n",
       "      <td>3</td>\n",
       "      <td>7</td>\n",
       "      <td>8</td>\n",
       "      <td>Why am I mentally very lonely? How can I solve it?</td>\n",
       "      <td>Find the remainder when [math]23^{24}[/math] is divided by 24,23?</td>\n",
       "      <td>0</td>\n",
       "      <td>0.000000</td>\n",
       "      <td>23</td>\n",
       "      <td>29</td>\n",
       "      <td>23</td>\n",
       "      <td>25</td>\n",
       "    </tr>\n",
       "    <tr>\n",
       "      <th>4</th>\n",
       "      <td>4</td>\n",
       "      <td>9</td>\n",
       "      <td>10</td>\n",
       "      <td>Which one dissolve in water quikly sugar, salt, methane and carbon di oxide?</td>\n",
       "      <td>Which fish would survive in salt water?</td>\n",
       "      <td>0</td>\n",
       "      <td>16.666667</td>\n",
       "      <td>26</td>\n",
       "      <td>52</td>\n",
       "      <td>42</td>\n",
       "      <td>51</td>\n",
       "    </tr>\n",
       "  </tbody>\n",
       "</table>\n",
       "</div>"
      ],
      "text/plain": [
       "   id  qid1  qid2  \\\n",
       "0  0   1     2      \n",
       "1  1   3     4      \n",
       "2  2   5     6      \n",
       "3  3   7     8      \n",
       "4  4   9     10     \n",
       "\n",
       "                                                                      question1  \\\n",
       "0  What is the step by step guide to invest in share market in india?             \n",
       "1  What is the story of Kohinoor (Koh-i-Noor) Diamond?                            \n",
       "2  How can I increase the speed of my internet connection while using a VPN?      \n",
       "3  Why am I mentally very lonely? How can I solve it?                             \n",
       "4  Which one dissolve in water quikly sugar, salt, methane and carbon di oxide?   \n",
       "\n",
       "                                                                                  question2  \\\n",
       "0  What is the step by step guide to invest in share market?                                  \n",
       "1  What would happen if the Indian government stole the Kohinoor (Koh-i-Noor) diamond back?   \n",
       "2  How can Internet speed be increased by hacking through DNS?                                \n",
       "3  Find the remainder when [math]23^{24}[/math] is divided by 24,23?                          \n",
       "4  Which fish would survive in salt water?                                                    \n",
       "\n",
       "   is_duplicate    Jaccard  Fuzz Ratio  Fuzz Partial Ratio  \\\n",
       "0  0             83.333333  92          100                  \n",
       "1  0             36.363636  59          94                   \n",
       "2  0             22.222222  55          46                   \n",
       "3  0             0.000000   23          29                   \n",
       "4  0             16.666667  26          52                   \n",
       "\n",
       "   Fuzz Token Sort Ratio  Fuzz Token Set Ratio  \n",
       "0  92                     100                   \n",
       "1  59                     89                    \n",
       "2  65                     65                    \n",
       "3  23                     25                    \n",
       "4  42                     51                    "
      ]
     },
     "execution_count": 5,
     "metadata": {},
     "output_type": "execute_result"
    }
   ],
   "source": [
    "train.head()"
   ]
  },
  {
   "cell_type": "code",
   "execution_count": 6,
   "metadata": {
    "ExecuteTime": {
     "end_time": "2019-07-02T13:02:14.413861Z",
     "start_time": "2019-07-02T13:02:14.080508Z"
    },
    "cell_style": "split"
   },
   "outputs": [
    {
     "name": "stdout",
     "output_type": "stream",
     "text": [
      "Dataset shape : (404290, 11)\n",
      "<class 'pandas.core.frame.DataFrame'>\n",
      "RangeIndex: 404290 entries, 0 to 404289\n",
      "Data columns (total 11 columns):\n",
      "id                       404290 non-null int64\n",
      "qid1                     404290 non-null int64\n",
      "qid2                     404290 non-null int64\n",
      "question1                404289 non-null object\n",
      "question2                404288 non-null object\n",
      "is_duplicate             404290 non-null int64\n",
      "Jaccard                  404290 non-null float64\n",
      "Fuzz Ratio               404290 non-null int64\n",
      "Fuzz Partial Ratio       404290 non-null int64\n",
      "Fuzz Token Sort Ratio    404290 non-null int64\n",
      "Fuzz Token Set Ratio     404290 non-null int64\n",
      "dtypes: float64(1), int64(8), object(2)\n",
      "memory usage: 33.9+ MB\n",
      "None\n"
     ]
    }
   ],
   "source": [
    "print(f'Dataset shape : {train.shape}')\n",
    "print(train.info())"
   ]
  },
  {
   "cell_type": "code",
   "execution_count": 7,
   "metadata": {
    "ExecuteTime": {
     "end_time": "2019-07-02T13:02:14.791417Z",
     "start_time": "2019-07-02T13:02:14.490679Z"
    },
    "cell_style": "split"
   },
   "outputs": [
    {
     "name": "stdout",
     "output_type": "stream",
     "text": [
      "Class Distribution\n"
     ]
    },
    {
     "data": {
      "text/plain": [
       "<matplotlib.legend.Legend at 0x2733da1e400>"
      ]
     },
     "execution_count": 7,
     "metadata": {},
     "output_type": "execute_result"
    },
    {
     "data": {
      "image/png": "[encoded data removed]",
      "text/plain": [
       "<Figure size 432x288 with 1 Axes>"
      ]
     },
     "metadata": {},
     "output_type": "display_data"
    }
   ],
   "source": [
    "print('Class Distribution')\n",
    "class_distribution = train['is_duplicate'].value_counts()\n",
    "class_distribution.plot.pie(labels=class_distribution)\n",
    "plt.legend(class_distribution.index)"
   ]
  },
  {
   "cell_type": "code",
   "execution_count": 8,
   "metadata": {
    "ExecuteTime": {
     "end_time": "2019-07-02T13:02:15.743971Z",
     "start_time": "2019-07-02T13:02:14.794409Z"
    },
    "cell_style": "center"
   },
   "outputs": [
    {
     "name": "stdout",
     "output_type": "stream",
     "text": [
      "Total number of  Unique Questions are: 537933\n",
      "Number of unique questions that appear more than one time: 111780 (20.77953945937505%)\n",
      "Max number of times a single question is repeated: 157\n"
     ]
    }
   ],
   "source": [
    "qids = pd.Series(train['qid1'].tolist() + train['qid2'].tolist())\n",
    "unique_qs = len(np.unique(qids))\n",
    "qs_morethan_onetime = np.sum(qids.value_counts() > 1)\n",
    "print (f'Total number of  Unique Questions are: {unique_qs}')\n",
    "\n",
    "print (f'Number of unique questions that appear more than one time: {qs_morethan_onetime} ({qs_morethan_onetime/unique_qs*100}%)')\n",
    "\n",
    "print (f'Max number of times a single question is repeated: {max(qids.value_counts())}') "
   ]
  },
  {
   "cell_type": "code",
   "execution_count": 9,
   "metadata": {
    "ExecuteTime": {
     "end_time": "2019-07-02T13:02:16.074725Z",
     "start_time": "2019-07-02T13:02:15.940585Z"
    },
    "cell_style": "split"
   },
   "outputs": [
    {
     "data": {
      "text/plain": [
       "<matplotlib.legend.Legend at 0x2733dd36128>"
      ]
     },
     "execution_count": 9,
     "metadata": {},
     "output_type": "execute_result"
    },
    {
     "data": {
      "image/png": "[encoded data removed]",
      "text/plain": [
       "<Figure size 432x288 with 1 Axes>"
      ]
     },
     "metadata": {},
     "output_type": "display_data"
    }
   ],
   "source": [
    "fig, ax = plt.subplots(figsize=(6, 4), subplot_kw=dict(aspect=\"equal\"))\n",
    "data = [111780, 426153]\n",
    "labels = ['unique', 'dulicate']\n",
    "def func(pct, allvals):\n",
    "    absolute = int(pct/100.*np.sum(allvals))\n",
    "    return \"{:.1f}%\\n({:d})\".format(pct, absolute)\n",
    "ax.pie(data, autopct=lambda pct: func(pct, data))\n",
    "ax.legend(labels)"
   ]
  },
  {
   "cell_type": "code",
   "execution_count": 21,
   "metadata": {
    "ExecuteTime": {
     "end_time": "2019-07-02T15:52:36.189025Z",
     "start_time": "2019-07-02T15:52:34.745113Z"
    },
    "cell_style": "split"
   },
   "outputs": [
    {
     "data": {
      "text/html": [
       "<div>\n",
       "<style scoped>\n",
       "    .dataframe tbody tr th:only-of-type {\n",
       "        vertical-align: middle;\n",
       "    }\n",
       "\n",
       "    .dataframe tbody tr th {\n",
       "        vertical-align: top;\n",
       "    }\n",
       "\n",
       "    .dataframe thead th {\n",
       "        text-align: right;\n",
       "    }\n",
       "</style>\n",
       "<table border=\"1\" class=\"dataframe\">\n",
       "  <thead>\n",
       "    <tr style=\"text-align: right;\">\n",
       "      <th></th>\n",
       "      <th>id</th>\n",
       "      <th>qid1</th>\n",
       "      <th>qid2</th>\n",
       "      <th>is_duplicate</th>\n",
       "      <th>Jaccard</th>\n",
       "      <th>Fuzz Ratio</th>\n",
       "      <th>Fuzz Partial Ratio</th>\n",
       "      <th>Fuzz Token Sort Ratio</th>\n",
       "      <th>Fuzz Token Set Ratio</th>\n",
       "    </tr>\n",
       "  </thead>\n",
       "  <tbody>\n",
       "    <tr>\n",
       "      <th>count</th>\n",
       "      <td>404290.000000</td>\n",
       "      <td>404290.000000</td>\n",
       "      <td>404290.000000</td>\n",
       "      <td>404290.000000</td>\n",
       "      <td>404290.000000</td>\n",
       "      <td>404290.000000</td>\n",
       "      <td>404290.000000</td>\n",
       "      <td>404290.000000</td>\n",
       "      <td>404290.000000</td>\n",
       "    </tr>\n",
       "    <tr>\n",
       "      <th>mean</th>\n",
       "      <td>202144.500000</td>\n",
       "      <td>217243.942418</td>\n",
       "      <td>220955.655337</td>\n",
       "      <td>0.369198</td>\n",
       "      <td>39.182791</td>\n",
       "      <td>59.991261</td>\n",
       "      <td>69.345571</td>\n",
       "      <td>63.014111</td>\n",
       "      <td>73.316454</td>\n",
       "    </tr>\n",
       "    <tr>\n",
       "      <th>std</th>\n",
       "      <td>116708.614503</td>\n",
       "      <td>157751.700002</td>\n",
       "      <td>159903.182629</td>\n",
       "      <td>0.482588</td>\n",
       "      <td>27.697872</td>\n",
       "      <td>23.138874</td>\n",
       "      <td>21.581851</td>\n",
       "      <td>21.845215</td>\n",
       "      <td>23.669998</td>\n",
       "    </tr>\n",
       "    <tr>\n",
       "      <th>min</th>\n",
       "      <td>0.000000</td>\n",
       "      <td>1.000000</td>\n",
       "      <td>2.000000</td>\n",
       "      <td>0.000000</td>\n",
       "      <td>0.000000</td>\n",
       "      <td>0.000000</td>\n",
       "      <td>0.000000</td>\n",
       "      <td>0.000000</td>\n",
       "      <td>0.000000</td>\n",
       "    </tr>\n",
       "    <tr>\n",
       "      <th>25%</th>\n",
       "      <td>101072.250000</td>\n",
       "      <td>74437.500000</td>\n",
       "      <td>74727.000000</td>\n",
       "      <td>0.000000</td>\n",
       "      <td>18.181818</td>\n",
       "      <td>42.000000</td>\n",
       "      <td>53.000000</td>\n",
       "      <td>48.000000</td>\n",
       "      <td>58.000000</td>\n",
       "    </tr>\n",
       "    <tr>\n",
       "      <th>50%</th>\n",
       "      <td>202144.500000</td>\n",
       "      <td>192182.000000</td>\n",
       "      <td>197052.000000</td>\n",
       "      <td>0.000000</td>\n",
       "      <td>33.333333</td>\n",
       "      <td>60.000000</td>\n",
       "      <td>70.000000</td>\n",
       "      <td>64.000000</td>\n",
       "      <td>78.000000</td>\n",
       "    </tr>\n",
       "    <tr>\n",
       "      <th>75%</th>\n",
       "      <td>303216.750000</td>\n",
       "      <td>346573.500000</td>\n",
       "      <td>354692.500000</td>\n",
       "      <td>1.000000</td>\n",
       "      <td>60.000000</td>\n",
       "      <td>79.000000</td>\n",
       "      <td>87.000000</td>\n",
       "      <td>80.000000</td>\n",
       "      <td>94.000000</td>\n",
       "    </tr>\n",
       "    <tr>\n",
       "      <th>max</th>\n",
       "      <td>404289.000000</td>\n",
       "      <td>537932.000000</td>\n",
       "      <td>537933.000000</td>\n",
       "      <td>1.000000</td>\n",
       "      <td>100.000000</td>\n",
       "      <td>100.000000</td>\n",
       "      <td>100.000000</td>\n",
       "      <td>100.000000</td>\n",
       "      <td>100.000000</td>\n",
       "    </tr>\n",
       "  </tbody>\n",
       "</table>\n",
       "</div>"
      ],
      "text/plain": [
       "                  id           qid1           qid2   is_duplicate  \\\n",
       "count  404290.000000  404290.000000  404290.000000  404290.000000   \n",
       "mean   202144.500000  217243.942418  220955.655337  0.369198        \n",
       "std    116708.614503  157751.700002  159903.182629  0.482588        \n",
       "min    0.000000       1.000000       2.000000       0.000000        \n",
       "25%    101072.250000  74437.500000   74727.000000   0.000000        \n",
       "50%    202144.500000  192182.000000  197052.000000  0.000000        \n",
       "75%    303216.750000  346573.500000  354692.500000  1.000000        \n",
       "max    404289.000000  537932.000000  537933.000000  1.000000        \n",
       "\n",
       "             Jaccard     Fuzz Ratio  Fuzz Partial Ratio  \\\n",
       "count  404290.000000  404290.000000  404290.000000        \n",
       "mean   39.182791      59.991261      69.345571            \n",
       "std    27.697872      23.138874      21.581851            \n",
       "min    0.000000       0.000000       0.000000             \n",
       "25%    18.181818      42.000000      53.000000            \n",
       "50%    33.333333      60.000000      70.000000            \n",
       "75%    60.000000      79.000000      87.000000            \n",
       "max    100.000000     100.000000     100.000000           \n",
       "\n",
       "       Fuzz Token Sort Ratio  Fuzz Token Set Ratio  \n",
       "count  404290.000000          404290.000000         \n",
       "mean   63.014111              73.316454             \n",
       "std    21.845215              23.669998             \n",
       "min    0.000000               0.000000              \n",
       "25%    48.000000              58.000000             \n",
       "50%    64.000000              78.000000             \n",
       "75%    80.000000              94.000000             \n",
       "max    100.000000             100.000000            "
      ]
     },
     "execution_count": 21,
     "metadata": {},
     "output_type": "execute_result"
    }
   ],
   "source": [
    "train.describe()"
   ]
  },
  {
   "cell_type": "code",
   "execution_count": 10,
   "metadata": {
    "ExecuteTime": {
     "end_time": "2019-07-02T13:02:18.807136Z",
     "start_time": "2019-07-02T13:02:16.178106Z"
    },
    "cell_style": "center"
   },
   "outputs": [
    {
     "name": "stdout",
     "output_type": "stream",
     "text": [
      "Maximum number of times a single question is repeated: 157\n",
      "\n"
     ]
    },
    {
     "data": {
      "image/png": "[encoded data removed]",
      "text/plain": [
       "<Figure size 1440x720 with 1 Axes>"
      ]
     },
     "metadata": {
      "needs_background": "light"
     },
     "output_type": "display_data"
    }
   ],
   "source": [
    "plt.figure(figsize=(20, 10))\n",
    "plt.hist(qids.value_counts(), bins=160)\n",
    "plt.yscale('log', nonposy='clip')\n",
    "plt.title('Log-Histogram of question appearance counts')\n",
    "plt.xlabel('Number of occurences of question')\n",
    "plt.ylabel('Number of questions')\n",
    "print ('Maximum number of times a single question is repeated: {}\\n'.format(max(qids.value_counts()))) "
   ]
  },
  {
   "cell_type": "code",
   "execution_count": 11,
   "metadata": {
    "ExecuteTime": {
     "end_time": "2019-07-02T13:02:43.632848Z",
     "start_time": "2019-07-02T13:02:18.911106Z"
    }
   },
   "outputs": [],
   "source": [
    "test = pd.read_csv('../[Data]-Quora-Question-Pairs/test.csv')"
   ]
  },
  {
   "cell_type": "code",
   "execution_count": 12,
   "metadata": {
    "ExecuteTime": {
     "end_time": "2019-07-02T13:02:43.787454Z",
     "start_time": "2019-07-02T13:02:43.766755Z"
    }
   },
   "outputs": [
    {
     "data": {
      "text/html": [
       "<div>\n",
       "<style scoped>\n",
       "    .dataframe tbody tr th:only-of-type {\n",
       "        vertical-align: middle;\n",
       "    }\n",
       "\n",
       "    .dataframe tbody tr th {\n",
       "        vertical-align: top;\n",
       "    }\n",
       "\n",
       "    .dataframe thead th {\n",
       "        text-align: right;\n",
       "    }\n",
       "</style>\n",
       "<table border=\"1\" class=\"dataframe\">\n",
       "  <thead>\n",
       "    <tr style=\"text-align: right;\">\n",
       "      <th></th>\n",
       "      <th>test_id</th>\n",
       "      <th>question1</th>\n",
       "      <th>question2</th>\n",
       "      <th>Jaccard</th>\n",
       "      <th>Fuzz Ratio</th>\n",
       "      <th>Fuzz Partial Ratio</th>\n",
       "      <th>Fuzz Token Sort Ratio</th>\n",
       "    </tr>\n",
       "  </thead>\n",
       "  <tbody>\n",
       "    <tr>\n",
       "      <th>0</th>\n",
       "      <td>0</td>\n",
       "      <td>How does the Surface Pro himself 4 compare with iPad Pro?</td>\n",
       "      <td>Why did Microsoft choose core m3 and not core i3 home Surface Pro 4?</td>\n",
       "      <td>25.000000</td>\n",
       "      <td>31</td>\n",
       "      <td>56</td>\n",
       "      <td>56</td>\n",
       "    </tr>\n",
       "    <tr>\n",
       "      <th>1</th>\n",
       "      <td>1</td>\n",
       "      <td>Should I have a hair transplant at age 24? How much would it cost?</td>\n",
       "      <td>How much cost does hair transplant require?</td>\n",
       "      <td>57.142857</td>\n",
       "      <td>53</td>\n",
       "      <td>55</td>\n",
       "      <td>74</td>\n",
       "    </tr>\n",
       "    <tr>\n",
       "      <th>2</th>\n",
       "      <td>2</td>\n",
       "      <td>What but is the best way to send money from China to the US?</td>\n",
       "      <td>What you send money to China?</td>\n",
       "      <td>60.000000</td>\n",
       "      <td>78</td>\n",
       "      <td>100</td>\n",
       "      <td>78</td>\n",
       "    </tr>\n",
       "    <tr>\n",
       "      <th>3</th>\n",
       "      <td>3</td>\n",
       "      <td>Which food not emulsifiers?</td>\n",
       "      <td>What foods fibre?</td>\n",
       "      <td>0.000000</td>\n",
       "      <td>59</td>\n",
       "      <td>55</td>\n",
       "      <td>59</td>\n",
       "    </tr>\n",
       "    <tr>\n",
       "      <th>4</th>\n",
       "      <td>4</td>\n",
       "      <td>How \"aberystwyth\" start reading?</td>\n",
       "      <td>How their can I start reading?</td>\n",
       "      <td>66.666667</td>\n",
       "      <td>68</td>\n",
       "      <td>100</td>\n",
       "      <td>68</td>\n",
       "    </tr>\n",
       "  </tbody>\n",
       "</table>\n",
       "</div>"
      ],
      "text/plain": [
       "   test_id  \\\n",
       "0  0         \n",
       "1  1         \n",
       "2  2         \n",
       "3  3         \n",
       "4  4         \n",
       "\n",
       "                                                            question1  \\\n",
       "0  How does the Surface Pro himself 4 compare with iPad Pro?            \n",
       "1  Should I have a hair transplant at age 24? How much would it cost?   \n",
       "2  What but is the best way to send money from China to the US?         \n",
       "3  Which food not emulsifiers?                                          \n",
       "4  How \"aberystwyth\" start reading?                                     \n",
       "\n",
       "                                                              question2  \\\n",
       "0  Why did Microsoft choose core m3 and not core i3 home Surface Pro 4?   \n",
       "1  How much cost does hair transplant require?                            \n",
       "2  What you send money to China?                                          \n",
       "3  What foods fibre?                                                      \n",
       "4  How their can I start reading?                                         \n",
       "\n",
       "     Jaccard  Fuzz Ratio  Fuzz Partial Ratio  Fuzz Token Sort Ratio  \n",
       "0  25.000000  31          56                  56                     \n",
       "1  57.142857  53          55                  74                     \n",
       "2  60.000000  78          100                 78                     \n",
       "3  0.000000   59          55                  59                     \n",
       "4  66.666667  68          100                 68                     "
      ]
     },
     "execution_count": 12,
     "metadata": {},
     "output_type": "execute_result"
    }
   ],
   "source": [
    "test.head()"
   ]
  },
  {
   "cell_type": "code",
   "execution_count": 13,
   "metadata": {
    "ExecuteTime": {
     "end_time": "2019-07-02T13:02:43.928262Z",
     "start_time": "2019-07-02T13:02:43.911245Z"
    },
    "cell_style": "split"
   },
   "outputs": [
    {
     "name": "stdout",
     "output_type": "stream",
     "text": [
      "Dataset shape : (2345796, 7)\n",
      "<class 'pandas.core.frame.DataFrame'>\n",
      "RangeIndex: 2345796 entries, 0 to 2345795\n",
      "Data columns (total 7 columns):\n",
      "test_id                  int64\n",
      "question1                object\n",
      "question2                object\n",
      "Jaccard                  float64\n",
      "Fuzz Ratio               int64\n",
      "Fuzz Partial Ratio       int64\n",
      "Fuzz Token Sort Ratio    int64\n",
      "dtypes: float64(1), int64(4), object(2)\n",
      "memory usage: 125.3+ MB\n",
      "None\n"
     ]
    }
   ],
   "source": [
    "print(f'Dataset shape : {test.shape}')\n",
    "print(test.info())"
   ]
  },
  {
   "cell_type": "code",
   "execution_count": 22,
   "metadata": {
    "ExecuteTime": {
     "end_time": "2019-07-02T15:52:53.872726Z",
     "start_time": "2019-07-02T15:52:50.985473Z"
    },
    "cell_style": "split"
   },
   "outputs": [
    {
     "data": {
      "text/html": [
       "<div>\n",
       "<style scoped>\n",
       "    .dataframe tbody tr th:only-of-type {\n",
       "        vertical-align: middle;\n",
       "    }\n",
       "\n",
       "    .dataframe tbody tr th {\n",
       "        vertical-align: top;\n",
       "    }\n",
       "\n",
       "    .dataframe thead th {\n",
       "        text-align: right;\n",
       "    }\n",
       "</style>\n",
       "<table border=\"1\" class=\"dataframe\">\n",
       "  <thead>\n",
       "    <tr style=\"text-align: right;\">\n",
       "      <th></th>\n",
       "      <th>test_id</th>\n",
       "      <th>Jaccard</th>\n",
       "      <th>Fuzz Ratio</th>\n",
       "      <th>Fuzz Partial Ratio</th>\n",
       "      <th>Fuzz Token Sort Ratio</th>\n",
       "      <th>Fuzz Token Set Ratio</th>\n",
       "    </tr>\n",
       "  </thead>\n",
       "  <tbody>\n",
       "    <tr>\n",
       "      <th>count</th>\n",
       "      <td>2.345796e+06</td>\n",
       "      <td>2.345796e+06</td>\n",
       "      <td>2.345796e+06</td>\n",
       "      <td>2.345796e+06</td>\n",
       "      <td>2.345796e+06</td>\n",
       "      <td>2.345796e+06</td>\n",
       "    </tr>\n",
       "    <tr>\n",
       "      <th>mean</th>\n",
       "      <td>1.172898e+06</td>\n",
       "      <td>2.464228e+01</td>\n",
       "      <td>4.742607e+01</td>\n",
       "      <td>5.899389e+01</td>\n",
       "      <td>5.028367e+01</td>\n",
       "      <td>6.064068e+01</td>\n",
       "    </tr>\n",
       "    <tr>\n",
       "      <th>std</th>\n",
       "      <td>6.771731e+05</td>\n",
       "      <td>2.075722e+01</td>\n",
       "      <td>2.015959e+01</td>\n",
       "      <td>2.072624e+01</td>\n",
       "      <td>1.971516e+01</td>\n",
       "      <td>2.460596e+01</td>\n",
       "    </tr>\n",
       "    <tr>\n",
       "      <th>min</th>\n",
       "      <td>0.000000e+00</td>\n",
       "      <td>0.000000e+00</td>\n",
       "      <td>0.000000e+00</td>\n",
       "      <td>0.000000e+00</td>\n",
       "      <td>0.000000e+00</td>\n",
       "      <td>0.000000e+00</td>\n",
       "    </tr>\n",
       "    <tr>\n",
       "      <th>25%</th>\n",
       "      <td>5.864488e+05</td>\n",
       "      <td>9.090909e+00</td>\n",
       "      <td>3.200000e+01</td>\n",
       "      <td>4.400000e+01</td>\n",
       "      <td>3.700000e+01</td>\n",
       "      <td>4.300000e+01</td>\n",
       "    </tr>\n",
       "    <tr>\n",
       "      <th>50%</th>\n",
       "      <td>1.172898e+06</td>\n",
       "      <td>2.000000e+01</td>\n",
       "      <td>4.600000e+01</td>\n",
       "      <td>5.800000e+01</td>\n",
       "      <td>5.100000e+01</td>\n",
       "      <td>6.200000e+01</td>\n",
       "    </tr>\n",
       "    <tr>\n",
       "      <th>75%</th>\n",
       "      <td>1.759346e+06</td>\n",
       "      <td>3.636364e+01</td>\n",
       "      <td>6.200000e+01</td>\n",
       "      <td>7.300000e+01</td>\n",
       "      <td>6.400000e+01</td>\n",
       "      <td>7.900000e+01</td>\n",
       "    </tr>\n",
       "    <tr>\n",
       "      <th>max</th>\n",
       "      <td>2.345795e+06</td>\n",
       "      <td>1.000000e+02</td>\n",
       "      <td>1.000000e+02</td>\n",
       "      <td>1.000000e+02</td>\n",
       "      <td>1.000000e+02</td>\n",
       "      <td>1.000000e+02</td>\n",
       "    </tr>\n",
       "  </tbody>\n",
       "</table>\n",
       "</div>"
      ],
      "text/plain": [
       "            test_id       Jaccard    Fuzz Ratio  Fuzz Partial Ratio  \\\n",
       "count  2.345796e+06  2.345796e+06  2.345796e+06  2.345796e+06         \n",
       "mean   1.172898e+06  2.464228e+01  4.742607e+01  5.899389e+01         \n",
       "std    6.771731e+05  2.075722e+01  2.015959e+01  2.072624e+01         \n",
       "min    0.000000e+00  0.000000e+00  0.000000e+00  0.000000e+00         \n",
       "25%    5.864488e+05  9.090909e+00  3.200000e+01  4.400000e+01         \n",
       "50%    1.172898e+06  2.000000e+01  4.600000e+01  5.800000e+01         \n",
       "75%    1.759346e+06  3.636364e+01  6.200000e+01  7.300000e+01         \n",
       "max    2.345795e+06  1.000000e+02  1.000000e+02  1.000000e+02         \n",
       "\n",
       "       Fuzz Token Sort Ratio  Fuzz Token Set Ratio  \n",
       "count  2.345796e+06           2.345796e+06          \n",
       "mean   5.028367e+01           6.064068e+01          \n",
       "std    1.971516e+01           2.460596e+01          \n",
       "min    0.000000e+00           0.000000e+00          \n",
       "25%    3.700000e+01           4.300000e+01          \n",
       "50%    5.100000e+01           6.200000e+01          \n",
       "75%    6.400000e+01           7.900000e+01          \n",
       "max    1.000000e+02           1.000000e+02          "
      ]
     },
     "execution_count": 22,
     "metadata": {},
     "output_type": "execute_result"
    }
   ],
   "source": [
    "test.describe()"
   ]
  },
  {
   "cell_type": "markdown",
   "metadata": {},
   "source": [
    "# Data Cleaning"
   ]
  },
  {
   "cell_type": "code",
   "execution_count": 14,
   "metadata": {
    "ExecuteTime": {
     "end_time": "2019-07-02T13:02:44.437017Z",
     "start_time": "2019-07-02T13:02:44.061928Z"
    }
   },
   "outputs": [
    {
     "name": "stdout",
     "output_type": "stream",
     "text": [
      "Merging all questions\n"
     ]
    },
    {
     "data": {
      "text/plain": [
       "0    What is the step by step guide to invest in share market in india?          \n",
       "1    What is the story of Kohinoor (Koh-i-Noor) Diamond?                         \n",
       "2    How can I increase the speed of my internet connection while using a VPN?   \n",
       "3    Why am I mentally very lonely? How can I solve it?                          \n",
       "4    Which one dissolve in water quikly sugar, salt, methane and carbon di oxide?\n",
       "dtype: object"
      ]
     },
     "execution_count": 14,
     "metadata": {},
     "output_type": "execute_result"
    }
   ],
   "source": [
    "print('Merging all questions')\n",
    "all_question = pd.concat([train['question1'], train['question2'], test['question1'], test['question2']], axis=0)\n",
    "all_question = all_question.reset_index(drop=True)\n",
    "all_question.head()"
   ]
  },
  {
   "cell_type": "code",
   "execution_count": 15,
   "metadata": {
    "ExecuteTime": {
     "end_time": "2019-07-02T13:02:45.620846Z",
     "start_time": "2019-07-02T13:02:44.591987Z"
    }
   },
   "outputs": [],
   "source": [
    "import nltk, re\n",
    "from nltk.stem.porter import PorterStemmer\n",
    "from nltk.stem import WordNetLemmatizer\n",
    "\n",
    "def spell_correct(text):\n",
    "    text = re.sub(r\"can\\'t\", \"can not\", text)\n",
    "    text = re.sub(r\"what's\", \"what is \", text)\n",
    "    text = re.sub(r\"\\'s\", \" \", text)\n",
    "    text = re.sub(r\"\\'ve\", \" have \", text)\n",
    "    text = re.sub(r\"n't\", \" not \", text)\n",
    "    text = re.sub(r\"i'm\", \"i am \", text)\n",
    "    text = re.sub(r\"\\'re\", \" are \", text)\n",
    "    text = re.sub(r\"\\'d\", \" would \", text)\n",
    "    text = re.sub(r\"\\'ll\", \" will \", text)\n",
    "    text = re.sub(r\"\\0s\", \"0\", text)    \n",
    "    return text\n",
    "\n",
    "def remove_url(text):\n",
    "    URL_REGEX = re.compile(r'''((http[s]?://)[^ <>'\"{}|\\\\^`[\\]]*)''')\n",
    "    return URL_REGEX.sub(r' ', text)\n",
    "\n",
    "def remove_handles(text):\n",
    "    HANDLES_REGEX = re.compile(r'@\\S+')\n",
    "    return HANDLES_REGEX.sub(r' ', text)\n",
    "\n",
    "def remove_incomplete_last_word(text):\n",
    "    INCOMPLETE_LAST_WORD_REGEX = re.compile(r'\\S+…')\n",
    "    return INCOMPLETE_LAST_WORD_REGEX.sub(r' ', text )\n",
    "    \n",
    "def remove_hashtags(text):\n",
    "    HASHTAGS_REGEX = re.compile(r'#\\S+')\n",
    "    return HASHTAGS_REGEX.sub(r' ', text)\n",
    "\n",
    "remove_punc = lambda x : re.sub(r\"\\W\", ' ', x)\n",
    "\n",
    "remove_num = lambda x : re.sub(r\"\\d\", ' ', x)\n",
    "\n",
    "remove_extra_spaces = lambda x : re.sub(r\"\\s+\", ' ', x)\n",
    "\n",
    "lower_case = lambda x : x.lower()\n",
    "\n",
    "remove_shortwords = lambda x: ' '.join(word for word in x.split() if len(word) > 2)\n",
    "\n",
    "with open('stopwords.txt') as f:\n",
    "    sw = map(lambda x : x.strip(), f.readlines())\n",
    "stop_words = set(nltk.corpus.stopwords.words('english'))|set(sw)\n",
    "remove_stopwords = lambda x: ' '.join(word for word in x.split() if word not in stop_words)\n",
    "\n",
    "ps = PorterStemmer()\n",
    "ps_stem = lambda x: ' '.join(ps.stem(word) for word in x.split())\n",
    "\n",
    "wnl = WordNetLemmatizer()\n",
    "wnl_lemmatize = lambda x: ' '.join(wnl.lemmatize(word) for word in x.split())\n",
    "\n",
    "def tag_pos(x):\n",
    "    tag_list =  nltk.pos_tag(nltk.word_tokenize(x))\n",
    "    pos = \"\"\n",
    "    for t in tag_list:\n",
    "        pos += t[0] +'(' + t[1] +')' + ' '\n",
    "    return pos\n",
    "\n",
    "def cleanText(x, rsw, stm, lem, tgps):\n",
    "    x = str(x)\n",
    "    x = remove_url(x)\n",
    "    x = remove_handles(x)\n",
    "    x = remove_incomplete_last_word(x)\n",
    "    x = remove_hashtags(x)\n",
    "    x = lower_case(x)\n",
    "    x = spell_correct(x)\n",
    "    x = remove_punc(x)\n",
    "    x = remove_num(x)\n",
    "    x = remove_extra_spaces(x)\n",
    "    x = remove_shortwords(x)\n",
    "    \n",
    "    if rsw:\n",
    "        x = remove_stopwords(x)\n",
    "    if stm:\n",
    "        x = ps_stem(x)\n",
    "    if lem:\n",
    "        x = wnl_lemmatize(x)\n",
    "    if tgps:\n",
    "        x = tag_pos(x)\n",
    "    return x"
   ]
  },
  {
   "cell_type": "code",
   "execution_count": 16,
   "metadata": {
    "ExecuteTime": {
     "end_time": "2019-07-02T13:10:13.532264Z",
     "start_time": "2019-07-02T13:02:45.772822Z"
    }
   },
   "outputs": [
    {
     "name": "stderr",
     "output_type": "stream",
     "text": [
      "100%|█████████████████████████████████████████████████████████████████████| 5500172/5500172 [07:27<00:00, 12284.16it/s]\n"
     ]
    }
   ],
   "source": [
    "tqdm.pandas()\n",
    "all_question = all_question.progress_apply(lambda x : cleanText(x, True, False, False, False))"
   ]
  },
  {
   "cell_type": "code",
   "execution_count": 17,
   "metadata": {
    "ExecuteTime": {
     "end_time": "2019-07-02T13:10:13.844974Z",
     "start_time": "2019-07-02T13:10:13.716462Z"
    }
   },
   "outputs": [],
   "source": [
    "train_q1 = all_question[:404290]\n",
    "train_q2 = all_question[404290:2*404290].reset_index(drop=True)\n",
    "test_q1 = all_question[2*404290:2*404290+2345796].reset_index(drop=True)\n",
    "test_q2 = all_question[2*404290+2345796:].reset_index(drop=True)"
   ]
  },
  {
   "cell_type": "markdown",
   "metadata": {},
   "source": [
    "# Basic Feature Extraction\n",
    "* Jaccard Similarity\n",
    "* Fuzz Ratio\n",
    "* Fuzz Partial Ratio\n",
    "* Fuzz Token Sort Ratio\n",
    "* Fuzz Token Set Ratio"
   ]
  },
  {
   "cell_type": "markdown",
   "metadata": {},
   "source": [
    "**Jaccard Similarity**"
   ]
  },
  {
   "cell_type": "code",
   "execution_count": 18,
   "metadata": {
    "ExecuteTime": {
     "end_time": "2019-07-01T14:27:33.092438Z",
     "start_time": "2019-07-01T14:27:33.084460Z"
    }
   },
   "outputs": [],
   "source": [
    "def jaccard_similarity(q1, q2):\n",
    "    q1 = set(q1.split())\n",
    "    q2 = set(q2.split())\n",
    "    try:\n",
    "        return (len(q1&q2)/len(q1|q2))*100\n",
    "    except:\n",
    "        return 0"
   ]
  },
  {
   "cell_type": "code",
   "execution_count": 19,
   "metadata": {
    "ExecuteTime": {
     "end_time": "2019-07-01T14:52:06.900045Z",
     "start_time": "2019-07-01T14:27:33.290908Z"
    }
   },
   "outputs": [
    {
     "name": "stdout",
     "output_type": "stream",
     "text": [
      "404272/ 404290"
     ]
    }
   ],
   "source": [
    "jaccard_train = []\n",
    "i=1\n",
    "for q1, q2 in zip(train_q1, train_q2):\n",
    "    print(f'{i:{6}}/ 404290')\n",
    "    i+=1\n",
    "    jaccard_train.append(jaccard_similarity(q1, q2))\n",
    "    clear_output(wait=True)\n",
    "train['Jaccard'] = jaccard_train"
   ]
  },
  {
   "cell_type": "code",
   "execution_count": 26,
   "metadata": {
    "ExecuteTime": {
     "end_time": "2019-07-01T18:58:03.505445Z",
     "start_time": "2019-07-01T16:48:36.987070Z"
    }
   },
   "outputs": [
    {
     "name": "stdout",
     "output_type": "stream",
     "text": [
      "2345796/ 2345796\n"
     ]
    }
   ],
   "source": [
    "jaccard_test = []\n",
    "i=1\n",
    "for q1, q2 in zip(test_q1, test_q2):\n",
    "    print(f'{i:{7}}/ 2345796')\n",
    "    i+=1\n",
    "    jaccard_test.append(jaccard_similarity(q1, q2))\n",
    "    clear_output(wait=True)\n",
    "test['Jaccard'] = jaccard_test"
   ]
  },
  {
   "cell_type": "markdown",
   "metadata": {},
   "source": [
    "**Fuzzy String Matching**"
   ]
  },
  {
   "cell_type": "code",
   "execution_count": 18,
   "metadata": {
    "ExecuteTime": {
     "end_time": "2019-07-02T13:10:14.290197Z",
     "start_time": "2019-07-02T13:10:14.020877Z"
    }
   },
   "outputs": [
    {
     "name": "stderr",
     "output_type": "stream",
     "text": [
      "D:\\Users\\Ritvik\\Anaconda3\\envs\\datascience\\lib\\site-packages\\fuzzywuzzy\\fuzz.py:11: UserWarning: Using slow pure-python SequenceMatcher. Install python-Levenshtein to remove this warning\n",
      "  warnings.warn('Using slow pure-python SequenceMatcher. Install python-Levenshtein to remove this warning')\n"
     ]
    }
   ],
   "source": [
    "from fuzzywuzzy import fuzz"
   ]
  },
  {
   "cell_type": "markdown",
   "metadata": {
    "ExecuteTime": {
     "end_time": "2019-06-30T07:14:13.338409Z",
     "start_time": "2019-06-30T07:14:13.332428Z"
    }
   },
   "source": [
    "**Fuzz Ratio**"
   ]
  },
  {
   "cell_type": "code",
   "execution_count": 21,
   "metadata": {
    "ExecuteTime": {
     "end_time": "2019-07-01T15:18:44.215790Z",
     "start_time": "2019-07-01T14:52:10.809375Z"
    }
   },
   "outputs": [
    {
     "name": "stdout",
     "output_type": "stream",
     "text": [
      "404228/ 404290"
     ]
    }
   ],
   "source": [
    "f_ratio_train = []\n",
    "i=1\n",
    "for q1, q2 in zip(train_q1, train_q2):\n",
    "    print(f'{i:{6}}/ 404290')\n",
    "    i+=1\n",
    "    try:\n",
    "        f_ratio_train.append(fuzz.ratio(q1, q2))\n",
    "    except:\n",
    "        f_ratio_train.append(0)\n",
    "    clear_output(wait=True)\n",
    "train['Fuzz Ratio'] = f_ratio_train"
   ]
  },
  {
   "cell_type": "code",
   "execution_count": 27,
   "metadata": {
    "ExecuteTime": {
     "end_time": "2019-07-01T21:06:11.657862Z",
     "start_time": "2019-07-01T18:58:12.812550Z"
    }
   },
   "outputs": [
    {
     "name": "stdout",
     "output_type": "stream",
     "text": [
      "2345786/ 2345796\n"
     ]
    }
   ],
   "source": [
    "f_ratio_test = []\n",
    "i=1\n",
    "for q1, q2 in zip(test_q1, test_q2):\n",
    "    print(f'{i:{7}}/ 2345796')\n",
    "    i+=1\n",
    "    try:\n",
    "        f_ratio_test.append(fuzz.ratio(q1, q2))\n",
    "    except:\n",
    "        f_ratio_test.append(0)\n",
    "    clear_output(wait=True)\n",
    "test['Fuzz Ratio'] = f_ratio_test"
   ]
  },
  {
   "cell_type": "markdown",
   "metadata": {},
   "source": [
    "**Fuzz Partial Ratio**"
   ]
  },
  {
   "cell_type": "code",
   "execution_count": 22,
   "metadata": {
    "ExecuteTime": {
     "end_time": "2019-07-01T15:53:14.478491Z",
     "start_time": "2019-07-01T15:18:46.303206Z"
    }
   },
   "outputs": [
    {
     "name": "stdout",
     "output_type": "stream",
     "text": [
      "404081/ 404290\n"
     ]
    }
   ],
   "source": [
    "f_partial_ratio_train = []\n",
    "i=1\n",
    "for q1, q2 in zip(train_q1, train_q2):\n",
    "    print(f'{i:{6}}/ 404290')\n",
    "    i+=1\n",
    "    try:\n",
    "        f_partial_ratio_train.append(fuzz.partial_ratio(q1, q2))\n",
    "    except:\n",
    "        f_partial_ratio_train.append(0)\n",
    "    clear_output(wait=True)\n",
    "train['Fuzz Partial Ratio'] = f_partial_ratio_train"
   ]
  },
  {
   "cell_type": "code",
   "execution_count": 28,
   "metadata": {
    "ExecuteTime": {
     "end_time": "2019-07-02T00:02:59.422945Z",
     "start_time": "2019-07-01T21:06:21.383849Z"
    }
   },
   "outputs": [
    {
     "name": "stdout",
     "output_type": "stream",
     "text": [
      "2345659/ 2345796\n"
     ]
    }
   ],
   "source": [
    "f_partial_ratio_test = []\n",
    "i=1\n",
    "for q1, q2 in zip(test_q1, test_q2):\n",
    "    print(f'{i:{7}}/ 2345796')\n",
    "    i+=1\n",
    "    try:\n",
    "        f_partial_ratio_test.append(fuzz.partial_ratio(q1, q2))\n",
    "    except:\n",
    "        f_partial_ratio_test.append(0)\n",
    "    clear_output(wait=True)\n",
    "test['Fuzz Partial Ratio'] = f_partial_ratio_test"
   ]
  },
  {
   "cell_type": "markdown",
   "metadata": {},
   "source": [
    "**Fuzz Token Sort Ratio**"
   ]
  },
  {
   "cell_type": "code",
   "execution_count": 23,
   "metadata": {
    "ExecuteTime": {
     "end_time": "2019-07-01T16:19:52.705581Z",
     "start_time": "2019-07-01T15:53:16.833194Z"
    }
   },
   "outputs": [
    {
     "name": "stdout",
     "output_type": "stream",
     "text": [
      "404290/ 404290\n"
     ]
    }
   ],
   "source": [
    "f_token_sort_ratio_train = []\n",
    "i=1\n",
    "for q1, q2 in zip(train_q1, train_q2):\n",
    "    print(f'{i:{6}}/ 404290')\n",
    "    i+=1\n",
    "    try:\n",
    "        f_token_sort_ratio_train.append(fuzz.token_sort_ratio(q1, q2))\n",
    "    except:\n",
    "        f_token_sort_ratio_train.append(0)\n",
    "    clear_output(wait=True)\n",
    "train['Fuzz Token Sort Ratio'] = f_token_sort_ratio_train"
   ]
  },
  {
   "cell_type": "code",
   "execution_count": 29,
   "metadata": {
    "ExecuteTime": {
     "end_time": "2019-07-02T02:26:53.564402Z",
     "start_time": "2019-07-02T00:03:09.667231Z"
    }
   },
   "outputs": [
    {
     "name": "stdout",
     "output_type": "stream",
     "text": [
      "2345796/ 2345796\n"
     ]
    }
   ],
   "source": [
    "f_token_sort_ratio_test = []\n",
    "i=1\n",
    "for q1, q2 in zip(test_q1, test_q2):\n",
    "    print(f'{i:{7}}/ 2345796')\n",
    "    i+=1\n",
    "    try:\n",
    "        f_token_sort_ratio_test.append(fuzz.token_sort_ratio(q1, q2))\n",
    "    except:\n",
    "        f_token_sort_ratio_test.append(0)\n",
    "    clear_output(wait=True)\n",
    "test['Fuzz Token Sort Ratio'] = f_token_sort_ratio_test"
   ]
  },
  {
   "cell_type": "markdown",
   "metadata": {},
   "source": [
    "**Fuzz Token Set Ratio**"
   ]
  },
  {
   "cell_type": "code",
   "execution_count": 24,
   "metadata": {
    "ExecuteTime": {
     "end_time": "2019-07-01T16:47:26.822735Z",
     "start_time": "2019-07-01T16:19:55.260752Z"
    }
   },
   "outputs": [
    {
     "name": "stdout",
     "output_type": "stream",
     "text": [
      "403963/ 404290\n"
     ]
    }
   ],
   "source": [
    "f_token_set_ratio_train = []\n",
    "i=1\n",
    "for q1, q2 in zip(train_q1, train_q2):\n",
    "    print(f'{i:{6}}/ 404290')\n",
    "    i+=1\n",
    "    try:\n",
    "        f_token_set_ratio_train.append(fuzz.token_set_ratio(q1, q2))\n",
    "    except:\n",
    "        f_token_set_ratio_train.append(0)\n",
    "    clear_output(wait=True)\n",
    "train['Fuzz Token Set Ratio'] = f_token_set_ratio_train"
   ]
  },
  {
   "cell_type": "code",
   "execution_count": 19,
   "metadata": {
    "ExecuteTime": {
     "end_time": "2019-07-02T15:48:43.962649Z",
     "start_time": "2019-07-02T13:10:14.492722Z"
    }
   },
   "outputs": [
    {
     "name": "stdout",
     "output_type": "stream",
     "text": [
      "2345796/ 2345796\n"
     ]
    }
   ],
   "source": [
    "f_token_set_ratio_test = []\n",
    "i=1\n",
    "for q1, q2 in zip(test_q1, test_q2):\n",
    "    print(f'{i:{7}}/ 2345796')\n",
    "    i+=1\n",
    "    try:\n",
    "        f_token_set_ratio_test.append(fuzz.token_set_ratio(q1, q2))\n",
    "    except:\n",
    "        f_token_set_ratio_test.append(0)\n",
    "    clear_output(wait=True)\n",
    "test['Fuzz Token Set Ratio'] = f_token_set_ratio_test"
   ]
  },
  {
   "cell_type": "code",
   "execution_count": 20,
   "metadata": {
    "ExecuteTime": {
     "end_time": "2019-07-02T15:50:50.178016Z",
     "start_time": "2019-07-02T15:49:28.566927Z"
    }
   },
   "outputs": [],
   "source": [
    "train.to_csv('../[Data]-Quora-Question-Pairs/train.csv', index=False)\n",
    "test.to_csv('../[Data]-Quora-Question-Pairs/test.csv', index=False)"
   ]
  },
  {
   "cell_type": "markdown",
   "metadata": {},
   "source": [
    "# Visualizations"
   ]
  },
  {
   "cell_type": "code",
   "execution_count": 23,
   "metadata": {
    "ExecuteTime": {
     "end_time": "2019-07-02T16:12:48.987082Z",
     "start_time": "2019-07-02T16:12:01.789415Z"
    }
   },
   "outputs": [
    {
     "data": {
      "text/plain": [
       "is_duplicate\n",
       "0    AxesSubplot(0.125,0.125;0.775x0.755)\n",
       "1    AxesSubplot(0.125,0.125;0.775x0.755)\n",
       "Name: Jaccard, dtype: object"
      ]
     },
     "execution_count": 23,
     "metadata": {},
     "output_type": "execute_result"
    },
    {
     "data": {
      "image/png": "[encoded data removed]",
      "text/plain": [
       "<Figure size 432x288 with 1 Axes>"
      ]
     },
     "metadata": {
      "needs_background": "light"
     },
     "output_type": "display_data"
    }
   ],
   "source": [
    "train.groupby('is_duplicate')['Jaccard'].plot(kind='density', legend=True)"
   ]
  },
  {
   "cell_type": "code",
   "execution_count": 24,
   "metadata": {
    "ExecuteTime": {
     "end_time": "2019-07-02T16:14:25.091391Z",
     "start_time": "2019-07-02T16:13:30.057587Z"
    }
   },
   "outputs": [
    {
     "data": {
      "text/plain": [
       "is_duplicate\n",
       "0    AxesSubplot(0.125,0.125;0.775x0.755)\n",
       "1    AxesSubplot(0.125,0.125;0.775x0.755)\n",
       "Name: Fuzz Ratio, dtype: object"
      ]
     },
     "execution_count": 24,
     "metadata": {},
     "output_type": "execute_result"
    },
    {
     "data": {
      "image/png": "[encoded data removed]",
      "text/plain": [
       "<Figure size 432x288 with 1 Axes>"
      ]
     },
     "metadata": {
      "needs_background": "light"
     },
     "output_type": "display_data"
    }
   ],
   "source": [
    "train.groupby('is_duplicate')['Fuzz Ratio'].plot(kind='density', legend=True)"
   ]
  },
  {
   "cell_type": "code",
   "execution_count": 25,
   "metadata": {
    "ExecuteTime": {
     "end_time": "2019-07-02T16:15:24.508863Z",
     "start_time": "2019-07-02T16:14:26.701086Z"
    }
   },
   "outputs": [
    {
     "data": {
      "text/plain": [
       "is_duplicate\n",
       "0    AxesSubplot(0.125,0.125;0.775x0.755)\n",
       "1    AxesSubplot(0.125,0.125;0.775x0.755)\n",
       "Name: Fuzz Partial Ratio, dtype: object"
      ]
     },
     "execution_count": 25,
     "metadata": {},
     "output_type": "execute_result"
    },
    {
     "data": {
      "image/png": "[encoded data removed]",
      "text/plain": [
       "<Figure size 432x288 with 1 Axes>"
      ]
     },
     "metadata": {
      "needs_background": "light"
     },
     "output_type": "display_data"
    }
   ],
   "source": [
    "train.groupby('is_duplicate')['Fuzz Partial Ratio'].plot(kind='density', legend=True)"
   ]
  },
  {
   "cell_type": "code",
   "execution_count": 26,
   "metadata": {
    "ExecuteTime": {
     "end_time": "2019-07-02T16:16:22.356675Z",
     "start_time": "2019-07-02T16:15:25.990781Z"
    }
   },
   "outputs": [
    {
     "data": {
      "text/plain": [
       "is_duplicate\n",
       "0    AxesSubplot(0.125,0.125;0.775x0.755)\n",
       "1    AxesSubplot(0.125,0.125;0.775x0.755)\n",
       "Name: Fuzz Token Sort Ratio, dtype: object"
      ]
     },
     "execution_count": 26,
     "metadata": {},
     "output_type": "execute_result"
    },
    {
     "data": {
      "image/png": "[encoded data removed]",
      "text/plain": [
       "<Figure size 432x288 with 1 Axes>"
      ]
     },
     "metadata": {
      "needs_background": "light"
     },
     "output_type": "display_data"
    }
   ],
   "source": [
    "train.groupby('is_duplicate')['Fuzz Token Sort Ratio'].plot(kind='density', legend=True)"
   ]
  },
  {
   "cell_type": "code",
   "execution_count": 27,
   "metadata": {
    "ExecuteTime": {
     "end_time": "2019-07-02T16:17:19.517801Z",
     "start_time": "2019-07-02T16:16:23.893635Z"
    }
   },
   "outputs": [
    {
     "data": {
      "text/plain": [
       "is_duplicate\n",
       "0    AxesSubplot(0.125,0.125;0.775x0.755)\n",
       "1    AxesSubplot(0.125,0.125;0.775x0.755)\n",
       "Name: Fuzz Token Set Ratio, dtype: object"
      ]
     },
     "execution_count": 27,
     "metadata": {},
     "output_type": "execute_result"
    },
    {
     "data": {
      "image/png": "[encoded data removed]",
      "text/plain": [
       "<Figure size 432x288 with 1 Axes>"
      ]
     },
     "metadata": {
      "needs_background": "light"
     },
     "output_type": "display_data"
    }
   ],
   "source": [
    "train.groupby('is_duplicate')['Fuzz Token Set Ratio'].plot(kind='density', legend=True)"
   ]
  },
  {
   "cell_type": "code",
   "execution_count": 32,
   "metadata": {
    "ExecuteTime": {
     "end_time": "2019-07-02T17:42:38.788455Z",
     "start_time": "2019-07-02T17:42:38.246313Z"
    }
   },
   "outputs": [
    {
     "data": {
      "text/plain": [
       "<matplotlib.axes._subplots.AxesSubplot at 0x2732e2a6940>"
      ]
     },
     "execution_count": 32,
     "metadata": {},
     "output_type": "execute_result"
    },
    {
     "data": {
      "image/png": "[encoded data removed]",
      "text/plain": [
       "<Figure size 864x576 with 2 Axes>"
      ]
     },
     "metadata": {
      "needs_background": "light"
     },
     "output_type": "display_data"
    }
   ],
   "source": [
    "ax = plt.subplots(figsize=(12,8))\n",
    "sns.heatmap(train[['Jaccard', 'Fuzz Ratio', 'Fuzz Partial Ratio', 'Fuzz Token Sort Ratio', 'Fuzz Token Set Ratio', 'is_duplicate']].corr(), cmap='RdBu')"
   ]
  },
  {
   "cell_type": "markdown",
   "metadata": {},
   "source": [
    "# Data Preparation"
   ]
  },
  {
   "cell_type": "code",
   "execution_count": 33,
   "metadata": {
    "ExecuteTime": {
     "end_time": "2019-07-02T17:44:12.477560Z",
     "start_time": "2019-07-02T17:44:12.472011Z"
    }
   },
   "outputs": [],
   "source": [
    "from sklearn.metrics import classification_report, confusion_matrix\n",
    "from sklearn.model_selection import train_test_split"
   ]
  },
  {
   "cell_type": "code",
   "execution_count": 35,
   "metadata": {
    "ExecuteTime": {
     "end_time": "2019-07-02T17:44:32.085742Z",
     "start_time": "2019-07-02T17:44:31.891648Z"
    }
   },
   "outputs": [],
   "source": [
    "X_train, X_test, y_train, y_test = train_test_split(train[['Jaccard', 'Fuzz Ratio', 'Fuzz Partial Ratio', \n",
    "                                                    'Fuzz Token Sort Ratio', 'Fuzz Token Set Ratio']], train['is_duplicate'])"
   ]
  },
  {
   "cell_type": "markdown",
   "metadata": {},
   "source": [
    "# Machine Learning"
   ]
  },
  {
   "cell_type": "markdown",
   "metadata": {},
   "source": [
    "## Logistic Regression"
   ]
  },
  {
   "cell_type": "code",
   "execution_count": 36,
   "metadata": {
    "ExecuteTime": {
     "end_time": "2019-07-02T17:45:06.501864Z",
     "start_time": "2019-07-02T17:45:06.496126Z"
    }
   },
   "outputs": [],
   "source": [
    "from sklearn.linear_model import LogisticRegression"
   ]
  },
  {
   "cell_type": "code",
   "execution_count": 40,
   "metadata": {
    "ExecuteTime": {
     "end_time": "2019-07-02T17:50:34.617344Z",
     "start_time": "2019-07-02T17:50:21.863448Z"
    }
   },
   "outputs": [
    {
     "name": "stderr",
     "output_type": "stream",
     "text": [
      "D:\\Users\\Ritvik\\Anaconda3\\envs\\datascience\\lib\\site-packages\\sklearn\\linear_model\\logistic.py:433: FutureWarning: Default solver will be changed to 'lbfgs' in 0.22. Specify a solver to silence this warning.\n",
      "  FutureWarning)\n"
     ]
    },
    {
     "name": "stdout",
     "output_type": "stream",
     "text": [
      "[[48923 18184]\n",
      " [14888 19078]]\n",
      "              precision    recall  f1-score   support\n",
      "\n",
      "           0       0.77      0.73      0.75     67107\n",
      "           1       0.51      0.56      0.54     33966\n",
      "\n",
      "   micro avg       0.67      0.67      0.67    101073\n",
      "   macro avg       0.64      0.65      0.64    101073\n",
      "weighted avg       0.68      0.67      0.68    101073\n",
      "\n"
     ]
    }
   ],
   "source": [
    "model = LogisticRegression(penalty='l1', C=0.1)\n",
    "model.fit(X_train, y_train)\n",
    "y_pred = model.predict(X_test)\n",
    "print(confusion_matrix(y_pred, y_test))\n",
    "print(classification_report(y_pred, y_test))"
   ]
  },
  {
   "cell_type": "code",
   "execution_count": 44,
   "metadata": {
    "ExecuteTime": {
     "end_time": "2019-07-02T17:57:36.087918Z",
     "start_time": "2019-07-02T17:57:13.721776Z"
    }
   },
   "outputs": [
    {
     "name": "stderr",
     "output_type": "stream",
     "text": [
      "D:\\Users\\Ritvik\\Anaconda3\\envs\\datascience\\lib\\site-packages\\sklearn\\linear_model\\logistic.py:433: FutureWarning: Default solver will be changed to 'lbfgs' in 0.22. Specify a solver to silence this warning.\n",
      "  FutureWarning)\n"
     ]
    }
   ],
   "source": [
    "model = LogisticRegression()\n",
    "model.fit(train[['Jaccard', 'Fuzz Ratio', 'Fuzz Partial Ratio', 'Fuzz Token Sort Ratio', 'Fuzz Token Set Ratio']],train['is_duplicate'])\n",
    "y_pred = model.predict(test[['Jaccard', 'Fuzz Ratio', 'Fuzz Partial Ratio', 'Fuzz Token Sort Ratio', 'Fuzz Token Set Ratio']])\n",
    "submission = pd.read_csv('../[Data]-Quora-Question-Pairs/sample_submission.csv')\n",
    "submission['is_duplicate'] = y_pred\n",
    "submission.to_csv('../[Data]-Quora-Question-Pairs/LR-FeatExt.csv', index=False)"
   ]
  },
  {
   "cell_type": "code",
   "execution_count": null,
   "metadata": {},
   "outputs": [],
   "source": []
  }
 ],
 "metadata": {
  "kernelspec": {
   "display_name": "Python 3",
   "language": "python",
   "name": "python3"
  },
  "language_info": {
   "codemirror_mode": {
    "name": "ipython",
    "version": 3
   },
   "file_extension": ".py",
   "mimetype": "text/x-python",
   "name": "python",
   "nbconvert_exporter": "python",
   "pygments_lexer": "ipython3",
   "version": "3.7.3"
  },
  "toc": {
   "base_numbering": 1,
   "nav_menu": {},
   "number_sections": true,
   "sideBar": true,
   "skip_h1_title": false,
   "title_cell": "Table of Contents",
   "title_sidebar": "Contents",
   "toc_cell": false,
   "toc_position": {},
   "toc_section_display": true,
   "toc_window_display": false
  },
  "varInspector": {
   "cols": {
    "lenName": 16,
    "lenType": 16,
    "lenVar": 40
   },
   "kernels_config": {
    "python": {
     "delete_cmd_postfix": "",
     "delete_cmd_prefix": "del ",
     "library": "var_list.py",
     "varRefreshCmd": "print(var_dic_list())"
    },
    "r": {
     "delete_cmd_postfix": ") ",
     "delete_cmd_prefix": "rm(",
     "library": "var_list.r",
     "varRefreshCmd": "cat(var_dic_list()) "
    }
   },
   "types_to_exclude": [
    "module",
    "function",
    "builtin_function_or_method",
    "instance",
    "_Feature"
   ],
   "window_display": false
  }
 },
 "nbformat": 4,
 "nbformat_minor": 2
}
