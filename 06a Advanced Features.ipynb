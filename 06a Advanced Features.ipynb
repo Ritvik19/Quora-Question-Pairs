{
 "cells": [
  {
   "cell_type": "code",
   "execution_count": 1,
   "metadata": {
    "ExecuteTime": {
     "end_time": "2020-04-29T15:12:41.402463Z",
     "start_time": "2020-04-29T15:12:41.397473Z"
    }
   },
   "outputs": [],
   "source": [
    "import warnings\n",
    "warnings.filterwarnings(\"ignore\")"
   ]
  },
  {
   "cell_type": "code",
   "execution_count": 2,
   "metadata": {
    "ExecuteTime": {
     "end_time": "2020-04-29T15:12:52.361514Z",
     "start_time": "2020-04-29T15:12:41.407447Z"
    }
   },
   "outputs": [],
   "source": [
    "import numpy as np\n",
    "import pandas as pd\n",
    "import matplotlib.pyplot as plt\n",
    "import seaborn as sns\n",
    "\n",
    "from tqdm.auto import tqdm\n",
    "from IPython.display import clear_output\n",
    "\n",
    "tqdm.pandas()\n",
    "pd.options.display.max_colwidth = -1\n",
    "pd.options.display.max_columns = 25"
   ]
  },
  {
   "cell_type": "code",
   "execution_count": 3,
   "metadata": {
    "ExecuteTime": {
     "end_time": "2020-04-29T15:12:54.932676Z",
     "start_time": "2020-04-29T15:12:52.364540Z"
    }
   },
   "outputs": [],
   "source": [
    "from dsutils.eda import *\n",
    "from dsutils.stats import *\n",
    "from dsutils.ml import *"
   ]
  },
  {
   "cell_type": "code",
   "execution_count": 4,
   "metadata": {
    "ExecuteTime": {
     "end_time": "2020-04-29T15:13:01.311259Z",
     "start_time": "2020-04-29T15:12:54.947556Z"
    }
   },
   "outputs": [],
   "source": [
    "import re\n",
    "from nltk.corpus import stopwords\n",
    "from nltk.stem import PorterStemmer\n",
    "from bs4 import BeautifulSoup\n",
    "STOP_WORDS = stopwords.words(\"english\")\n",
    "ps = PorterStemmer()"
   ]
  },
  {
   "cell_type": "code",
   "execution_count": 5,
   "metadata": {
    "ExecuteTime": {
     "end_time": "2020-04-29T15:13:01.356057Z",
     "start_time": "2020-04-29T15:13:01.321158Z"
    }
   },
   "outputs": [],
   "source": [
    "def preprocess(x):\n",
    "    x = str(x).lower()\n",
    "    x = x.replace(\",000,000\", \"m\").replace(\",000\", \"k\").replace(\"′\", \"'\").replace(\"’\", \"'\")\\\n",
    "                           .replace(\"won't\", \"will not\").replace(\"cannot\", \"can not\").replace(\"can't\", \"can not\")\\\n",
    "                           .replace(\"n't\", \" not\").replace(\"what's\", \"what is\").replace(\"it's\", \"it is\")\\\n",
    "                           .replace(\"'ve\", \" have\").replace(\"i'm\", \"i am\").replace(\"'re\", \" are\")\\\n",
    "                           .replace(\"he's\", \"he is\").replace(\"she's\", \"she is\").replace(\"'s\", \" own\")\\\n",
    "                           .replace(\"%\", \" percent \").replace(\"₹\", \" rupee \").replace(\"$\", \" dollar \")\\\n",
    "                           .replace(\"€\", \" euro \").replace(\"'ll\", \" will\")\n",
    "    x = re.sub(r\"([0-9]+)000000\", r\"\\1m\", x)\n",
    "    x = re.sub(r\"([0-9]+)000\", r\"\\1k\", x)\n",
    "    \n",
    "    x = re.sub(r'\\W', ' ', str(x))\n",
    "    \n",
    "    x = re.sub(r\"\\s+\", ' ', str(x))\n",
    "    \n",
    "    x = ' '.join(ps.stem(word) for word in x.split())\n",
    "    \n",
    "    soup = BeautifulSoup(str(x))\n",
    "    x = soup.get_text()\n",
    "\n",
    "    x = ' '.join([word for word in x.split() if word not in STOP_WORDS])\n",
    "    \n",
    "    return x"
   ]
  },
  {
   "cell_type": "code",
   "execution_count": 6,
   "metadata": {
    "ExecuteTime": {
     "end_time": "2020-04-29T15:13:10.339556Z",
     "start_time": "2020-04-29T15:13:01.361045Z"
    }
   },
   "outputs": [],
   "source": [
    "q1train = pd.read_csv('fuzzy_features_clean.csv', usecols=['q1_clean'])"
   ]
  },
  {
   "cell_type": "code",
   "execution_count": 7,
   "metadata": {
    "ExecuteTime": {
     "end_time": "2020-04-29T15:13:11.654056Z",
     "start_time": "2020-04-29T15:13:10.342549Z"
    }
   },
   "outputs": [],
   "source": [
    "q2train = pd.read_csv('fuzzy_features_clean.csv', usecols=['q2_clean'])"
   ]
  },
  {
   "cell_type": "code",
   "execution_count": 8,
   "metadata": {
    "ExecuteTime": {
     "end_time": "2020-04-29T15:41:58.071360Z",
     "start_time": "2020-04-29T15:13:11.656038Z"
    }
   },
   "outputs": [
    {
     "data": {
      "application/vnd.jupyter.widget-view+json": {
       "model_id": "91a6cc2d1f074c35aa33f245f0030ee4",
       "version_major": 2,
       "version_minor": 0
      },
      "text/plain": [
       "HBox(children=(IntProgress(value=0, max=2345796), HTML(value='')))"
      ]
     },
     "metadata": {},
     "output_type": "display_data"
    },
    {
     "name": "stdout",
     "output_type": "stream",
     "text": [
      "\n"
     ]
    }
   ],
   "source": [
    "q1test = pd.read_csv('test.csv', usecols=['question1'])\n",
    "q1test['question1'] = q1test['question1'].progress_apply(preprocess)"
   ]
  },
  {
   "cell_type": "code",
   "execution_count": 9,
   "metadata": {
    "ExecuteTime": {
     "end_time": "2020-04-29T16:09:23.637678Z",
     "start_time": "2020-04-29T15:41:58.076342Z"
    }
   },
   "outputs": [
    {
     "data": {
      "application/vnd.jupyter.widget-view+json": {
       "model_id": "0cdbb34540914a73882d5bfc7487c113",
       "version_major": 2,
       "version_minor": 0
      },
      "text/plain": [
       "HBox(children=(IntProgress(value=0, max=2345796), HTML(value='')))"
      ]
     },
     "metadata": {},
     "output_type": "display_data"
    },
    {
     "name": "stdout",
     "output_type": "stream",
     "text": [
      "\n"
     ]
    }
   ],
   "source": [
    "q2test = pd.read_csv('test.csv', usecols=['question2'])\n",
    "q2test['question2'] = q2test['question2'].progress_apply(preprocess)"
   ]
  },
  {
   "cell_type": "code",
   "execution_count": 10,
   "metadata": {
    "ExecuteTime": {
     "end_time": "2020-04-29T16:09:23.648650Z",
     "start_time": "2020-04-29T16:09:23.640673Z"
    }
   },
   "outputs": [],
   "source": [
    "q1train.columns = ['question']\n",
    "q2train.columns = ['question']\n",
    "q1test.columns = ['question']\n",
    "q2test.columns = ['question']"
   ]
  },
  {
   "cell_type": "code",
   "execution_count": 11,
   "metadata": {
    "ExecuteTime": {
     "end_time": "2020-04-29T16:09:24.283982Z",
     "start_time": "2020-04-29T16:09:23.651643Z"
    }
   },
   "outputs": [],
   "source": [
    "questions = pd.concat([q1train, q2train, q1test, q2test]).reset_index(drop=True)"
   ]
  },
  {
   "cell_type": "code",
   "execution_count": 12,
   "metadata": {
    "ExecuteTime": {
     "end_time": "2020-04-29T16:09:40.765223Z",
     "start_time": "2020-04-29T16:09:24.285950Z"
    }
   },
   "outputs": [
    {
     "data": {
      "application/vnd.jupyter.widget-view+json": {
       "model_id": "c3afa9de07314d888c31ee1b5d5a5815",
       "version_major": 2,
       "version_minor": 0
      },
      "text/plain": [
       "HBox(children=(IntProgress(value=0, max=5499984), HTML(value='')))"
      ]
     },
     "metadata": {},
     "output_type": "display_data"
    },
    {
     "name": "stdout",
     "output_type": "stream",
     "text": [
      "\n",
      "         min  1st  25th  50th  75th  99th  max  mean   std\n",
      "overall  0    1.0  4.0   5.0   7.0   17.0  108  5.99  3.38\n"
     ]
    }
   ],
   "source": [
    "questions['len'] = questions['question'].progress_apply(lambda x : len(str(x).split()))\n",
    "print(feature_distribution(questions, 'len', None))"
   ]
  },
  {
   "cell_type": "code",
   "execution_count": 13,
   "metadata": {
    "ExecuteTime": {
     "end_time": "2020-04-29T16:09:40.773202Z",
     "start_time": "2020-04-29T16:09:40.768215Z"
    }
   },
   "outputs": [],
   "source": [
    "from sklearn.feature_extraction.text import CountVectorizer, TfidfVectorizer"
   ]
  },
  {
   "cell_type": "code",
   "execution_count": 14,
   "metadata": {
    "ExecuteTime": {
     "end_time": "2020-04-29T16:09:40.908838Z",
     "start_time": "2020-04-29T16:09:40.776194Z"
    }
   },
   "outputs": [],
   "source": [
    "import pickle"
   ]
  },
  {
   "cell_type": "code",
   "execution_count": 15,
   "metadata": {
    "ExecuteTime": {
     "end_time": "2020-04-29T16:09:42.655603Z",
     "start_time": "2020-04-29T16:09:40.910834Z"
    }
   },
   "outputs": [
    {
     "name": "stdout",
     "output_type": "stream",
     "text": [
      "5499984\n",
      "5479881\n"
     ]
    }
   ],
   "source": [
    "print(len(questions))\n",
    "questions.drop(questions[questions['len'] == 0].index, inplace=True)\n",
    "questions.dropna(inplace=True)\n",
    "print(len(questions))"
   ]
  },
  {
   "cell_type": "code",
   "execution_count": 16,
   "metadata": {
    "ExecuteTime": {
     "end_time": "2020-04-29T16:10:36.913011Z",
     "start_time": "2020-04-29T16:09:42.658593Z"
    }
   },
   "outputs": [],
   "source": [
    "cv = CountVectorizer(binary=True)\n",
    "cv.fit(questions['question'])\n",
    "pickle.dump(cv, open('BinaryCountVectorizer.pkl', 'wb'))"
   ]
  },
  {
   "cell_type": "code",
   "execution_count": 17,
   "metadata": {
    "ExecuteTime": {
     "end_time": "2020-04-29T16:11:30.070181Z",
     "start_time": "2020-04-29T16:10:36.915944Z"
    }
   },
   "outputs": [],
   "source": [
    "tv = TfidfVectorizer(sublinear_tf=True)\n",
    "tv.fit(questions['question'])\n",
    "pickle.dump(tv, open('TfidfVectorizer.pkl', 'wb'))"
   ]
  }
 ],
 "metadata": {
  "kernelspec": {
   "display_name": "Python 3",
   "language": "python",
   "name": "python3"
  },
  "language_info": {
   "codemirror_mode": {
    "name": "ipython",
    "version": 3
   },
   "file_extension": ".py",
   "mimetype": "text/x-python",
   "name": "python",
   "nbconvert_exporter": "python",
   "pygments_lexer": "ipython3",
   "version": "3.7.3"
  },
  "toc": {
   "base_numbering": 1,
   "nav_menu": {},
   "number_sections": true,
   "sideBar": true,
   "skip_h1_title": false,
   "title_cell": "Table of Contents",
   "title_sidebar": "Contents",
   "toc_cell": false,
   "toc_position": {},
   "toc_section_display": true,
   "toc_window_display": false
  },
  "varInspector": {
   "cols": {
    "lenName": 16,
    "lenType": 16,
    "lenVar": 40
   },
   "kernels_config": {
    "python": {
     "delete_cmd_postfix": "",
     "delete_cmd_prefix": "del ",
     "library": "var_list.py",
     "varRefreshCmd": "print(var_dic_list())"
    },
    "r": {
     "delete_cmd_postfix": ") ",
     "delete_cmd_prefix": "rm(",
     "library": "var_list.r",
     "varRefreshCmd": "cat(var_dic_list()) "
    }
   },
   "types_to_exclude": [
    "module",
    "function",
    "builtin_function_or_method",
    "instance",
    "_Feature"
   ],
   "window_display": false
  }
 },
 "nbformat": 4,
 "nbformat_minor": 2
}
