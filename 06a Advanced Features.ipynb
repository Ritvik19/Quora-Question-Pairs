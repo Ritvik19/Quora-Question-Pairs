{
 "cells": [
  {
   "cell_type": "code",
   "execution_count": 1,
   "metadata": {
    "ExecuteTime": {
     "end_time": "2020-04-29T10:02:44.001342Z",
     "start_time": "2020-04-29T10:02:43.995356Z"
    }
   },
   "outputs": [],
   "source": [
    "import warnings\n",
    "warnings.filterwarnings(\"ignore\")"
   ]
  },
  {
   "cell_type": "code",
   "execution_count": 2,
   "metadata": {
    "ExecuteTime": {
     "end_time": "2020-04-29T10:02:59.011545Z",
     "start_time": "2020-04-29T10:02:44.005813Z"
    }
   },
   "outputs": [],
   "source": [
    "import numpy as np\n",
    "import pandas as pd\n",
    "import matplotlib.pyplot as plt\n",
    "import seaborn as sns\n",
    "\n",
    "from tqdm.auto import tqdm\n",
    "from IPython.display import clear_output\n",
    "\n",
    "tqdm.pandas()\n",
    "pd.options.display.max_colwidth = -1\n",
    "pd.options.display.max_columns = 25"
   ]
  },
  {
   "cell_type": "code",
   "execution_count": 3,
   "metadata": {
    "ExecuteTime": {
     "end_time": "2020-04-29T10:03:00.725399Z",
     "start_time": "2020-04-29T10:02:59.031056Z"
    }
   },
   "outputs": [],
   "source": [
    "from dsutils.eda import *\n",
    "from dsutils.stats import *\n",
    "from dsutils.ml import *"
   ]
  },
  {
   "cell_type": "code",
   "execution_count": 4,
   "metadata": {
    "ExecuteTime": {
     "end_time": "2020-04-29T10:03:06.464996Z",
     "start_time": "2020-04-29T10:03:00.737429Z"
    }
   },
   "outputs": [],
   "source": [
    "import re\n",
    "from nltk.corpus import stopwords\n",
    "from nltk.stem import PorterStemmer\n",
    "from bs4 import BeautifulSoup\n",
    "STOP_WORDS = stopwords.words(\"english\")\n",
    "ps = PorterStemmer()"
   ]
  },
  {
   "cell_type": "code",
   "execution_count": 5,
   "metadata": {
    "ExecuteTime": {
     "end_time": "2020-04-29T10:03:06.557365Z",
     "start_time": "2020-04-29T10:03:06.475432Z"
    }
   },
   "outputs": [],
   "source": [
    "def preprocess(x):\n",
    "    x = str(x).lower()\n",
    "    x = x.replace(\",000,000\", \"m\").replace(\",000\", \"k\").replace(\"′\", \"'\").replace(\"’\", \"'\")\\\n",
    "                           .replace(\"won't\", \"will not\").replace(\"cannot\", \"can not\").replace(\"can't\", \"can not\")\\\n",
    "                           .replace(\"n't\", \" not\").replace(\"what's\", \"what is\").replace(\"it's\", \"it is\")\\\n",
    "                           .replace(\"'ve\", \" have\").replace(\"i'm\", \"i am\").replace(\"'re\", \" are\")\\\n",
    "                           .replace(\"he's\", \"he is\").replace(\"she's\", \"she is\").replace(\"'s\", \" own\")\\\n",
    "                           .replace(\"%\", \" percent \").replace(\"₹\", \" rupee \").replace(\"$\", \" dollar \")\\\n",
    "                           .replace(\"€\", \" euro \").replace(\"'ll\", \" will\")\n",
    "    x = re.sub(r\"([0-9]+)000000\", r\"\\1m\", x)\n",
    "    x = re.sub(r\"([0-9]+)000\", r\"\\1k\", x)\n",
    "    \n",
    "    x = re.sub(r'\\W', ' ', str(x))\n",
    "    \n",
    "    x = re.sub(r\"\\s+\", ' ', str(x))\n",
    "    \n",
    "    x = ' '.join(ps.stem(word) for word in x.split())\n",
    "    \n",
    "    soup = BeautifulSoup(str(x))\n",
    "    x = soup.get_text()\n",
    "\n",
    "    x = ' '.join([word for word in x.split() if word not in STOP_WORDS])\n",
    "    \n",
    "    return x"
   ]
  },
  {
   "cell_type": "code",
   "execution_count": 6,
   "metadata": {
    "ExecuteTime": {
     "end_time": "2020-04-29T10:03:19.546424Z",
     "start_time": "2020-04-29T10:03:06.567041Z"
    }
   },
   "outputs": [],
   "source": [
    "q1train = pd.read_csv('fuzzy_features_clean.csv', usecols=['q1_clean'])"
   ]
  },
  {
   "cell_type": "code",
   "execution_count": 7,
   "metadata": {
    "ExecuteTime": {
     "end_time": "2020-04-29T10:03:21.525465Z",
     "start_time": "2020-04-29T10:03:19.552974Z"
    }
   },
   "outputs": [],
   "source": [
    "q2train = pd.read_csv('fuzzy_features_clean.csv', usecols=['q2_clean'])"
   ]
  },
  {
   "cell_type": "code",
   "execution_count": 8,
   "metadata": {
    "ExecuteTime": {
     "end_time": "2020-04-29T10:51:54.607665Z",
     "start_time": "2020-04-29T10:03:21.531461Z"
    }
   },
   "outputs": [
    {
     "data": {
      "application/vnd.jupyter.widget-view+json": {
       "model_id": "736fbd48b6f04161b03fedbc5b1902e6",
       "version_major": 2,
       "version_minor": 0
      },
      "text/plain": [
       "HBox(children=(IntProgress(value=0, max=2345796), HTML(value='')))"
      ]
     },
     "metadata": {},
     "output_type": "display_data"
    },
    {
     "name": "stdout",
     "output_type": "stream",
     "text": [
      "\n"
     ]
    }
   ],
   "source": [
    "q1test = pd.read_csv('test.csv', usecols=['question1'])\n",
    "q1test['question1'] = q1test['question1'].progress_apply(preprocess)"
   ]
  },
  {
   "cell_type": "code",
   "execution_count": 9,
   "metadata": {
    "ExecuteTime": {
     "end_time": "2020-04-29T11:28:27.395357Z",
     "start_time": "2020-04-29T10:51:54.611710Z"
    }
   },
   "outputs": [
    {
     "data": {
      "application/vnd.jupyter.widget-view+json": {
       "model_id": "429ee9ac827b4565a926a9e2f062fc25",
       "version_major": 2,
       "version_minor": 0
      },
      "text/plain": [
       "HBox(children=(IntProgress(value=0, max=2345796), HTML(value='')))"
      ]
     },
     "metadata": {},
     "output_type": "display_data"
    },
    {
     "name": "stdout",
     "output_type": "stream",
     "text": [
      "\n"
     ]
    }
   ],
   "source": [
    "q2test = pd.read_csv('test.csv', usecols=['question2'])\n",
    "q2test['question2'] = q2test['question2'].progress_apply(preprocess)"
   ]
  },
  {
   "cell_type": "code",
   "execution_count": 10,
   "metadata": {
    "ExecuteTime": {
     "end_time": "2020-04-29T11:28:27.404336Z",
     "start_time": "2020-04-29T11:28:27.397353Z"
    }
   },
   "outputs": [],
   "source": [
    "q1train.columns = ['question']\n",
    "q2train.columns = ['question']\n",
    "q1test.columns = ['question']\n",
    "q2test.columns = ['question']"
   ]
  },
  {
   "cell_type": "code",
   "execution_count": 11,
   "metadata": {
    "ExecuteTime": {
     "end_time": "2020-04-29T11:28:28.061875Z",
     "start_time": "2020-04-29T11:28:27.409323Z"
    }
   },
   "outputs": [],
   "source": [
    "questions = pd.concat([q1train, q2train, q1test, q2test]).reset_index(drop=True)"
   ]
  },
  {
   "cell_type": "code",
   "execution_count": 12,
   "metadata": {
    "ExecuteTime": {
     "end_time": "2020-04-29T11:28:49.649591Z",
     "start_time": "2020-04-29T11:28:28.063871Z"
    }
   },
   "outputs": [
    {
     "data": {
      "application/vnd.jupyter.widget-view+json": {
       "model_id": "81e23a8061c1486ebf3b7fe299f3bc3d",
       "version_major": 2,
       "version_minor": 0
      },
      "text/plain": [
       "HBox(children=(IntProgress(value=0, max=5499984), HTML(value='')))"
      ]
     },
     "metadata": {},
     "output_type": "display_data"
    },
    {
     "name": "stdout",
     "output_type": "stream",
     "text": [
      "\n",
      "         min  1st  25th  50th  75th  99th  max  mean   std\n",
      "overall  0    1.0  4.0   5.0   7.0   17.0  108  5.99  3.38\n"
     ]
    }
   ],
   "source": [
    "questions['len'] = questions['question'].progress_apply(lambda x : len(str(x).split()))\n",
    "print(feature_distribution(questions, 'len', None))"
   ]
  },
  {
   "cell_type": "code",
   "execution_count": 13,
   "metadata": {
    "ExecuteTime": {
     "end_time": "2020-04-29T11:28:49.660563Z",
     "start_time": "2020-04-29T11:28:49.652583Z"
    }
   },
   "outputs": [],
   "source": [
    "from sklearn.feature_extraction.text import CountVectorizer, TfidfVectorizer"
   ]
  },
  {
   "cell_type": "code",
   "execution_count": 14,
   "metadata": {
    "ExecuteTime": {
     "end_time": "2020-04-29T11:28:49.797229Z",
     "start_time": "2020-04-29T11:28:49.663555Z"
    }
   },
   "outputs": [],
   "source": [
    "import pickle"
   ]
  },
  {
   "cell_type": "code",
   "execution_count": 15,
   "metadata": {
    "ExecuteTime": {
     "end_time": "2020-04-29T11:28:52.037589Z",
     "start_time": "2020-04-29T11:28:49.838119Z"
    }
   },
   "outputs": [
    {
     "name": "stdout",
     "output_type": "stream",
     "text": [
      "5499984\n",
      "5479881\n"
     ]
    }
   ],
   "source": [
    "print(len(questions))\n",
    "questions.drop(questions[questions['len'] == 0].index, inplace=True)\n",
    "questions.dropna(inplace=True)\n",
    "print(len(questions))"
   ]
  },
  {
   "cell_type": "code",
   "execution_count": 16,
   "metadata": {
    "ExecuteTime": {
     "end_time": "2020-04-29T11:29:54.322708Z",
     "start_time": "2020-04-29T11:28:52.045574Z"
    }
   },
   "outputs": [],
   "source": [
    "cv = CountVectorizer(binary=True)\n",
    "cv.fit(questions['question'])\n",
    "pickle.dump(cv, open('BinaryCountVectorizer.pkl', 'wb'))"
   ]
  },
  {
   "cell_type": "code",
   "execution_count": 17,
   "metadata": {
    "ExecuteTime": {
     "end_time": "2020-04-29T11:59:53.198725Z",
     "start_time": "2020-04-29T11:29:54.325691Z"
    }
   },
   "outputs": [],
   "source": [
    "tv = TfidfVectorizer(ngram_range=(1, 3), sublinear_tf=True)\n",
    "tv.fit(questions['question'])\n",
    "pickle.dump(tv, open('TfidfVectorizer.pkl', 'wb'))"
   ]
  }
 ],
 "metadata": {
  "kernelspec": {
   "display_name": "Python 3",
   "language": "python",
   "name": "python3"
  },
  "language_info": {
   "codemirror_mode": {
    "name": "ipython",
    "version": 3
   },
   "file_extension": ".py",
   "mimetype": "text/x-python",
   "name": "python",
   "nbconvert_exporter": "python",
   "pygments_lexer": "ipython3",
   "version": "3.7.3"
  },
  "toc": {
   "base_numbering": 1,
   "nav_menu": {},
   "number_sections": true,
   "sideBar": true,
   "skip_h1_title": false,
   "title_cell": "Table of Contents",
   "title_sidebar": "Contents",
   "toc_cell": false,
   "toc_position": {},
   "toc_section_display": true,
   "toc_window_display": false
  },
  "varInspector": {
   "cols": {
    "lenName": 16,
    "lenType": 16,
    "lenVar": 40
   },
   "kernels_config": {
    "python": {
     "delete_cmd_postfix": "",
     "delete_cmd_prefix": "del ",
     "library": "var_list.py",
     "varRefreshCmd": "print(var_dic_list())"
    },
    "r": {
     "delete_cmd_postfix": ") ",
     "delete_cmd_prefix": "rm(",
     "library": "var_list.r",
     "varRefreshCmd": "cat(var_dic_list()) "
    }
   },
   "types_to_exclude": [
    "module",
    "function",
    "builtin_function_or_method",
    "instance",
    "_Feature"
   ],
   "window_display": false
  }
 },
 "nbformat": 4,
 "nbformat_minor": 2
}
